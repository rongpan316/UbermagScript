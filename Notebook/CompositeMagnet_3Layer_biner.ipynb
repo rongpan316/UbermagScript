{
 "cells": [
  {
   "cell_type": "markdown",
   "metadata": {},
   "source": [
    "# Simulation for a Hysteresis Loop for <font color=red>Multiple Layers (Auto) </font>\n",
    "\n",
    "### Composite magnet with <font color=blue>hard/soft/hard layers</font>\n",
    "- Magnetic hard layers: Nd$_2$Fe$_{14}$B magnets\n",
    "* Magnetic soft layers: $\\alpha$-Fe"
   ]
  },
  {
   "cell_type": "markdown",
   "metadata": {},
   "source": [
    "## Define geometry region and mesh cells: <font color=red>Hard/Soft/Hard 3 layer structure</font>"
   ]
  },
  {
   "cell_type": "code",
   "execution_count": 1,
   "metadata": {},
   "outputs": [
    {
     "data": {
      "application/vnd.jupyter.widget-view+json": {
       "model_id": "2b7aa866de7848129aecc41f5d5658a7",
       "version_major": 2,
       "version_minor": 0
      },
      "text/plain": [
       "Output()"
      ]
     },
     "metadata": {},
     "output_type": "display_data"
    },
    {
     "name": "stderr",
     "output_type": "stream",
     "text": [
      "C:\\Users\\crong\\Anaconda3\\lib\\site-packages\\traittypes\\traittypes.py:97: UserWarning: Given trait value dtype \"float64\" does not match required type \"uint32\". A coerced copy has been created.\n",
      "  warnings.warn(\n"
     ]
    }
   ],
   "source": [
    "import oommfc as mc\n",
    "\n",
    "import discretisedfield as df\n",
    "import micromagneticmodel as mm\n",
    "import numpy as np\n",
    "\n",
    "length = 250e-9  # Length of entire magnet\n",
    "width = 250e-9  # width of entire magnet\n",
    "h_phase1 = 47.5e-9 # height of each layer of the 1st phase, such as magnetically hard phase\n",
    "h_phase2 = 30e-9   # height of each layer of the 2nd phase, such as magnetically soft phase\n",
    "\n",
    "cell = (5e-9, 5e-9, 2.5e-9)\n",
    "# n = (31, 31, 10)\n",
    "# Define layer thickness of each layer\n",
    "#layer_thickness = [h_phase1,h_phase2,h_phase1,h_phase2,h_phase1,h_phase2,h_phase1,h_phase2,h_phase1]\n",
    "layer_thickness = [h_phase1,h_phase2,h_phase1]\n",
    "\n",
    "# Define the phase of each layers\n",
    "# 2: magnetically hard phase\n",
    "# 0: magnetically soft phase\n",
    "# 1: magnetically 3rd phase (for example: semi-hard phase)\n",
    "# layer_phase = [2, 0, 2, 0, 2, 0, 2,0,2]\n",
    "layer_phase = [2, 0, 2]\n",
    "# Define material objects: Materials: Hard -> Nd 2 Fe 14 B; Soft ->  𝛼 -Fe\n",
    "# Define material intrinsice properties\n",
    "## Magnetization of different phases\n",
    "Ms_h = 1.28e6 # NdFeB\n",
    "Ms_s = 1.75e6  #Fe\n",
    "Ms_3rd = 0 # 3rd phase\n",
    "## Exchange constant\n",
    "A_h = 7.7e-12  # NdFeB\n",
    "A_s = 20.0e-12  #Fe\n",
    "A_3rd = 0 # 3rd phase\n",
    "A_s_h = 20.0e-12  #between two phase\n",
    "## Magnetocrystalline anisotropy constant\n",
    "K_h=4.331e6    #  NdFeB\n",
    "K_s = 2.0e5   #  Fe\n",
    "K_3rd = 0 # 3rd phase\n",
    "\n",
    "\n",
    "subregions = {}\n",
    "MsNorm={}\n",
    "Adict={}\n",
    "Kdict={}\n",
    "phase_color = np.ones(len(layer_thickness));\n",
    "phase_color.astype(int)\n",
    "\n",
    "x_origin = - length/2.0\n",
    "y_origin = - width/2.0\n",
    "z_origin = - sum(layer_thickness)/2.0\n",
    "\n",
    "all_layer_name = [\"\"]*len(layer_thickness)\n",
    "\n",
    "for i in range(len(layer_thickness)):\n",
    "    layer_name = \"Layer_{:02d}\".format(i)\n",
    "    all_layer_name[i] = layer_name\n",
    "    subregions[layer_name] = df.Region(p1=(x_origin,y_origin, z_origin+sum(layer_thickness[0:i])), \n",
    "                                       p2=(x_origin+length,y_origin+width, z_origin+sum(layer_thickness[0:i+1])))\n",
    "    if layer_phase[i] == 2:\n",
    "        MsNorm[layer_name] = Ms_h\n",
    "        Adict[layer_name] = A_h\n",
    "        Kdict[layer_name] = K_h\n",
    "        phase_color[i] = 255 # blue\n",
    "    elif layer_phase[i] == 0:\n",
    "        MsNorm[layer_name] = Ms_s\n",
    "        Adict[layer_name] = A_s\n",
    "        Kdict[layer_name] = K_s\n",
    "        phase_color[i] = 16711680 # red\n",
    "    elif layer_phase[i] == 1:\n",
    "        MsNorm[layer_name] = Ms_3rd\n",
    "        Adict[layer_name] = A_3rd\n",
    "        Kdict[layer_name] = K_3rd\n",
    "        phase_color[i] = 65025 # green\n",
    "\n",
    "for i in range(len(all_layer_name)-1):\n",
    "    Adict[all_layer_name[i]+\":\"+all_layer_name[i+1]] = A_s_h\n",
    "    \n",
    "p1 = (x_origin,y_origin, z_origin)\n",
    "p2 = (x_origin+length,y_origin+width, z_origin+sum(layer_thickness))\n",
    "mesh = df.Mesh(p1=p1, p2=p2, cell=cell, subregions=subregions,bc='x')\n",
    "\n",
    "# display regions/sub-regions\n",
    "mesh.k3d_subregions(color=phase_color) # ,opacity=0.7)\n"
   ]
  },
  {
   "cell_type": "code",
   "execution_count": 2,
   "metadata": {},
   "outputs": [
    {
     "name": "stdout",
     "output_type": "stream",
     "text": [
      "{'Layer_00': 7.7e-12, 'Layer_01': 2e-11, 'Layer_02': 7.7e-12, 'Layer_00:Layer_01': 2e-11, 'Layer_01:Layer_02': 2e-11}\n"
     ]
    }
   ],
   "source": [
    "print(Adict)"
   ]
  },
  {
   "cell_type": "markdown",
   "metadata": {},
   "source": [
    "## Core simulation\n",
    "- #### Define material objects: <font color=red>Materials: Hard -> Nd$_2$Fe$_{14}$B; Soft -> $\\alpha$-Fe</font>  \n",
    "- #### Define the energy system: <font color=red>Anisotropy, exchange, magnetostatic, Zeeman energies</font>  \n",
    "- #### Define hysteresis loops:  <font color=red>Control of external field </font>  "
   ]
  },
  {
   "cell_type": "code",
   "execution_count": 3,
   "metadata": {},
   "outputs": [],
   "source": [
    "system = mm.System(name='composite_magnet_multilayers')\n",
    "\n",
    "# Define hysteresis loops: Control of external field: Unit is Tesla (T)\n",
    "H_range = list(np.arange(4.0, 1.0, -1.0)) + list(np.arange(0.8, -0.8, -0.2)) + list(np.arange(-1.0,-5.0,-0.1)) + list(np.arange(-5.2,-7.0,-0.2))\n",
    "#H_range = list(np.arange(0, -2, -0.5)) + list(np.arange(-2.2,-4.0,-0.2))\n",
    "\n",
    "# Storage for simulated magnetiztion Jx, Jy, Jz:\n",
    "Jx=[None]*len(H_range)\n",
    "Jy=[None]*len(H_range)\n",
    "Jz=[None]*len(H_range)"
   ]
  },
  {
   "cell_type": "code",
   "execution_count": 4,
   "metadata": {},
   "outputs": [
    {
     "name": "stdout",
     "output_type": "stream",
     "text": [
      "Running OOMMF (TclOOMMFRunner) [2020/09/23 11:47]... (14.7 s)\n",
      "Running OOMMF (TclOOMMFRunner) [2020/09/23 11:48]... (14.6 s)\n",
      "Running OOMMF (TclOOMMFRunner) [2020/09/23 11:49]... (15.0 s)\n",
      "Running OOMMF (TclOOMMFRunner) [2020/09/23 11:50]... (40.6 s)\n",
      "Running OOMMF (TclOOMMFRunner) [2020/09/23 11:51]... (21.1 s)\n",
      "Running OOMMF (TclOOMMFRunner) [2020/09/23 11:52]... (21.8 s)\n",
      "Running OOMMF (TclOOMMFRunner) [2020/09/23 11:53]... (25.2 s)\n",
      "Running OOMMF (TclOOMMFRunner) [2020/09/23 11:54]... (149.2 s)\n",
      "Running OOMMF (TclOOMMFRunner) [2020/09/23 11:57]... (21.2 s)\n",
      "Running OOMMF (TclOOMMFRunner) [2020/09/23 11:58]... (26.5 s)\n",
      "Running OOMMF (TclOOMMFRunner) [2020/09/23 11:59]... (45.7 s)\n",
      "Running OOMMF (TclOOMMFRunner) [2020/09/23 12:00]... (60.3 s)\n",
      "Running OOMMF (TclOOMMFRunner) [2020/09/23 12:02]... (33.5 s)\n",
      "Running OOMMF (TclOOMMFRunner) [2020/09/23 12:03]... (49.4 s)\n",
      "Running OOMMF (TclOOMMFRunner) [2020/09/23 12:05]... (44.1 s)\n",
      "Running OOMMF (TclOOMMFRunner) [2020/09/23 12:06]... (33.6 s)\n",
      "Running OOMMF (TclOOMMFRunner) [2020/09/23 12:07]... (30.8 s)\n",
      "Running OOMMF (TclOOMMFRunner) [2020/09/23 12:08]... (41.0 s)\n",
      "Running OOMMF (TclOOMMFRunner) [2020/09/23 12:09]... (60.1 s)\n",
      "Running OOMMF (TclOOMMFRunner) [2020/09/23 12:11]... (58.8 s)\n",
      "Running OOMMF (TclOOMMFRunner) [2020/09/23 12:13]... (41.1 s)\n",
      "Running OOMMF (TclOOMMFRunner) [2020/09/23 12:14]... (54.4 s)\n",
      "Running OOMMF (TclOOMMFRunner) [2020/09/23 12:15]... (32.3 s)\n",
      "Running OOMMF (TclOOMMFRunner) [2020/09/23 12:16]... (37.6 s)\n",
      "Running OOMMF (TclOOMMFRunner) [2020/09/23 12:18]... (28.8 s)\n",
      "Running OOMMF (TclOOMMFRunner) [2020/09/23 12:19]... (35.1 s)\n",
      "Running OOMMF (TclOOMMFRunner) [2020/09/23 12:20]... (45.4 s)\n",
      "Running OOMMF (TclOOMMFRunner) [2020/09/23 12:21]... (34.0 s)\n",
      "Running OOMMF (TclOOMMFRunner) [2020/09/23 12:22]... (37.3 s)\n",
      "Running OOMMF (TclOOMMFRunner) [2020/09/23 12:24]... (41.8 s)\n",
      "Running OOMMF (TclOOMMFRunner) [2020/09/23 12:25]... (58.9 s)\n",
      "Running OOMMF (TclOOMMFRunner) [2020/09/23 12:27]... (48.3 s)\n",
      "Running OOMMF (TclOOMMFRunner) [2020/09/23 12:28]... (76.9 s)\n",
      "Running OOMMF (TclOOMMFRunner) [2020/09/23 12:30]... (97.7 s)\n",
      "Running OOMMF (TclOOMMFRunner) [2020/09/23 12:32]... (98.0 s)\n",
      "Running OOMMF (TclOOMMFRunner) [2020/09/23 12:34]... (81.4 s)\n",
      "Running OOMMF (TclOOMMFRunner) [2020/09/23 12:36]... (74.9 s)\n",
      "Running OOMMF (TclOOMMFRunner) [2020/09/23 12:38]... (66.8 s)\n",
      "Running OOMMF (TclOOMMFRunner) [2020/09/23 12:40]... (68.3 s)\n",
      "Running OOMMF (TclOOMMFRunner) [2020/09/23 12:41]... (43.9 s)\n",
      "Running OOMMF (TclOOMMFRunner) [2020/09/23 12:43]... (41.3 s)\n",
      "Running OOMMF (TclOOMMFRunner) [2020/09/23 12:44]... (42.3 s)\n",
      "Running OOMMF (TclOOMMFRunner) [2020/09/23 12:45]... (38.6 s)\n",
      "Running OOMMF (TclOOMMFRunner) [2020/09/23 12:47]... (32.8 s)\n",
      "Running OOMMF (TclOOMMFRunner) [2020/09/23 12:48]... (33.6 s)\n",
      "Running OOMMF (TclOOMMFRunner) [2020/09/23 12:49]... (41.3 s)\n",
      "Running OOMMF (TclOOMMFRunner) [2020/09/23 12:50]... (39.7 s)\n",
      "Running OOMMF (TclOOMMFRunner) [2020/09/23 12:51]... (41.0 s)\n",
      "Running OOMMF (TclOOMMFRunner) [2020/09/23 12:53]... (36.3 s)\n",
      "Running OOMMF (TclOOMMFRunner) [2020/09/23 12:54]... (30.7 s)\n",
      "Running OOMMF (TclOOMMFRunner) [2020/09/23 12:55]... (28.8 s)\n",
      "Running OOMMF (TclOOMMFRunner) [2020/09/23 12:56]... (26.9 s)\n",
      "Running OOMMF (TclOOMMFRunner) [2020/09/23 12:57]... (26.1 s)\n",
      "Running OOMMF (TclOOMMFRunner) [2020/09/23 12:58]... (27.4 s)\n",
      "Running OOMMF (TclOOMMFRunner) [2020/09/23 12:59]... (29.4 s)\n",
      "Running OOMMF (TclOOMMFRunner) [2020/09/23 13:00]... (24.8 s)\n",
      "Running OOMMF (TclOOMMFRunner) [2020/09/23 13:01]... (26.4 s)\n",
      "Running OOMMF (TclOOMMFRunner) [2020/09/23 13:02]... (23.4 s)\n",
      "Running OOMMF (TclOOMMFRunner) [2020/09/23 13:03]... (23.5 s)\n",
      "Running OOMMF (TclOOMMFRunner) [2020/09/23 13:04]... (23.3 s)\n"
     ]
    }
   ],
   "source": [
    "# Calculate hysteresis loops through Control of external field \n",
    "for i in range(len(H_range)):\n",
    "    H = (0, 0, H_range[i]/mm.consts.mu0)  # external magnetic field (A/m), \n",
    "    system.energy = mm.Exchange(A=Adict) + mm.UniaxialAnisotropy(K=Kdict, u=(0.00001, 0, 1)) + mm.Zeeman(H=H)  + mm.Demag()\n",
    "    system.m = df.Field(mesh, dim=3, value=(0, 0, 1), norm=MsNorm)\n",
    "    \n",
    "    # system driver \n",
    "    md = mc.MinDriver()\n",
    "    md.drive(system)\n",
    "\n",
    "    Jx[i]=system.table.data.mx.values[0]\n",
    "    Jy[i]=system.table.data.my.values[0]\n",
    "    Jz[i]=system.table.data.mz.values[0]\n",
    "    \n",
    "    #write \".omf\" file\n",
    "    ovffilename = \"Composite_Magnet_MultiLayer-H={:7.3f}T.omf\".format(H_range[i])\n",
    "    #display(ovffilename)\n",
    "    system.m.write(ovffilename)"
   ]
  },
  {
   "cell_type": "markdown",
   "metadata": {},
   "source": [
    "## Save data file <font color=red>hysteresis curve</font>  "
   ]
  },
  {
   "cell_type": "code",
   "execution_count": null,
   "metadata": {},
   "outputs": [],
   "source": [
    "import csv  \n",
    "    \n",
    "# field names  \n",
    "fields = ['Field H', 'Jx', 'Jy', 'Jz']  \n",
    "# data rows of csv file  \n",
    "rows = [H_range, Jx, Jy, Jz ]  \n",
    "# name of csv file  \n",
    "filename = \"test.csv\"\n",
    "    \n",
    "# writing to csv file  \n",
    "with open(filename, 'w') as csvfile:  \n",
    "    # creating a csv writer object  \n",
    "    csvwriter = csv.writer(csvfile)  \n",
    "    # writing the fields  \n",
    "    csvwriter.writerow(fields)  \n",
    "    # writing the data rows  \n",
    "    csvwriter.writerows(rows) "
   ]
  },
  {
   "cell_type": "markdown",
   "metadata": {},
   "source": [
    "## Display <font color=red>Simulated Results</font>  "
   ]
  },
  {
   "cell_type": "markdown",
   "metadata": {},
   "source": [
    "#### Display <font color=blue>hysteresis curve</font>  "
   ]
  },
  {
   "cell_type": "code",
   "execution_count": 6,
   "metadata": {},
   "outputs": [
    {
     "data": {
      "text/plain": [
       "<Figure size 576x432 with 0 Axes>"
      ]
     },
     "metadata": {},
     "output_type": "display_data"
    },
    {
     "data": {
      "image/png": "[encoded data removed]",
      "text/plain": [
       "<Figure size 1440x1080 with 2 Axes>"
      ]
     },
     "metadata": {},
     "output_type": "display_data"
    }
   ],
   "source": [
    "import matplotlib.pyplot as plt\n",
    "plt.figure();\n",
    "fig = plt.figure(figsize=(20, 15));\n",
    "ax1=fig.add_subplot(2,2,1);\n",
    "ax2=fig.add_subplot(2,2,2);\n",
    "#ax = fig.gca()\n",
    "\n",
    "# Customise the axes\n",
    "ax1.set_xlabel('H [T]',fontsize=20)\n",
    "ax1.set_ylabel('J [T]',fontsize=20)\n",
    "ax1.set_ylim(ymin=-1.1,ymax=1.1)\n",
    "ax1.grid()\n",
    "ax1.plot(H_range,Jz,'bo-',label='Jz',linewidth=3,markersize=12)\n",
    "ax1.legend(loc='lower right',fontsize=30)\n",
    "\n",
    "ax2.set_xlabel('H [T]',fontsize=20)\n",
    "ax2.set_ylabel('J [T]',fontsize=20)\n",
    "ax2.set_ylim(ymin=-0.51,ymax=0.5)\n",
    "ax2.grid()\n",
    "ax2.plot(H_range,Jx,'mo-',label='Jx',linewidth=3,markersize=12)\n",
    "ax2.plot(H_range,Jy,'ro-',label='Jy',linewidth=3,markersize=12)\n",
    "ax2.legend(loc='upper left',fontsize=30);\n"
   ]
  },
  {
   "cell_type": "markdown",
   "metadata": {},
   "source": [
    "#### Display <font color=blue>magnetic distribution (topview)</font>  "
   ]
  },
  {
   "cell_type": "code",
   "execution_count": 2,
   "metadata": {
    "scrolled": false
   },
   "outputs": [
    {
     "ename": "NameError",
     "evalue": "name 'H_range' is not defined",
     "output_type": "error",
     "traceback": [
      "\u001b[1;31m---------------------------------------------------------------------------\u001b[0m",
      "\u001b[1;31mNameError\u001b[0m                                 Traceback (most recent call last)",
      "\u001b[1;32m<ipython-input-2-c5368a0687c9>\u001b[0m in \u001b[0;36m<module>\u001b[1;34m\u001b[0m\n\u001b[0;32m      3\u001b[0m \u001b[1;32mfrom\u001b[0m \u001b[0mipywidgets\u001b[0m \u001b[1;32mimport\u001b[0m \u001b[0mIntSlider\u001b[0m\u001b[1;33m\u001b[0m\u001b[1;33m\u001b[0m\u001b[0m\n\u001b[0;32m      4\u001b[0m \u001b[1;33m\u001b[0m\u001b[0m\n\u001b[1;32m----> 5\u001b[1;33m @interact(i=IntSlider(description='Field #',value=0,min=0,max=len(H_range)-1,step=1, \n\u001b[0m\u001b[0;32m      6\u001b[0m                       continuous_update=False,layout={'width': '400px'}),\n\u001b[0;32m      7\u001b[0m           z=system.m.mesh.slider('z',  continuous_update=False,layout={'width': '400px'}))\n",
      "\u001b[1;31mNameError\u001b[0m: name 'H_range' is not defined"
     ]
    }
   ],
   "source": [
    "from ipywidgets import interact, interactive, fixed, interact_manual\n",
    "import ipywidgets as widgets\n",
    "from ipywidgets import IntSlider\n",
    "\n",
    "@interact(i=IntSlider(description='Field #',value=0,min=0,max=len(H_range)-1,step=1, \n",
    "                      continuous_update=False,layout={'width': '400px'}),\n",
    "          z=system.m.mesh.slider('z',  continuous_update=False,layout={'width': '400px'}))\n",
    "def slice_plot_topview(i,z):\n",
    "    ovffilename = \"Composite_Magnet_MultiLayer-H={:7.3f}T.omf\".format(H_range[i])\n",
    "    display(ovffilename)\n",
    "    field = df.Field.fromfile(ovffilename)   \n",
    "    field.plane(z=z).mpl(ax=None,figsize=(15, 10), vector_scale=0.8e8,scalar_colorbar=True, scalar_colorbar_label='M_z',\n",
    "                            scalar_cmap='rainbow',scalar_clim=[-0.9*max(Ms_h,Ms_s),0.9*max(Ms_h,Ms_s)],\n",
    "                             vector_field=field)"
   ]
  },
  {
   "cell_type": "markdown",
   "metadata": {},
   "source": [
    "#### Display <font color=blue>magnetic distribution (cross-section)</font>  "
   ]
  },
  {
   "cell_type": "code",
   "execution_count": 8,
   "metadata": {},
   "outputs": [
    {
     "data": {
      "application/vnd.jupyter.widget-view+json": {
       "model_id": "e8fd5215a06c4075b271a55030eeb332",
       "version_major": 2,
       "version_minor": 0
      },
      "text/plain": [
       "interactive(children=(IntSlider(value=0, continuous_update=False, description='Field #', layout=Layout(width='…"
      ]
     },
     "metadata": {},
     "output_type": "display_data"
    }
   ],
   "source": [
    "from ipywidgets import interact, interactive, fixed, interact_manual\n",
    "import ipywidgets as widgets\n",
    "from ipywidgets import IntSlider\n",
    "\n",
    "@interact(i=IntSlider(description='Field #',min=0,max=len(H_range)-1,step=1, continuous_update=False,layout={'width': '400px'}),\n",
    "          y=system.m.mesh.slider('y', continuous_update=False,layout={'width': '400px'}))\n",
    "def f(i,y=0):\n",
    "    ovffilename = \"Composite_Magnet_Layer-H={:7.3f}T.omf\".format(H_range[i])\n",
    "    display(ovffilename)\n",
    "    field_read = df.Field.fromfile(ovffilename)\n",
    "    field_read.plane(y=y).mpl(figsize=(15, 10), scalar_field = field_read.z,\n",
    "                            scalar_cmap='rainbow',scalar_clim=[-0.9*max(Ms_h,Ms_s),0.9*max(Ms_h,Ms_s)],\n",
    "                            scalar_colorbar=True, scalar_colorbar_label='M_z',multiplier=1e-6,\n",
    "                            vector_field=field_read,vector_scale=0.9e8,)\n",
    "    return "
   ]
  },
  {
   "cell_type": "code",
   "execution_count": 9,
   "metadata": {},
   "outputs": [
    {
     "data": {
      "text/plain": [
       "'Composite_Magnet_MultiLayer-H= -1.000T.omf'"
      ]
     },
     "metadata": {},
     "output_type": "display_data"
    },
    {
     "data": {
      "application/vnd.jupyter.widget-view+json": {
       "model_id": "ad4fd2b2257a41598bbf5b26b2bf0b56",
       "version_major": 2,
       "version_minor": 0
      },
      "text/plain": [
       "interactive(children=(SelectionSlider(continuous_update=False, description='y (nm)', index=25, options=((-122.…"
      ]
     },
     "metadata": {},
     "output_type": "display_data"
    }
   ],
   "source": [
    "# # Open selected saved field file\n",
    "def openfile_dialog():\n",
    "    from PyQt5 import QtGui\n",
    "    from PyQt5 import QtGui, QtWidgets\n",
    "    app = QtWidgets.QApplication([dir])\n",
    "    fname,_filter = QtWidgets.QFileDialog.getOpenFileName(None, \"Select a file...\", '.', filter=\"All files (*)\")\n",
    "    return str(fname)\n",
    "filename = openfile_dialog()\n",
    "import os\n",
    "ovffilename = os.path.basename(filename)\n",
    "display(ovffilename)\n",
    "# # display field distribution\n",
    "field_read = df.Field.fromfile(ovffilename)\n",
    "\n",
    "@df.interact(y=system.m.mesh.slider('y', continuous_update=False))\n",
    "def my_plot(y):\n",
    "    #system.m.plane(y=y).mpl(figsize=(20, 20), vector_scale=1e8 )\n",
    "    #field_read.plane(y=y).mpl(figsize=(10, 10))\n",
    "    field_read.plane(y=y).mpl_vector(figsize=(15, 8), color_field=field_read.z,cmap='rainbow',clim=[-0.9*max(Ms_h,Ms_s),0.9*max(Ms_h,Ms_s)])"
   ]
  },
  {
   "cell_type": "markdown",
   "metadata": {},
   "source": [
    "## Save data file <font color=red>hysteresis curve</font>  "
   ]
  },
  {
   "cell_type": "code",
   "execution_count": 10,
   "metadata": {},
   "outputs": [],
   "source": [
    "import csv  \n",
    "    \n",
    "# field names  \n",
    "fields = ['Field H', 'Jx', 'Jy', 'Jz']  \n",
    "# data rows of csv file  \n",
    "rows = [H_range, Jx, Jy, Jz ]  \n",
    "# name of csv file  \n",
    "filename = \"test.csv\"\n",
    "    \n",
    "# writing to csv file  \n",
    "with open(filename, 'w') as csvfile:  \n",
    "    # creating a csv writer object  \n",
    "    csvwriter = csv.writer(csvfile)  \n",
    "    # writing the fields  \n",
    "    csvwriter.writerow(fields)  \n",
    "    # writing the data rows  \n",
    "    csvwriter.writerows(rows) "
   ]
  },
  {
   "cell_type": "markdown",
   "metadata": {},
   "source": [
    "## backup scripts <font color=red>3D plots</font>  \n",
    "* #### Plot slices along different direction and location"
   ]
  },
  {
   "cell_type": "code",
   "execution_count": 11,
   "metadata": {},
   "outputs": [
    {
     "data": {
      "application/vnd.jupyter.widget-view+json": {
       "model_id": "0bfbc28ff9004bdd8b62123c12d4b01f",
       "version_major": 2,
       "version_minor": 0
      },
      "text/plain": [
       "interactive(children=(IntSlider(value=0, continuous_update=False, description='Field #', layout=Layout(width='…"
      ]
     },
     "metadata": {},
     "output_type": "display_data"
    }
   ],
   "source": [
    "import k3d\n",
    "from ipywidgets import interact, interactive, fixed, interact_manual\n",
    "import ipywidgets as widgets\n",
    "from ipywidgets import IntSlider\n",
    "\n",
    "@interact(i=IntSlider(description='Field #',value=0,min=0,max=len(H_range)-1,step=1, continuous_update=False,layout={'width': '400px'}),\n",
    "          y=system.m.mesh.slider('y',  continuous_update=False,layout={'width': '400px'}),\n",
    "          z1=system.m.mesh.slider('z', description='z1', continuous_update=False,layout={'width': '400px'}),\n",
    "          z2=system.m.mesh.slider('z', description='z2', continuous_update=False,layout={'width': '400px'}))\n",
    "#          z3=system.m.mesh.slider('z', description='z3', continuous_update=False,layout={'width': '400px'}))\n",
    "def f(i,y, z1, z2):\n",
    "    ovffilename = \"Composite_Magnet_MultiLayer-H={:7.3f}T.omf\".format(H_range[i])\n",
    "    display(ovffilename)\n",
    "    field_read = df.Field.fromfile(ovffilename)    \n",
    "    plot = k3d.plot();\n",
    "    #display(field_read.plane)\n",
    "\n",
    "    field_read.z.plane(y=y).k3d_scalar(plot=plot,multiplier=None,cmap='rainbow',\n",
    "                                       clim=[-0.9*max(Ms_h,Ms_s),0.9*max(Ms_h,Ms_s)])\n",
    "    field_read.z.plane(z=z1).k3d_scalar(plot=plot,multiplier=None,cmap='rainbow',clim=[-0.9*max(Ms_h,Ms_s),0.9*max(Ms_h,Ms_s)])\n",
    "    field_read.z.plane(z=z2).k3d_scalar(plot=plot,multiplier=None,cmap='rainbow',clim=[-0.9*max(Ms_h,Ms_s),0.9*max(Ms_h,Ms_s)])\n",
    "#    field_read.z.plane(z=z3).k3d_scalar(plot=plot,filter_field=field_read.plane(z=z3).z,multiplier=None,cmap='rainbow',clim=[-0.9*max(Ms_h,Ms_s),0.9*max(Ms_h,Ms_s)])\n",
    "    plot.display()\n",
    "    return "
   ]
  },
  {
   "cell_type": "code",
   "execution_count": null,
   "metadata": {},
   "outputs": [],
   "source": []
  },
  {
   "cell_type": "code",
   "execution_count": null,
   "metadata": {},
   "outputs": [],
   "source": []
  }
 ],
 "metadata": {
  "kernelspec": {
   "display_name": "Python 3",
   "language": "python",
   "name": "python3"
  },
  "language_info": {
   "codemirror_mode": {
    "name": "ipython",
    "version": 3
   },
   "file_extension": ".py",
   "mimetype": "text/x-python",
   "name": "python",
   "nbconvert_exporter": "python",
   "pygments_lexer": "ipython3",
   "version": "3.8.3"
  },
  "widgets": {
   "application/vnd.jupyter.widget-state+json": {
    "state": {
     "003fdc713ccb4ea29d2416bcffdf49dd": {
      "buffers": [
       {
        "data": "eNqtljsvg1EYx/kYHaTp4BIRoiFsRJDYDGJhb1gEg1ujMdTQwc7OIJEQ1CWIQQyiI4OIpHH7ChaJ+Of8mrxPc5xUO/yG97znfZ//ea4n9vZeF/vl9Uk0FAsiXrwTrCc+vsTIw7qYKEyJmethMXfZH2H+ok/wzL7J+5QYetwQjZ/fouXlXEzfjIrZqwGxcNYrFk97/oR9fMd/ks+7AjuQuh0X7F866a4pnBs72EUP79Fdtc18VwTrD/yL3/FP2fee/y7nk2LluDMC6xDSiV3yiHwoi4PV456xmz5sF6sHbSKz3ypYTx91CO+5HNgln8lz8tUXH86LnbW9JpHdSYjcVjxCdjsh2Mc5fPqwi46YqVPyh/z36nP+wH5uMy42Ms0RWEc/3/niil10oIu+Qf379HF+4oaf0DNWPxihpNPtI+4lPwb00dcg5D/+i51K9XGukD78ZPttxfEl70LxdXnw3/iSh6H6sPVaqg/y0NaH088+6sqnz9YHdUsdB/u604cd/EHciDvr3no1z9ilr9HnyvqtB9tPff021K9tv6XvMwfsfLXzo9p5xH/JHzuHmYu8r/X85Xx2/to5XOv7Bv7FDn4nH+x9yd6T7H2JfCaPyHPbb+lrtk5/AIdTk74=",
        "encoding": "base64",
        "path": [
         "colors",
         "compressed_buffer"
        ]
       },
       {
        "data": "eNpjYGiwZ8AAxIsBAF7EAv0=",
        "encoding": "base64",
        "path": [
         "model_matrix",
         "compressed_buffer"
        ]
       },
       {
        "data": "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",
        "encoding": "base64",
        "path": [
         "origins",
         "compressed_buffer"
        ]
       },
       {
        "data": "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",
        "encoding": "base64",
        "path": [
         "vectors",
         "compressed_buffer"
        ]
       }
      ],
      "model_module": "k3d",
      "model_module_version": "2.7.0",
      "model_name": "ObjectModel",
      "state": {
       "_view_count": null,
       "_view_module": null,
       "_view_module_version": "",
       "_view_name": null,
       "colors": {
        "compressed_buffer": {},
        "dtype": "uint32",
        "shape": [
         316,
         2
        ]
       },
       "compression_level": 0,
       "head_color": 255,
       "head_size": 30,
       "id": 140693223758352,
       "label_size": 1,
       "labels": [],
       "line_width": 0.01,
       "model_matrix": {
        "compressed_buffer": {},
        "dtype": "float32",
        "shape": [
         4,
         4
        ]
       },
       "name": null,
       "origin_color": 255,
       "origins": {
        "compressed_buffer": {},
        "dtype": "float32",
        "shape": [
         316,
         3
        ]
       },
       "type": "Vectors",
       "use_head": true,
       "vectors": {
        "compressed_buffer": {},
        "dtype": "float32",
        "shape": [
         316,
         3
        ]
       },
       "visible": true
      }
     },
     "010ae87d64b9454bb9d0979765ec9c27": {
      "model_module": "@jupyter-widgets/base",
      "model_module_version": "1.2.0",
      "model_name": "LayoutModel",
      "state": {}
     },
     "01cf622a11464d1487e0fb538c1fe0ff": {
      "buffers": [
       {
        "data": "eNp1070vQ1EcxnH+CYlE9EVbFWoQNGIxVJgMDYlg7MDiLTFoWk1RbfXeGsQgkXgJCYNBJUxiklhYLBZhIB39BRLynPu9iSYdPsPJuef8nqf31poYaLD+lFc6xS75ZXvfI/kTY/PcL9nLkKxddcnqTa8s3w3J3ENcJp/nZeh1T3wfD9Ly9S3B6o+wZp/nOc993M885pOHfOQlP33oZzl97Zl+KSc7xLb9wrnCkZE788nGRZtkL9slXYnI6m2fLN7HJPE4JWMvGYm8VaT5syr0Zs0+z3Oe+7ifecwnD/nI6/Z2+rj96LsUMTaDYu/4pLTnEc4XD1qlcOiR/LGxdeqV2u8hdd0tvKfppzkJvd8JvVmzz/Ocr32fzGM+echHXvLTh3705Xeydr1iW34pF9v+K9SRDxi5oLEeMlJhw5ljTUUl2TUi440xYc2++x44z33cz7x6eWpy04d+9OX74fdyv4utgMHcrCPTbqTDhvP98P8pL3QbiR4pxQclGx2W2aZRoTdr9nme8+593M885pOHfOR18tOHfvT9BRcQlYI=",
        "encoding": "base64",
        "path": [
         "colors",
         "compressed_buffer"
        ]
       },
       {
        "data": "eNpjYGiwZ8AAxIsBAF7EAv0=",
        "encoding": "base64",
        "path": [
         "model_matrix",
         "compressed_buffer"
        ]
       },
       {
        "data": "eNoVlHt0z2Ucx8WUS5ZbJsVcEpbjtl/KpX2+z7ODQy6NLYThTBqSo9KZy6IczbKL30zY5C6KOIal1D7f50Fujc1pzGz7+bmPpbHNxKj359/nfM77/Xq//ngKctPszugcDs+MN1mvJdpOiwq5xa6lprbuYlswupRbdkkwi7Nn2fefFrN3SqKZM32cjWxVxL1OfmPymw6yZyIu8Fl3hXnxQG/b6O5fvGZ5kuk+qp2t2nqO+w1PNoH+Rrbo5lnO7J5i2ufdNb8WnuZ1Q1JNHXvcdHhylP85vNI4KzaZN/IPceL3aSaj2ydm/KCtfLnZahM0r6OpczieK/9cY3bFbHXZG8iv98kwt2L+DT028FhWaGimvDs53kCSd9wr3JPcI0chhyQH+Qr5JPnoVe2fHCXpBY/6pfA0CQ849cWbZ0k4wa/BT8KPXRq7SHZhr86NuECyFx40PJB4gB8NPyR+4E3DG4k3+NTwSeKzIDdN/xCdQ+L5+FCvneL18V9Lgk1gSoKNXlDJtRVdTaefFtobW2p4WXkP4xsWaz29ajgmtY+ZUhFp9+dU8/lij/l8rbKNu1fx7/F9TQX1sDO+vM+hF980a6+3sWe/ruAmffqZ7MTn7Jjiv/nU4f4mfsItk32ljO/uHGj67jQmYf5VTnmDTMB/GabjZ4X8dLc23x6JNTb5KBdPGmLaf/OyeVS2ka++O8LMb7Hezc4P44YfjzH1IoM9y58Gh06f/p68Oz/nh5G8417hnuR+zZFYhRySHOQr5JPko1ehl6QXPAo8JDzg1OAk4QS/Bj8JP3Zp7CLZhb0ae0n2woOGBxIP8KPhh8QPvGl4I/EGnxo+SXzCs57q9ZF4XrQt1To1F3njtBVuzM1lduqRy+z3rHUPDY+z5Zd9HFO8wS27MM0ODSnlWneLe2NOhI26WMyTJ213xzUNs1/dv8QbJ+9wLx8Msb8NucSrOv3gPowOsoFZRTz22o+ur3GA/SeoiB+d2+32jfebftPQ1Xmvm/DgV/N4ViFveT3LjfOmG2/meZ4Ql+12OzHRHD2XzzlDfnfDQ5qZ6P6WH/Y56Ua2TnHP+JI4K6TETWk1w/PKkrc9uX+Wu1GtU5w8XxLtwzvu1eT+luQeOerYuXySHOSrtMzzJPnoVegl6QWPAg8JDzh1RVARCSf4NfhJ+LFLYxfJLuzV2EuyFx40PJB4gB8NP/QEfuBNwxuJN/jU8EniE541PJN4fmFfqh3c0M+tw1rSgJpldnPBVV75zKd06qM4eyvJz3Fdk+iP+9PsS/N83GRTGuUtjbADupTyhKHpNLBdmPUvLOGHc9LpDIfYvU4Jr1+VTr0/DLJVUSXcNG41jWsZYBvtKeE9h9bQJK/fNA8v5bzQ9bQ78LDxPy7ldsu30Ue70s2DKB+PrthPcysnmkU9S/i7BvkUPKCZmdwhj/XYAKdVbbKbeHwdJ3fwOLPDF3qyvKM8GevGO0G1yc6K4+tI3nGvpnTII4V75Kj4niUkObN3pSvkk+SjV6GX2qIXPKpFeCkJDzg1OEk4wa/BT8KPXRq7SHZhr8Zekr3woOGBxAP8aPgh8QNvGt5IvMGnhk8Sn/Cs4ZnEs3+x1166c4uvHvzDWZCbYDNsNTfYUeg06LbIRgfU8NABV5xRB2Nt59EP+Nq1G876wVF2zN5q3tS1zGnjU7byrWrOmXvbyf6ih21oq3jukjvOiVdftgltqjjVlju+vOdscf1KvpF019lcv8xsD7rHH4Tfc+Z9Zs2J2L/5x4XVzvDbmca9fZ2fb1Pr3Dkw0/S+XsBZHeupuu+0NUfG7OesiEZqxLANbvrIidw9srmavbm/59lShb+llRo5bIOzeuREknfcK9yT3JcfmKmQQ5KDfIV8knz0KvSS9IJHgYeEB5wanCSc4NfgpxTwY5fGLpJd2Kuxl2QvPGh4IPEAPxp+SPzAm4Y3Em/wqeGTxCc8a3gm8fw/m0rXOA==",
        "encoding": "base64",
        "path": [
         "origins",
         "compressed_buffer"
        ]
       },
       {
        "data": "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",
        "encoding": "base64",
        "path": [
         "vectors",
         "compressed_buffer"
        ]
       }
      ],
      "model_module": "k3d",
      "model_module_version": "2.7.0",
      "model_name": "ObjectModel",
      "state": {
       "_view_count": null,
       "_view_module": null,
       "_view_module_version": "",
       "_view_name": null,
       "colors": {
        "compressed_buffer": {},
        "dtype": "uint32",
        "shape": [
         155,
         2
        ]
       },
       "compression_level": 0,
       "head_color": 255,
       "head_size": 30,
       "id": 140558996925328,
       "label_size": 1,
       "labels": [],
       "line_width": 0.01,
       "model_matrix": {
        "compressed_buffer": {},
        "dtype": "float32",
        "shape": [
         4,
         4
        ]
       },
       "name": null,
       "origin_color": 255,
       "origins": {
        "compressed_buffer": {},
        "dtype": "float32",
        "shape": [
         155,
         3
        ]
       },
       "type": "Vectors",
       "use_head": true,
       "vectors": {
        "compressed_buffer": {},
        "dtype": "float32",
        "shape": [
         155,
         3
        ]
       },
       "visible": true
      }
     },
     "029e5e1047da4f888a53456120e3b64e": {
      "model_module": "@jupyter-widgets/base",
      "model_module_version": "1.2.0",
      "model_name": "LayoutModel",
      "state": {}
     },
     "0372917703144fe1923dd1138cefb6d0": {
      "model_module": "k3d",
      "model_module_version": "2.7.0",
      "model_name": "PlotModel",
      "state": {
       "_backend_version": "2.7.0",
       "_dom_classes": [],
       "_view_count": null,
       "antialias": 3,
       "axes": [
        "x",
        "y",
        "z"
       ],
       "axes_helper": 1,
       "background_color": 16777215,
       "camera": [
        178.37844914807036,
        -268.17251318435166,
        12.562038533530174,
        -0.2419357848984518,
        -0.2419357848984518,
        -5.299999959766865,
        0,
        0,
        1
       ],
       "camera_auto_fit": true,
       "camera_fov": 60,
       "camera_no_pan": false,
       "camera_no_rotate": false,
       "camera_no_zoom": false,
       "clipping_planes": [],
       "colorbar_object_id": -1,
       "fps_meter": false,
       "grid": [
        -1,
        -1,
        -1,
        1,
        1,
        1
       ],
       "grid_auto_fit": true,
       "grid_visible": true,
       "height": 512,
       "layout": "IPY_MODEL_6e1e70d1924642c7b4df904723e3cc3c",
       "lighting": 1.5,
       "menu_visibility": true,
       "name": null,
       "object_ids": [
        140558589380368
       ],
       "rendering_steps": 1,
       "screenshot": "",
       "screenshot_scale": 2,
       "time": 0,
       "voxel_paint_color": 0
      }
     },
     "040ed3c634bd48379d7af42da48a1fda": {
      "model_module": "@jupyter-widgets/output",
      "model_module_version": "1.0.0",
      "model_name": "OutputModel",
      "state": {
       "layout": "IPY_MODEL_4e2102f410be4360b98322b060904bf2",
       "outputs": [
        {
         "data": {
          "application/vnd.jupyter.widget-view+json": {
           "model_id": "26b5883dc54340b0b8bd4936487d4ce7",
           "version_major": 2,
           "version_minor": 0
          },
          "text/plain": "Plot(antialias=3, axes=['x', 'y', 'z'], axes_helper=1.0, background_color=16777215, camera=[4.5, 4.5, 4.5, 0.0…"
         },
         "metadata": {},
         "output_type": "display_data"
        }
       ]
      }
     },
     "05b4ae5266dc48e682b0e5ee67f91105": {
      "model_module": "@jupyter-widgets/base",
      "model_module_version": "1.2.0",
      "model_name": "LayoutModel",
      "state": {}
     },
     "0636cfa38d214414baae90fbaa3ffd89": {
      "model_module": "@jupyter-widgets/base",
      "model_module_version": "1.2.0",
      "model_name": "LayoutModel",
      "state": {}
     },
     "08a7e85c9674406593eac562a2750805": {
      "buffers": [
       {
        "data": "eNoDAAAAAAE=",
        "encoding": "base64",
        "path": [
         "colors",
         "compressed_buffer"
        ]
       },
       {
        "data": "eNpjYGiwZ8AAxIsBAF7EAv0=",
        "encoding": "base64",
        "path": [
         "model_matrix",
         "compressed_buffer"
        ]
       },
       {
        "data": "eNpN0CFywzAQheEw41LfIKSzpSXWLgzuDUp6hxCzFoSEegp8imKphyiNWHyMjj2x3m/0RvO8K32n4/X3sH1f5Xb+bPn+fW75KT5afr2/tfx+8ZYvL88t//z1mNlhzlL0bynqTwW7cN6zk/d8aN92ntB3zHF0HHvRWRz3DMwJvCvw3oBDYFfALeDZ8ul4ZX6YGMwN5gZzg7nB3GBuMDeYG8wN5gZzg7nB3GBuMDeYG8wN5gZzg7nB3GBuMDeYG8wN5gZzg7nB3GBuMJ+zzOcs8znLfM4yn7PM5yzzOct8ndlhzm6+/luK+lPBLpz37OQ9y3w7T+g75jg6jr3oLI57BuYE3hV4b8AhsCvgFvBsWeZbfpiMg8zHQebjIPNxkPk4yHwcZD4OMl9ndpizm6//lqL+VLAL5z07ec8y384T+o45jo5jLzqL456BOYF3Bd4bcAjsCrgFPFuW+ZYfJjXJvCaZ1yTzmmRek8xrknlNMl9ndpizm6//lqL+VLAL5z07ec8y384T+o45jo5jLzqL456BOYF3Bd4bcAjsCrgFPFuWeU3/8njPnw==",
        "encoding": "base64",
        "path": [
         "positions",
         "compressed_buffer"
        ]
       }
      ],
      "model_module": "k3d",
      "model_module_version": "2.7.0",
      "model_name": "ObjectModel",
      "state": {
       "_view_count": null,
       "_view_module": null,
       "_view_module_version": "",
       "_view_name": null,
       "color": 10075135,
       "colors": {
        "compressed_buffer": {},
        "dtype": "uint32",
        "shape": [
         0
        ]
       },
       "compression_level": 0,
       "id": 140558411914256,
       "mesh_detail": 2,
       "model_matrix": {
        "compressed_buffer": {},
        "dtype": "float32",
        "shape": [
         4,
         4
        ]
       },
       "name": null,
       "opacity": 1,
       "point_size": 0.1,
       "positions": {
        "compressed_buffer": {},
        "dtype": "float32",
        "shape": [
         155,
         3
        ]
       },
       "shader": "3dSpecular",
       "type": "Points",
       "visible": true
      }
     },
     "090db5b171ba455d9a92614abaa4494a": {
      "model_module": "@jupyter-widgets/base",
      "model_module_version": "1.2.0",
      "model_name": "LayoutModel",
      "state": {}
     },
     "094e6c5123244c12b9a427ebcb67e019": {
      "buffers": [
       {
        "data": "eNp1070vQ1EcxnH+CYlE9EVbFWoQNGIxVJgMDYlg7MDiLTFoWk1RbfXeGsQgkXgJCYNBJUxiklhYLBZhIB39BRLynPu9iSYdPsPJuef8nqf31poYaLD+lFc6xS75ZXvfI/kTY/PcL9nLkKxddcnqTa8s3w3J3ENcJp/nZeh1T3wfD9Ly9S3B6o+wZp/nOc993M885pOHfOQlP33oZzl97Zl+KSc7xLb9wrnCkZE788nGRZtkL9slXYnI6m2fLN7HJPE4JWMvGYm8VaT5syr0Zs0+z3Oe+7ifecwnD/nI6/Z2+rj96LsUMTaDYu/4pLTnEc4XD1qlcOiR/LGxdeqV2u8hdd0tvKfppzkJvd8JvVmzz/Ocr32fzGM+echHXvLTh3705Xeydr1iW34pF9v+K9SRDxi5oLEeMlJhw5ljTUUl2TUi440xYc2++x44z33cz7x6eWpy04d+9OX74fdyv4utgMHcrCPTbqTDhvP98P8pL3QbiR4pxQclGx2W2aZRoTdr9nme8+593M885pOHfOR18tOHfvT9BRcQlYI=",
        "encoding": "base64",
        "path": [
         "colors",
         "compressed_buffer"
        ]
       },
       {
        "data": "eNpjYGiwZ8AAxIsBAF7EAv0=",
        "encoding": "base64",
        "path": [
         "model_matrix",
         "compressed_buffer"
        ]
       },
       {
        "data": "eNoVlHt0z2Ucx8WUS5ZbJsVcEpbjtl/KpX2+z7ODQy6NLYThTBqSo9KZy6IczbKL30zY5C6KOIal1D7f50Fujc1pzGz7+bmPpbHNxKj359/nfM77/Xq//ngKctPszugcDs+MN1mvJdpOiwq5xa6lprbuYlswupRbdkkwi7Nn2fefFrN3SqKZM32cjWxVxL1OfmPymw6yZyIu8Fl3hXnxQG/b6O5fvGZ5kuk+qp2t2nqO+w1PNoH+Rrbo5lnO7J5i2ufdNb8WnuZ1Q1JNHXvcdHhylP85vNI4KzaZN/IPceL3aSaj2ydm/KCtfLnZahM0r6OpczieK/9cY3bFbHXZG8iv98kwt2L+DT028FhWaGimvDs53kCSd9wr3JPcI0chhyQH+Qr5JPnoVe2fHCXpBY/6pfA0CQ849cWbZ0k4wa/BT8KPXRq7SHZhr86NuECyFx40PJB4gB8NPyR+4E3DG4k3+NTwSeKzIDdN/xCdQ+L5+FCvneL18V9Lgk1gSoKNXlDJtRVdTaefFtobW2p4WXkP4xsWaz29ajgmtY+ZUhFp9+dU8/lij/l8rbKNu1fx7/F9TQX1sDO+vM+hF980a6+3sWe/ruAmffqZ7MTn7Jjiv/nU4f4mfsItk32ljO/uHGj67jQmYf5VTnmDTMB/GabjZ4X8dLc23x6JNTb5KBdPGmLaf/OyeVS2ka++O8LMb7Hezc4P44YfjzH1IoM9y58Gh06f/p68Oz/nh5G8417hnuR+zZFYhRySHOQr5JPko1ehl6QXPAo8JDzg1OAk4QS/Bj8JP3Zp7CLZhb0ae0n2woOGBxIP8KPhh8QPvGl4I/EGnxo+SXzCs57q9ZF4XrQt1To1F3njtBVuzM1lduqRy+z3rHUPDY+z5Zd9HFO8wS27MM0ODSnlWneLe2NOhI26WMyTJ213xzUNs1/dv8QbJ+9wLx8Msb8NucSrOv3gPowOsoFZRTz22o+ur3GA/SeoiB+d2+32jfebftPQ1Xmvm/DgV/N4ViFveT3LjfOmG2/meZ4Ql+12OzHRHD2XzzlDfnfDQ5qZ6P6WH/Y56Ua2TnHP+JI4K6TETWk1w/PKkrc9uX+Wu1GtU5w8XxLtwzvu1eT+luQeOerYuXySHOSrtMzzJPnoVegl6QWPAg8JDzh1RVARCSf4NfhJ+LFLYxfJLuzV2EuyFx40PJB4gB8NP/QEfuBNwxuJN/jU8EniE541PJN4fmFfqh3c0M+tw1rSgJpldnPBVV75zKd06qM4eyvJz3Fdk+iP+9PsS/N83GRTGuUtjbADupTyhKHpNLBdmPUvLOGHc9LpDIfYvU4Jr1+VTr0/DLJVUSXcNG41jWsZYBvtKeE9h9bQJK/fNA8v5bzQ9bQ78LDxPy7ldsu30Ue70s2DKB+PrthPcysnmkU9S/i7BvkUPKCZmdwhj/XYAKdVbbKbeHwdJ3fwOLPDF3qyvKM8GevGO0G1yc6K4+tI3nGvpnTII4V75Kj4niUkObN3pSvkk+SjV6GX2qIXPKpFeCkJDzg1OEk4wa/BT8KPXRq7SHZhr8Zekr3woOGBxAP8aPgh8QNvGt5IvMGnhk8Sn/Cs4ZnEs3+x1166c4uvHvzDWZCbYDNsNTfYUeg06LbIRgfU8NABV5xRB2Nt59EP+Nq1G876wVF2zN5q3tS1zGnjU7byrWrOmXvbyf6ih21oq3jukjvOiVdftgltqjjVlju+vOdscf1KvpF019lcv8xsD7rHH4Tfc+Z9Zs2J2L/5x4XVzvDbmca9fZ2fb1Pr3Dkw0/S+XsBZHeupuu+0NUfG7OesiEZqxLANbvrIidw9srmavbm/59lShb+llRo5bIOzeuREknfcK9yT3JcfmKmQQ5KDfIV8knz0KvSS9IJHgYeEB5wanCSc4NfgpxTwY5fGLpJd2Kuxl2QvPGh4IPEAPxp+SPzAm4Y3Em/wqeGTxCc8a3gm8fw/m0rXOA==",
        "encoding": "base64",
        "path": [
         "origins",
         "compressed_buffer"
        ]
       },
       {
        "data": "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",
        "encoding": "base64",
        "path": [
         "vectors",
         "compressed_buffer"
        ]
       }
      ],
      "model_module": "k3d",
      "model_module_version": "2.7.0",
      "model_name": "ObjectModel",
      "state": {
       "_view_count": null,
       "_view_module": null,
       "_view_module_version": "",
       "_view_name": null,
       "colors": {
        "compressed_buffer": {},
        "dtype": "uint32",
        "shape": [
         155,
         2
        ]
       },
       "compression_level": 0,
       "head_color": 255,
       "head_size": 30,
       "id": 140035898417552,
       "label_size": 1,
       "labels": [],
       "line_width": 0.01,
       "model_matrix": {
        "compressed_buffer": {},
        "dtype": "float32",
        "shape": [
         4,
         4
        ]
       },
       "name": null,
       "origin_color": 255,
       "origins": {
        "compressed_buffer": {},
        "dtype": "float32",
        "shape": [
         155,
         3
        ]
       },
       "type": "Vectors",
       "use_head": true,
       "vectors": {
        "compressed_buffer": {},
        "dtype": "float32",
        "shape": [
         155,
         3
        ]
       },
       "visible": true
      }
     },
     "0a017858152242628bcb1842e3673dbb": {
      "buffers": [
       {
        "data": "eNot0vlP1gUcwPF3rVar1Wq14vR5Hh4eBOSSQy45fZ7v96spoRIiIqJAHCKH3Pf9cD7fLLMss8yyzLLM0sy01KJIo1BDEQUEfWBrba2ttbbW1sfVD6//4JV2l5X0u62su8fG+nttZN6nkHW/wsYHFLIfVMh5SGXzwyq5j6jkPaqS/5hKweMahU9oFD2pUeyiUeKmsc1do9RDo8xTo9ygUWHUqDRpVJk1qr01aiwatT4adb4a9X4aDf4qDQEqjYEqTUEqzcEqLSEKLaEKrWEKbeEK7RE22iNtdETZ6Iy20hljpStWxC2jO14kJGNPFEnJ9CQn0WNNoteWSK8i1AT6NLE8nr4V8fSvFKvi6E8RTy9lIFWsjmVgjVgbw2CaeCaawXSREcXgepEZiWODyFqCY6PIjsCxSeSE49gstoThyA1DzwtFzxfPLkYvEIWiKAS9WGwNRi8R24LQS0WZKA9Er7gjAH27qBRVi9CrRY0/eq2oE/V+6A2iUTT5ojeLloXoraJNtPugd/yv04LeJbqF3Ru9R/Sa0fvMOPrFgBeOQeEQugnHc2KHicHnxQvG/+wULxoY2CVeEi+L3Qb6XxGvij0L6HtN7BWvG+h9Q+wTbxrouWO/AftbRuxvG+k+YKL7HfGuF10Hveh8z0znIW863rfQ8YGF9sM+YiFtH/rS+pEfrUf8afk4gOajgTR9EkTTp8E0HltMw/FQ6o+HU/9ZBHUnIqn9PIqakzFUfxFL1ak4Kk8lsP10IhVfJlP+lZWyMwqlZ+Xj2RWUnFvJ1q9TKP4mlaKhNRQOpVHwbTr532WQN5xJ7nAWW77PJud8Dpsu5JJ9IZ+sHwrYMFJE5kgJGT+Wsu6nctJHK0kbrWbtxVpWX2wg9VITKZdbWXW5nad+7mL5mB1trA/lygC2KzrLru4g6epOEsd3ET++m6XX9hB7bS/RE/uInNjPkusHCL9+kNAbhwi5cZjgySMETh5l0dQx/KZO4Dt1Ep/p01imz2CePofp5hDGm8MYZs7jOTOCx8wo7rOXcJsdw3V2HNdbE7jcmhTTuNyexfW2U8zj5vwFd+eveDh/w9P5Owvm/sA49yemub8wz/+NZf4f/gXLh0p6",
        "encoding": "base64",
        "path": [
         "color_map",
         "compressed_buffer"
        ]
       },
       {
        "data": "eNpjYBBzZkAD267NcmDAAB8cGRgWHEAVa7AHAK99BhA=",
        "encoding": "base64",
        "path": [
         "model_matrix",
         "compressed_buffer"
        ]
       },
       {
        "data": "eNoBmwBk/0NjeomSmZ6jqbC6xtbp+P/46dbGurCpo56Zkol6Y0NJaXyIkJWanqOqsr7N4fX/9eHNvrKqo56alZCIfGlJXnN+hYmMj5KVmZ6lsMTl/+XEsKWemZWSj4yJhX5zXpaDe3h4eHd3dnRxa15HIAEgR15rcXR2d3d4eHh7g5aqjHx1cW9ta2hjXFJBKQ4BDilBUlxjaGttb3F1fIyqWsNTYg==",
        "encoding": "base64",
        "path": [
         "voxels",
         "compressed_buffer"
        ]
       }
      ],
      "model_module": "k3d",
      "model_module_version": "2.7.0",
      "model_name": "ObjectModel",
      "state": {
       "_view_count": null,
       "_view_module": null,
       "_view_module_version": "",
       "_view_name": null,
       "color_map": {
        "compressed_buffer": {},
        "dtype": "uint32",
        "shape": [
         256
        ]
       },
       "compression_level": 0,
       "id": 140035897071312,
       "model_matrix": {
        "compressed_buffer": {},
        "dtype": "float32",
        "shape": [
         4,
         4
        ]
       },
       "name": null,
       "opacity": 1,
       "outlines": false,
       "outlines_color": 0,
       "type": "Voxels",
       "visible": true,
       "voxels": {
        "compressed_buffer": {},
        "dtype": "uint8",
        "shape": [
         5,
         1,
         31
        ]
       },
       "wireframe": false
      }
     },
     "0b2e80d80c45412d99bea7c41341badf": {
      "model_module": "@jupyter-widgets/output",
      "model_module_version": "1.0.0",
      "model_name": "OutputModel",
      "state": {
       "layout": "IPY_MODEL_4f8879f01d274b6d849715d980bca948",
       "outputs": [
        {
         "data": {
          "application/vnd.jupyter.widget-view+json": {
           "model_id": "f268d844957c4e328f34ca7be27ba9fe",
           "version_major": 2,
           "version_minor": 0
          },
          "text/plain": "Plot(antialias=3, axes=['x', 'y', 'z'], axes_helper=1.0, background_color=16777215, camera=[4.5, 4.5, 4.5, 0.0…"
         },
         "metadata": {},
         "output_type": "display_data"
        }
       ]
      }
     },
     "0bd350b9c6ac486fb40b0b2264245c65": {
      "model_module": "@jupyter-widgets/base",
      "model_module_version": "1.2.0",
      "model_name": "LayoutModel",
      "state": {}
     },
     "0e1a807b9dfd467b834ec912de6a3ef1": {
      "buffers": [
       {
        "data": "eNoDAAAAAAE=",
        "encoding": "base64",
        "path": [
         "colors",
         "compressed_buffer"
        ]
       },
       {
        "data": "eNpjYGiwZ8AAxIsBAF7EAv0=",
        "encoding": "base64",
        "path": [
         "model_matrix",
         "compressed_buffer"
        ]
       },
       {
        "data": "eNpN18Fx2zoUhlHt0EY26AAFALiVoIN0wFSQ5a3nSSWgomfaIXlW+hei/Z0ZjAZ8vfL9+vP383r9er9ejf37P3bnO+PZyS5fn8e/vd/PTnZjf/39Z3e+M3iWvdllPju+Pte/XdmFffYsehY9i55Fz6Jn0bPoWfTcDexgn59Bc9AcNAfNQXPQHDQHzUFz0Bw0B81Bc9B87eX+/LRe/ZX+Sn+lv9Jf6a/0V/or/ZX+Sn+lv9Jf6a/0X/s8LwVLwVKwFCwFS8FSsBQsBUvBUrAULAVLwVKwFCzXPtyfn77Lde1gV3Zh7/ezk93Yp+vene8MnmVv9um6G9jBXuzj2d+/K/l+jIkxMSbGxJgYE2NiTIyJMTEmxsSYGBNjYkyMiTEvo/vz03R5G96Gt+FteBvehrfhbXgb3oa34W14G96Gt+FteBvehrfhPTsu77UXO9iVXdj7/exkN/b5ee/OdwbPsjf79N4N7GAv9vHsb++9Pz//+/Z2vB1vx9vxdrwdb8fb8Xa8HW/H2/F2vB1vx9vxdrwdb+c8D87z4DwPzvPgPA/O8+A8D87z4DwPzvPgPA/O8+A8D87z4DwPzvPgPA/O8+A8D87z4PcKb+JNvIk38SbexJt4E2/iTbyJN/Em3sSbeBNv4k28GjfGjXFj3Bg3xo1xY9wYN8aNcWPcGDfGjXFj3Bg3xo3rfP6+J0zuCZN7wuSeMLknTO4Jk3vC5J4wuSdM7gmTe8LknjC5J0zuCZN7wuSeMLknYKlYKpaKpWKpWCqWiqViqVgqloqlYqlYKpaKpdIf9Af9QX/QH/QH/UF/0B/0B/1Bf9Af9Af9Qb/Ni+ZF86J50bxoXjQvmhfNi+ZF86J50bxotueg56DnoOeg56DnoOeg56DnoIe///37cr+HTt5DJ++hk/fQyXvo9/4fWktQ2g==",
        "encoding": "base64",
        "path": [
         "positions",
         "compressed_buffer"
        ]
       }
      ],
      "model_module": "k3d",
      "model_module_version": "2.7.0",
      "model_name": "ObjectModel",
      "state": {
       "_view_count": null,
       "_view_module": null,
       "_view_module_version": "",
       "_view_name": null,
       "color": 10075135,
       "colors": {
        "compressed_buffer": {},
        "dtype": "uint32",
        "shape": [
         0
        ]
       },
       "compression_level": 0,
       "id": 140693221317264,
       "mesh_detail": 2,
       "model_matrix": {
        "compressed_buffer": {},
        "dtype": "float32",
        "shape": [
         4,
         4
        ]
       },
       "name": null,
       "opacity": 1,
       "point_size": 0.1,
       "positions": {
        "compressed_buffer": {},
        "dtype": "float32",
        "shape": [
         316,
         3
        ]
       },
       "shader": "3dSpecular",
       "type": "Points",
       "visible": true
      }
     },
     "0fb19a75a57e4297a0b892bf2504707e": {
      "model_module": "@jupyter-widgets/output",
      "model_module_version": "1.0.0",
      "model_name": "OutputModel",
      "state": {
       "layout": "IPY_MODEL_1799f451d5054a33a7a610303b36517a",
       "outputs": [
        {
         "data": {
          "application/vnd.jupyter.widget-view+json": {
           "model_id": "26f880eb643840d3a4a3d389248cda43",
           "version_major": 2,
           "version_minor": 0
          },
          "text/plain": "Plot(antialias=3, axes=['x', 'y', 'z'], axes_helper=1.0, background_color=16777215, camera=[4.5, 4.5, 4.5, 0.0…"
         },
         "metadata": {},
         "output_type": "display_data"
        }
       ]
      }
     },
     "0ff0f776cfde46aaba0117176255ed4c": {
      "model_module": "k3d",
      "model_module_version": "2.7.0",
      "model_name": "PlotModel",
      "state": {
       "_backend_version": "2.7.0",
       "_dom_classes": [],
       "_view_count": null,
       "antialias": 3,
       "axes": [
        "x",
        "y",
        "z"
       ],
       "axes_helper": 1,
       "background_color": 16777215,
       "camera": [
        77.07063692828041,
        -76.12346789392844,
        8.944828832211726,
        0.0156402587890625,
        0.040035247802734375,
        -3.082554578781128,
        -0.002622421686073774,
        0.07554068806873943,
        0.9971392717923637
       ],
       "camera_auto_fit": true,
       "camera_fov": 60,
       "camera_no_pan": false,
       "camera_no_rotate": false,
       "camera_no_zoom": false,
       "clipping_planes": [],
       "colorbar_object_id": -1,
       "fps_meter": false,
       "grid": [
        -1,
        -1,
        -1,
        1,
        1,
        1
       ],
       "grid_auto_fit": true,
       "grid_visible": true,
       "height": 512,
       "layout": "IPY_MODEL_090db5b171ba455d9a92614abaa4494a",
       "lighting": 1.5,
       "menu_visibility": true,
       "name": null,
       "object_ids": [
        140693223599888,
        140693221317264,
        140693223758352,
        140693221315792
       ],
       "rendering_steps": 1,
       "screenshot": "",
       "screenshot_scale": 2,
       "time": 0,
       "voxel_paint_color": 0
      }
     },
     "116e000356e34e72af9f5cc52ae70bfe": {
      "model_module": "@jupyter-widgets/output",
      "model_module_version": "1.0.0",
      "model_name": "OutputModel",
      "state": {
       "layout": "IPY_MODEL_c806bea3b7bf4a9784e4c24a3b37fe39",
       "outputs": [
        {
         "data": {
          "application/vnd.jupyter.widget-view+json": {
           "model_id": "0ff0f776cfde46aaba0117176255ed4c",
           "version_major": 2,
           "version_minor": 0
          },
          "text/plain": "Plot(antialias=3, axes=['x', 'y', 'z'], axes_helper=1.0, background_color=16777215, camera=[4.5, 4.5, 4.5, 0.0…"
         },
         "metadata": {},
         "output_type": "display_data"
        }
       ]
      }
     },
     "1215a7a85daa407a95be83e6637f8632": {
      "model_module": "@jupyter-widgets/output",
      "model_module_version": "1.0.0",
      "model_name": "OutputModel",
      "state": {
       "layout": "IPY_MODEL_ac171d5c05e24d61808c3bcd92a36bb6",
       "outputs": [
        {
         "data": {
          "application/vnd.jupyter.widget-view+json": {
           "model_id": "fac8554a7cdb4477986b67515cdb9edd",
           "version_major": 2,
           "version_minor": 0
          },
          "text/plain": "Plot(antialias=3, axes=['x', 'y', 'z'], axes_helper=1.0, background_color=16777215, camera=[4.5, 4.5, 4.5, 0.0…"
         },
         "metadata": {},
         "output_type": "display_data"
        }
       ]
      }
     },
     "12390e6f22dd4a9888b349b05c49eaa2": {
      "model_module": "@jupyter-widgets/base",
      "model_module_version": "1.2.0",
      "model_name": "LayoutModel",
      "state": {}
     },
     "14c9a7c0b6264e5ea4de2e6d2f547285": {
      "model_module": "k3d",
      "model_module_version": "2.7.0",
      "model_name": "PlotModel",
      "state": {
       "_backend_version": "2.7.0",
       "_dom_classes": [],
       "_view_count": null,
       "antialias": 3,
       "axes": [
        "x",
        "y",
        "z"
       ],
       "axes_helper": 1,
       "background_color": 16777215,
       "camera": [
        178.37844914807036,
        -268.17251318435166,
        12.562038533530174,
        -0.2419357848984518,
        -0.2419357848984518,
        -5.299999959766865,
        0,
        0,
        1
       ],
       "camera_auto_fit": true,
       "camera_fov": 60,
       "camera_no_pan": false,
       "camera_no_rotate": false,
       "camera_no_zoom": false,
       "clipping_planes": [],
       "colorbar_object_id": -1,
       "fps_meter": false,
       "grid": [
        -1,
        -1,
        -1,
        1,
        1,
        1
       ],
       "grid_auto_fit": true,
       "grid_visible": true,
       "height": 512,
       "layout": "IPY_MODEL_029e5e1047da4f888a53456120e3b64e",
       "lighting": 1.5,
       "menu_visibility": true,
       "name": null,
       "object_ids": [
        140693222218768
       ],
       "rendering_steps": 1,
       "screenshot": "",
       "screenshot_scale": 2,
       "time": 0,
       "voxel_paint_color": 0
      }
     },
     "14e41715891a48baa0f6e064628b233f": {
      "model_module": "@jupyter-widgets/output",
      "model_module_version": "1.0.0",
      "model_name": "OutputModel",
      "state": {
       "layout": "IPY_MODEL_90e7e77cf2ff49c9bf6c3449ccea5a1f",
       "outputs": [
        {
         "data": {
          "application/vnd.jupyter.widget-view+json": {
           "model_id": "7771510660b049c7ae60f4e67e4f784e",
           "version_major": 2,
           "version_minor": 0
          },
          "text/plain": "Plot(antialias=3, axes=['x', 'y', 'z'], axes_helper=1.0, background_color=16777215, camera=[4.5, 4.5, 4.5, 0.0…"
         },
         "metadata": {},
         "output_type": "display_data"
        }
       ]
      }
     },
     "166ccba78a2b4ea8968f54652a940d3d": {
      "buffers": [
       {
        "data": "eNoDAAAAAAE=",
        "encoding": "base64",
        "path": [
         "colors",
         "compressed_buffer"
        ]
       },
       {
        "data": "eNpjYGiwZ8AAxIsBAF7EAv0=",
        "encoding": "base64",
        "path": [
         "model_matrix",
         "compressed_buffer"
        ]
       },
       {
        "data": "eNpN171xGzEUhVFmqOR1gALwUwk6cAfrChy+2KVYLAEVWUtqlyfQ8AZc6TsjDDF8POrX4/ef5+Pxtz0ev/6x22fX/tnl+/X42fvrs5Nd2d+/87Mb7+k8y97sMj47vl8XDYuGRcOiYdGwaFg0LBoWDYuGawd7Pt8/V9ukbdI2aZu0TdombZO2SdukbdI2abv2ZJ+9QXPQHDQHzUFz0Bw0B81Bc9AcNAfNQXPQfO3FPv//BUvBUrAULAVLwVKwFCwFS8FSsBQsBUvBUrAULNc+3M933+W69mQHu7DP12snu7JP170b7+k8y97s03U3sCd7sQ/38910uRJX4kpciStxJa7ElbgSV+JKXIkrcSWuxJW4fvbr869irBgrxoqxYqwYK8aKsWKsGCvGirFirBgrxoqxYqwY62V0P98dl/faiz3ZwS7s03vtZFf2+Xrvxns6z7I3+/TeDezJXuzjs1/eez/ff/v2NrwNb8Pb8Da8DW/D2/A2vA1vw9vwNrwNb8Pb8Da8DW/jPHfOc+c8d85z5zx3znPnPHfOc+c8d85z5zx3znPnPHfOc+c8d85z5zx3znPnPHfOM8bEmBgTY2JMjIkxMSbGxJgYE2NiTIyJMTEmxsSYuDaujWvj2rg2ro1r49q4Nq6Na+PauDaujWvj2rg2ro3rfP6+9wf3/uDeH9z7g3t/cO8P7v3BvT+49wf3/uDeH9z7g3t/cO8P7v3BvT+497EElsASWAJLYAksgSWwBJbAElgCS2AJLIHF5knzpHnSPGmeNE+aJ82T5knzpHnSPGmeNNu2aFu0LdoWbYu2RduibdG2aFu0LdpsOGg4aDhoOGg4aDhoOGg4aDho4He+Pgfv73eD73eD73ev/R8GCB8m",
        "encoding": "base64",
        "path": [
         "positions",
         "compressed_buffer"
        ]
       }
      ],
      "model_module": "k3d",
      "model_module_version": "2.7.0",
      "model_name": "ObjectModel",
      "state": {
       "_view_count": null,
       "_view_module": null,
       "_view_module_version": "",
       "_view_name": null,
       "color": 10075135,
       "colors": {
        "compressed_buffer": {},
        "dtype": "uint32",
        "shape": [
         0
        ]
       },
       "compression_level": 0,
       "id": 140693222564944,
       "mesh_detail": 2,
       "model_matrix": {
        "compressed_buffer": {},
        "dtype": "float32",
        "shape": [
         4,
         4
        ]
       },
       "name": null,
       "opacity": 1,
       "point_size": 0.1,
       "positions": {
        "compressed_buffer": {},
        "dtype": "float32",
        "shape": [
         300,
         3
        ]
       },
       "shader": "3dSpecular",
       "type": "Points",
       "visible": true
      }
     },
     "176917b52a584d31926e64a8139a9212": {
      "model_module": "@jupyter-widgets/base",
      "model_module_version": "1.2.0",
      "model_name": "LayoutModel",
      "state": {}
     },
     "1799f451d5054a33a7a610303b36517a": {
      "model_module": "@jupyter-widgets/base",
      "model_module_version": "1.2.0",
      "model_name": "LayoutModel",
      "state": {}
     },
     "1989c23dbe384ab6a216dd82849d5f9f": {
      "model_module": "@jupyter-widgets/output",
      "model_module_version": "1.0.0",
      "model_name": "OutputModel",
      "state": {
       "layout": "IPY_MODEL_473abc552eb747d6a708e541219cd350",
       "outputs": [
        {
         "data": {
          "application/vnd.jupyter.widget-view+json": {
           "model_id": "14c9a7c0b6264e5ea4de2e6d2f547285",
           "version_major": 2,
           "version_minor": 0
          },
          "text/plain": "Plot(antialias=3, axes=['x', 'y', 'z'], axes_helper=1.0, background_color=16777215, camera=[4.5, 4.5, 4.5, 0.0…"
         },
         "metadata": {},
         "output_type": "display_data"
        }
       ]
      }
     },
     "1a021d4f53984b95af45aab79f2d7098": {
      "model_module": "k3d",
      "model_module_version": "2.7.0",
      "model_name": "PlotModel",
      "state": {
       "_backend_version": "2.7.0",
       "_dom_classes": [],
       "_view_count": null,
       "antialias": 3,
       "axes": [
        "x",
        "y",
        "z"
       ],
       "axes_helper": 1,
       "background_color": 16777215,
       "camera": [
        178.37844914807036,
        -268.17251318435166,
        12.562038533530174,
        -0.2419357848984518,
        -0.2419357848984518,
        -5.299999959766865,
        0,
        0,
        1
       ],
       "camera_auto_fit": true,
       "camera_fov": 60,
       "camera_no_pan": false,
       "camera_no_rotate": false,
       "camera_no_zoom": false,
       "clipping_planes": [],
       "colorbar_object_id": -1,
       "fps_meter": false,
       "grid": [
        -1,
        -1,
        -1,
        1,
        1,
        1
       ],
       "grid_auto_fit": true,
       "grid_visible": true,
       "height": 512,
       "layout": "IPY_MODEL_c5fcd91471b04dffb79493214ca264e1",
       "lighting": 1.5,
       "menu_visibility": true,
       "name": null,
       "object_ids": [
        140036057395856
       ],
       "rendering_steps": 1,
       "screenshot": "",
       "screenshot_scale": 2,
       "time": 0,
       "voxel_paint_color": 0
      }
     },
     "1e07fe4879c54d2187284b811ac920c2": {
      "buffers": [
       {
        "data": "eNrNlrlKA2EQgPUtFEliSCIogni0dpJKUllrIVbaWRmFoEFzacBCC1E8EEFRsNA8gJbBxsLekGDtAwjK7Hw/7MjGW1J8zfDPsXNuqPHcFnqjo14TOusNIaTy0OOdMFmdEWZvU8JCZURYvB70gZx36HXV7oXE04swVZ0W0pUhIXPZJ2TP4h6nMT8q5x1+sI/d5ENJmLsZF1bOE8LacbeQO4oI+YPm8A695YseAbv4wS/ypasBYfUkKuQPIx77HoW9cFNcDKqHHeziB7/klTwQp/Ov9gq7YaG4ExFK28qWQeW8Qw872CWv1NH2CfUhf3wP9vC3vhkVyrm4RzbhR+W8Q8/FpXbxQz/ZfqVvbP35TuxvFGNCOd3rMd/vR+W8Qw871Bk/+CUO5or80NeuTtoH1MHlRf0WU6NCZjjpA7mLW/WwY/sLv8RBXMw/88z8vYtP6+DqpPkhnon2MR/IXR5Vz9XTxqd+iYP9BK0Wn92brVrfwHnQvv31eTD71M4Dc8rc/ve+sHeEPcZeY8/99T5lbwfdyw/vi+mvwPuidf7sfbH3lDh/ek/Ja9A9tXfkq/8H9BN1DLqX3/2foU/s3mQ/IX8FefcvTg==",
        "encoding": "base64",
        "path": [
         "colors",
         "compressed_buffer"
        ]
       },
       {
        "data": "eNpjYGiwZ8AAxIsBAF7EAv0=",
        "encoding": "base64",
        "path": [
         "model_matrix",
         "compressed_buffer"
        ]
       },
       {
        "data": "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",
        "encoding": "base64",
        "path": [
         "origins",
         "compressed_buffer"
        ]
       },
       {
        "data": "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",
        "encoding": "base64",
        "path": [
         "vectors",
         "compressed_buffer"
        ]
       }
      ],
      "model_module": "k3d",
      "model_module_version": "2.7.0",
      "model_name": "ObjectModel",
      "state": {
       "_view_count": null,
       "_view_module": null,
       "_view_module_version": "",
       "_view_name": null,
       "colors": {
        "compressed_buffer": {},
        "dtype": "uint32",
        "shape": [
         300,
         2
        ]
       },
       "compression_level": 0,
       "head_color": 255,
       "head_size": 30,
       "id": 140693203942992,
       "label_size": 1,
       "labels": [],
       "line_width": 0.01,
       "model_matrix": {
        "compressed_buffer": {},
        "dtype": "float32",
        "shape": [
         4,
         4
        ]
       },
       "name": null,
       "origin_color": 255,
       "origins": {
        "compressed_buffer": {},
        "dtype": "float32",
        "shape": [
         300,
         3
        ]
       },
       "type": "Vectors",
       "use_head": true,
       "vectors": {
        "compressed_buffer": {},
        "dtype": "float32",
        "shape": [
         300,
         3
        ]
       },
       "visible": true
      }
     },
     "1e8675bfd8e04fb7b80ef50afb45053e": {
      "buffers": [
       {
        "data": "eNoDAAAAAAE=",
        "encoding": "base64",
        "path": [
         "colors",
         "compressed_buffer"
        ]
       },
       {
        "data": "eNpjYGiwZ8AAxIsBAF7EAv0=",
        "encoding": "base64",
        "path": [
         "model_matrix",
         "compressed_buffer"
        ]
       },
       {
        "data": "eNpN18Fx2zAURVHtUAk6QAEAfiXoIB0wFWT51yklVgmoKKZkUmfFt5Dse2YwGvDxyK/H7z/Px+Nvfzwa+9c/ducz47OTXb6fx8/eX5+d7Mb+/vuf3fnM4LvszS7zs+P7uX52ZRf22bPoWfQsehY9i55Fz6Jn0XM3sIN9PoPmoDloDpqD5qA5aA6ag+agOWgOmoPmoPnay/18t179lf5Kf6W/0l/pr/RX+iv9lf5Kf6W/0l/pr/Rf+zwvBUvBUrAULAVLwVKwFCwFS8FSsBQsBUvBUrAULNc+3M933+W6drAru7DP57WT3din696dzwy+y97s03U3sIO92Mdnv35X8utjTIyJMTEmxsSYGBNjYkyMiTExJsbEmBgTY2JMjHkZ3c930+VteBvehrfhbXgb3oa34W14G96Gt+FteBvehrfhbXgb3ob37Li8117sYFd2YZ/eaye7sc/nvTufGXyXvdmn925gB3uxj89+ee/9fP/v29vxdrwdb8fb8Xa8HW/H2/F2vB1vx9vxdrwdb8fb8Xa8nfM8OM+D8zw4z4PzPDjPg/M8OM+D8zw4z4PzPDjPg/M8OM+D8zw4z4PzPDjPg/M8OM+D3yu8iTfxJt7Em3gTb+JNvIk38SbexJt4E2/iTbyJN/Fq3Bg3xo1xY9wYN8aNcWPcGDfGjXFj3Bg3xo1xY9wYN67z+/c9YXJPmNwTJveEyT1hck+Y3BMm94TJPWFyT5jcEyb3hMk9YXJPmNwTJveEyT0BS8VSsVQsFUvFUrFULBVLxVKxVCwVS8VSsVQslf6gP+gP+oP+oD/oD/qD/qA/6A/6g/6gP+gP+m1eNC+aF82L5kXzonnRvGheNC+aF82L5kWzPQc9Bz0HPQc9Bz0HPQc9Bz0HPfz91+/L/R46eQ+dvIdO3kMn76Gv/R/ZkE+e",
        "encoding": "base64",
        "path": [
         "positions",
         "compressed_buffer"
        ]
       }
      ],
      "model_module": "k3d",
      "model_module_version": "2.7.0",
      "model_name": "ObjectModel",
      "state": {
       "_view_count": null,
       "_view_module": null,
       "_view_module_version": "",
       "_view_name": null,
       "color": 10075135,
       "colors": {
        "compressed_buffer": {},
        "dtype": "uint32",
        "shape": [
         0
        ]
       },
       "compression_level": 0,
       "id": 140693221315792,
       "mesh_detail": 2,
       "model_matrix": {
        "compressed_buffer": {},
        "dtype": "float32",
        "shape": [
         4,
         4
        ]
       },
       "name": null,
       "opacity": 1,
       "point_size": 0.1,
       "positions": {
        "compressed_buffer": {},
        "dtype": "float32",
        "shape": [
         316,
         3
        ]
       },
       "shader": "3dSpecular",
       "type": "Points",
       "visible": true
      }
     },
     "205440b73a13431382df5e6bdb688e83": {
      "buffers": [
       {
        "data": "eNq7PcOEwcbnOUPCOnUG/iMfGda69DF8/PCGAQB5NApc",
        "encoding": "base64",
        "path": [
         "color_map",
         "compressed_buffer"
        ]
       },
       {
        "data": "eNpjYBBzZsAA2MQ+ODIwLDiAKtZgDwBXFgQD",
        "encoding": "base64",
        "path": [
         "model_matrix",
         "compressed_buffer"
        ]
       },
       {
        "data": "eNrtwQEJAAAAAiDq/+iGpCYAAAAAAADAiwIAAHBpRUM4QQ==",
        "encoding": "base64",
        "path": [
         "voxels",
         "compressed_buffer"
        ]
       }
      ],
      "model_module": "k3d",
      "model_module_version": "2.7.0",
      "model_name": "ObjectModel",
      "state": {
       "_view_count": null,
       "_view_module": null,
       "_view_module_version": "",
       "_view_name": null,
       "color_map": {
        "compressed_buffer": {},
        "dtype": "uint32",
        "shape": [
         6
        ]
       },
       "compression_level": 0,
       "id": 140693221855696,
       "model_matrix": {
        "compressed_buffer": {},
        "dtype": "float32",
        "shape": [
         4,
         4
        ]
       },
       "name": null,
       "opacity": 1,
       "outlines": false,
       "outlines_color": 0,
       "type": "Voxels",
       "visible": true,
       "voxels": {
        "compressed_buffer": {},
        "dtype": "uint8",
        "shape": [
         12,
         30,
         30
        ]
       },
       "wireframe": false
      }
     },
     "206d835659534b999451523b33578f05": {
      "model_module": "@jupyter-widgets/base",
      "model_module_version": "1.2.0",
      "model_name": "LayoutModel",
      "state": {}
     },
     "20c23a06e3d84426b6d35267fc66a84c": {
      "buffers": [
       {
        "data": "eNot0vlP1gUcwPF3rVar1Wq14vR5Hh4eBOSSQy45fZ7v96spoRIiIqJAHCKH3Pf9cD7fLLMss8yyzLLM0sy01KJIo1BDEQUEfWBrba2ttbbW1sfVD6//4JV2l5X0u62su8fG+nttZN6nkHW/wsYHFLIfVMh5SGXzwyq5j6jkPaqS/5hKweMahU9oFD2pUeyiUeKmsc1do9RDo8xTo9ygUWHUqDRpVJk1qr01aiwatT4adb4a9X4aDf4qDQEqjYEqTUEqzcEqLSEKLaEKrWEKbeEK7RE22iNtdETZ6Iy20hljpStWxC2jO14kJGNPFEnJ9CQn0WNNoteWSK8i1AT6NLE8nr4V8fSvFKvi6E8RTy9lIFWsjmVgjVgbw2CaeCaawXSREcXgepEZiWODyFqCY6PIjsCxSeSE49gstoThyA1DzwtFzxfPLkYvEIWiKAS9WGwNRi8R24LQS0WZKA9Er7gjAH27qBRVi9CrRY0/eq2oE/V+6A2iUTT5ojeLloXoraJNtPugd/yv04LeJbqF3Ru9R/Sa0fvMOPrFgBeOQeEQugnHc2KHicHnxQvG/+wULxoY2CVeEi+L3Qb6XxGvij0L6HtN7BWvG+h9Q+wTbxrouWO/AftbRuxvG+k+YKL7HfGuF10Hveh8z0znIW863rfQ8YGF9sM+YiFtH/rS+pEfrUf8afk4gOajgTR9EkTTp8E0HltMw/FQ6o+HU/9ZBHUnIqn9PIqakzFUfxFL1ak4Kk8lsP10IhVfJlP+lZWyMwqlZ+Xj2RWUnFvJ1q9TKP4mlaKhNRQOpVHwbTr532WQN5xJ7nAWW77PJud8Dpsu5JJ9IZ+sHwrYMFJE5kgJGT+Wsu6nctJHK0kbrWbtxVpWX2wg9VITKZdbWXW5nad+7mL5mB1trA/lygC2KzrLru4g6epOEsd3ET++m6XX9hB7bS/RE/uInNjPkusHCL9+kNAbhwi5cZjgySMETh5l0dQx/KZO4Dt1Ep/p01imz2CePofp5hDGm8MYZs7jOTOCx8wo7rOXcJsdw3V2HNdbE7jcmhTTuNyexfW2U8zj5vwFd+eveDh/w9P5Owvm/sA49yemub8wz/+NZf4f/gXLh0p6",
        "encoding": "base64",
        "path": [
         "color_map",
         "compressed_buffer"
        ]
       },
       {
        "data": "eNpjYBBzZsAACxwwxT44AsUPoIo12AMAbT8Eig==",
        "encoding": "base64",
        "path": [
         "model_matrix",
         "compressed_buffer"
        ]
       },
       {
        "data": "eNqzjS1t6Zsya8HyDXvO3P/0//+n+2f2bFi+YNaUvpbSWDvbuDKQ7PxlG/acvgeSvXcaLhtnaxsPkp05f9n63afufvz//+PdU7vXL5s/c0pvS1m8rX1ieUvv5Bnzlq7defzWu3//3t06vnPt0nkzJve2lCfaOyeXt3RPnDZn0aoth668/PPn5ZVDW1YtmjNtYndzebKTV3pFU2ff5Olzl6zdefLB9+8PTu5cu2Tu9Ml9nU0V6Z6hORUNrZ29E6fOXrR6x9lXr87uWL1o9tSJvZ2tDRXZIamF5TUNzW0d3f1Ay1cePLhi3vTJ/d0dbc31NeUFqbWlJWUVVTW1dfX1tRVZfn45FbX19XW1NVUVZSWldX1VxUXFJSWlJcUFmdGOkpJOMZkFxUBuSXFRSVXf9LrignwgyM1OjfHSYWfX8YpJy87Lzy8oKCiumzGnoTg/Lzc3JystIdRRiZFRyTE0IS0rJzc3L7+kYQ4A4DTE8Q==",
        "encoding": "base64",
        "path": [
         "voxels",
         "compressed_buffer"
        ]
       }
      ],
      "model_module": "k3d",
      "model_module_version": "2.7.0",
      "model_name": "ObjectModel",
      "state": {
       "_view_count": null,
       "_view_module": null,
       "_view_module_version": "",
       "_view_name": null,
       "color_map": {
        "compressed_buffer": {},
        "dtype": "uint32",
        "shape": [
         256
        ]
       },
       "compression_level": 0,
       "id": 140693222218320,
       "model_matrix": {
        "compressed_buffer": {},
        "dtype": "float32",
        "shape": [
         4,
         4
        ]
       },
       "name": null,
       "opacity": 1,
       "outlines": false,
       "outlines_color": 0,
       "type": "Voxels",
       "visible": true,
       "voxels": {
        "compressed_buffer": {},
        "dtype": "uint8",
        "shape": [
         12,
         1,
         30
        ]
       },
       "wireframe": false
      }
     },
     "23b2606f2cda4c299ceb051a911be2f5": {
      "buffers": [
       {
        "data": "eNoDAAAAAAE=",
        "encoding": "base64",
        "path": [
         "colors",
         "compressed_buffer"
        ]
       },
       {
        "data": "eNpjYGiwZ8AAxIsBAF7EAv0=",
        "encoding": "base64",
        "path": [
         "model_matrix",
         "compressed_buffer"
        ]
       },
       {
        "data": "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",
        "encoding": "base64",
        "path": [
         "origins",
         "compressed_buffer"
        ]
       },
       {
        "data": "eNrtxiEBAAAIwLBHo38qHAWwm1qdyd3d3d3d3d3d3d3d3d3d3d3fXypnswE=",
        "encoding": "base64",
        "path": [
         "vectors",
         "compressed_buffer"
        ]
       }
      ],
      "model_module": "k3d",
      "model_module_version": "2.7.0",
      "model_name": "ObjectModel",
      "state": {
       "_view_count": null,
       "_view_module": null,
       "_view_module_version": "",
       "_view_name": null,
       "colors": {
        "compressed_buffer": {},
        "dtype": "uint32",
        "shape": [
         0
        ]
       },
       "compression_level": 0,
       "head_color": 255,
       "head_size": 30,
       "id": 140693221795536,
       "label_size": 1,
       "labels": [],
       "line_width": 0.01,
       "model_matrix": {
        "compressed_buffer": {},
        "dtype": "float32",
        "shape": [
         4,
         4
        ]
       },
       "name": null,
       "origin_color": 255,
       "origins": {
        "compressed_buffer": {},
        "dtype": "float32",
        "shape": [
         716,
         3
        ]
       },
       "type": "Vectors",
       "use_head": true,
       "vectors": {
        "compressed_buffer": {},
        "dtype": "float32",
        "shape": [
         716,
         3
        ]
       },
       "visible": true
      }
     },
     "24bcac72fa184f6e87caa05e241877b6": {
      "buffers": [
       {
        "data": "eNq7PcOEAQAFoAGo",
        "encoding": "base64",
        "path": [
         "color_map",
         "compressed_buffer"
        ]
       },
       {
        "data": "eNpjYBBzZsAA2MQ+ODIwLDiAKtZgDwBXFgQD",
        "encoding": "base64",
        "path": [
         "model_matrix",
         "compressed_buffer"
        ]
       },
       {
        "data": "eNrt0zEOgDAQA8Hb/3+aggIkIruIaKJ1u1ThZuYZ92Y13ovx8wGkDqlD6pA6xJ4zxL6VOXW/vtrmD23X0m6tXWq786akGatCBSxgAQtYwAIWsIAFLGABC1jAAj4c8AVsDw6i",
        "encoding": "base64",
        "path": [
         "voxels",
         "compressed_buffer"
        ]
       }
      ],
      "model_module": "k3d",
      "model_module_version": "2.7.0",
      "model_name": "ObjectModel",
      "state": {
       "_view_count": null,
       "_view_module": null,
       "_view_module_version": "",
       "_view_name": null,
       "color_map": {
        "compressed_buffer": {},
        "dtype": "uint32",
        "shape": []
       },
       "compression_level": 0,
       "id": 140558421523344,
       "model_matrix": {
        "compressed_buffer": {},
        "dtype": "float32",
        "shape": [
         4,
         4
        ]
       },
       "name": null,
       "opacity": 1,
       "outlines": false,
       "outlines_color": 0,
       "type": "Voxels",
       "visible": true,
       "voxels": {
        "compressed_buffer": {},
        "dtype": "uint8",
        "shape": [
         5,
         31,
         31
        ]
       },
       "wireframe": false
      }
     },
     "25663ac0ddac4fbe9a0e605f78950ad1": {
      "buffers": [
       {
        "data": "eNot0vlP1gUcwPF3rVar1Wq14vR5Hh4eBOSSQy45fZ7v96spoRIiIqJAHCKH3Pf9cD7fLLMss8yyzLLM0sy01KJIo1BDEQUEfWBrba2ttbbW1sfVD6//4JV2l5X0u62su8fG+nttZN6nkHW/wsYHFLIfVMh5SGXzwyq5j6jkPaqS/5hKweMahU9oFD2pUeyiUeKmsc1do9RDo8xTo9ygUWHUqDRpVJk1qr01aiwatT4adb4a9X4aDf4qDQEqjYEqTUEqzcEqLSEKLaEKrWEKbeEK7RE22iNtdETZ6Iy20hljpStWxC2jO14kJGNPFEnJ9CQn0WNNoteWSK8i1AT6NLE8nr4V8fSvFKvi6E8RTy9lIFWsjmVgjVgbw2CaeCaawXSREcXgepEZiWODyFqCY6PIjsCxSeSE49gstoThyA1DzwtFzxfPLkYvEIWiKAS9WGwNRi8R24LQS0WZKA9Er7gjAH27qBRVi9CrRY0/eq2oE/V+6A2iUTT5ojeLloXoraJNtPugd/yv04LeJbqF3Ru9R/Sa0fvMOPrFgBeOQeEQugnHc2KHicHnxQvG/+wULxoY2CVeEi+L3Qb6XxGvij0L6HtN7BWvG+h9Q+wTbxrouWO/AftbRuxvG+k+YKL7HfGuF10Hveh8z0znIW863rfQ8YGF9sM+YiFtH/rS+pEfrUf8afk4gOajgTR9EkTTp8E0HltMw/FQ6o+HU/9ZBHUnIqn9PIqakzFUfxFL1ak4Kk8lsP10IhVfJlP+lZWyMwqlZ+Xj2RWUnFvJ1q9TKP4mlaKhNRQOpVHwbTr532WQN5xJ7nAWW77PJud8Dpsu5JJ9IZ+sHwrYMFJE5kgJGT+Wsu6nctJHK0kbrWbtxVpWX2wg9VITKZdbWXW5nad+7mL5mB1trA/lygC2KzrLru4g6epOEsd3ET++m6XX9hB7bS/RE/uInNjPkusHCL9+kNAbhwi5cZjgySMETh5l0dQx/KZO4Dt1Ep/p01imz2CePofp5hDGm8MYZs7jOTOCx8wo7rOXcJsdw3V2HNdbE7jcmhTTuNyexfW2U8zj5vwFd+eveDh/w9P5Owvm/sA49yemub8wz/+NZf4f/gXLh0p6",
        "encoding": "base64",
        "path": [
         "color_map",
         "compressed_buffer"
        ]
       },
       {
        "data": "eNpjYBBzZsAA2MQ+ODIwLDiAKtZgDwBXFgQD",
        "encoding": "base64",
        "path": [
         "model_matrix",
         "compressed_buffer"
        ]
       },
       {
        "data": "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",
        "encoding": "base64",
        "path": [
         "voxels",
         "compressed_buffer"
        ]
       }
      ],
      "model_module": "k3d",
      "model_module_version": "2.7.0",
      "model_name": "ObjectModel",
      "state": {
       "_view_count": null,
       "_view_module": null,
       "_view_module_version": "",
       "_view_name": null,
       "color_map": {
        "compressed_buffer": {},
        "dtype": "uint32",
        "shape": [
         256
        ]
       },
       "compression_level": 0,
       "id": 140693223756048,
       "model_matrix": {
        "compressed_buffer": {},
        "dtype": "float32",
        "shape": [
         4,
         4
        ]
       },
       "name": null,
       "opacity": 1,
       "outlines": false,
       "outlines_color": 0,
       "type": "Voxels",
       "visible": true,
       "voxels": {
        "compressed_buffer": {},
        "dtype": "uint8",
        "shape": [
         12,
         30,
         30
        ]
       },
       "wireframe": false
      }
     },
     "26b5883dc54340b0b8bd4936487d4ce7": {
      "model_module": "k3d",
      "model_module_version": "2.7.0",
      "model_name": "PlotModel",
      "state": {
       "_backend_version": "2.7.0",
       "_dom_classes": [],
       "_view_count": null,
       "antialias": 3,
       "axes": [
        "x",
        "y",
        "z"
       ],
       "axes_helper": 1,
       "background_color": 16777215,
       "camera": [
        83.66744261959825,
        -114.02634323086747,
        17.3500378516462,
        0,
        -0.07161712646484375,
        -7,
        -0.04925656931312433,
        0.10632270192937339,
        0.9931109069152049
       ],
       "camera_auto_fit": true,
       "camera_fov": 60,
       "camera_no_pan": false,
       "camera_no_rotate": false,
       "camera_no_zoom": false,
       "clipping_planes": [],
       "colorbar_object_id": -1,
       "fps_meter": false,
       "grid": [
        -1,
        -1,
        -1,
        1,
        1,
        1
       ],
       "grid_auto_fit": true,
       "grid_visible": true,
       "height": 512,
       "layout": "IPY_MODEL_4ab430d80bb248c488a0e4ae3a272f8f",
       "lighting": 1.5,
       "menu_visibility": true,
       "name": null,
       "object_ids": [
        140693221795536,
        140693223621136
       ],
       "rendering_steps": 1,
       "screenshot": "",
       "screenshot_scale": 2,
       "time": 0,
       "voxel_paint_color": 0
      }
     },
     "26f880eb643840d3a4a3d389248cda43": {
      "model_module": "k3d",
      "model_module_version": "2.7.0",
      "model_name": "PlotModel",
      "state": {
       "_backend_version": "2.7.0",
       "_dom_classes": [],
       "_view_count": null,
       "antialias": 3,
       "axes": [
        "x",
        "y",
        "z"
       ],
       "axes_helper": 1,
       "background_color": 16777215,
       "camera": [
        178.37844914807036,
        -268.17251318435166,
        12.562038533530174,
        -0.2419357848984518,
        -0.2419357848984518,
        -5.299999959766865,
        0,
        0,
        1
       ],
       "camera_auto_fit": true,
       "camera_fov": 60,
       "camera_no_pan": false,
       "camera_no_rotate": false,
       "camera_no_zoom": false,
       "clipping_planes": [],
       "colorbar_object_id": -1,
       "fps_meter": false,
       "grid": [
        -1,
        -1,
        -1,
        1,
        1,
        1
       ],
       "grid_auto_fit": true,
       "grid_visible": true,
       "height": 512,
       "layout": "IPY_MODEL_f53e891cd15047ea931495803921a682",
       "lighting": 1.5,
       "menu_visibility": true,
       "name": null,
       "object_ids": [
        140035932388816
       ],
       "rendering_steps": 1,
       "screenshot": "",
       "screenshot_scale": 2,
       "time": 0,
       "voxel_paint_color": 0
      }
     },
     "2961d87ba90940bdbc5b76cf58d7b45b": {
      "buffers": [
       {
        "data": "eNoDAAAAAAE=",
        "encoding": "base64",
        "path": [
         "colors",
         "compressed_buffer"
        ]
       },
       {
        "data": "eNpjYGiwZ8AAxIsBAF7EAv0=",
        "encoding": "base64",
        "path": [
         "model_matrix",
         "compressed_buffer"
        ]
       },
       {
        "data": "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",
        "encoding": "base64",
        "path": [
         "origins",
         "compressed_buffer"
        ]
       },
       {
        "data": "eNrtxjERAAAIBKCPZk1N62ALDyaSM90Vd3d3d3d3d3d3d3d3d3d3d/dHXyHp/Wg=",
        "encoding": "base64",
        "path": [
         "vectors",
         "compressed_buffer"
        ]
       }
      ],
      "model_module": "k3d",
      "model_module_version": "2.7.0",
      "model_name": "ObjectModel",
      "state": {
       "_view_count": null,
       "_view_module": null,
       "_view_module_version": "",
       "_view_name": null,
       "colors": {
        "compressed_buffer": {},
        "dtype": "uint32",
        "shape": [
         0
        ]
       },
       "compression_level": 0,
       "head_color": 255,
       "head_size": 30,
       "id": 140558421154256,
       "label_size": 1,
       "labels": [],
       "line_width": 0.01,
       "model_matrix": {
        "compressed_buffer": {},
        "dtype": "float32",
        "shape": [
         4,
         4
        ]
       },
       "name": null,
       "origin_color": 255,
       "origins": {
        "compressed_buffer": {},
        "dtype": "float32",
        "shape": [
         749,
         3
        ]
       },
       "type": "Vectors",
       "use_head": true,
       "vectors": {
        "compressed_buffer": {},
        "dtype": "float32",
        "shape": [
         749,
         3
        ]
       },
       "visible": true
      }
     },
     "2bfc5644ec7642fcad61bd6841fa71fc": {
      "model_module": "@jupyter-widgets/base",
      "model_module_version": "1.2.0",
      "model_name": "LayoutModel",
      "state": {}
     },
     "32e651affd804e939874c96914219ca3": {
      "model_module": "@jupyter-widgets/base",
      "model_module_version": "1.2.0",
      "model_name": "LayoutModel",
      "state": {}
     },
     "333cb404005042beb16c25585ffa028a": {
      "model_module": "@jupyter-widgets/base",
      "model_module_version": "1.2.0",
      "model_name": "LayoutModel",
      "state": {}
     },
     "36c9f9f79097454c83ec9ea614df6f4b": {
      "buffers": [
       {
        "data": "eNrNlrlKA2EQgPUtFEliSCIogni0dpJKUllrIVbaWRmFoEFzacBCC1E8EEFRsNA8gJbBxsLekGDtAwjK7Hw/7MjGW1J8zfDPsXNuqPHcFnqjo14TOusNIaTy0OOdMFmdEWZvU8JCZURYvB70gZx36HXV7oXE04swVZ0W0pUhIXPZJ2TP4h6nMT8q5x1+sI/d5ENJmLsZF1bOE8LacbeQO4oI+YPm8A695YseAbv4wS/ypasBYfUkKuQPIx77HoW9cFNcDKqHHeziB7/klTwQp/Ov9gq7YaG4ExFK28qWQeW8Qw872CWv1NH2CfUhf3wP9vC3vhkVyrm4RzbhR+W8Q8/FpXbxQz/ZfqVvbP35TuxvFGNCOd3rMd/vR+W8Qw871Bk/+CUO5or80NeuTtoH1MHlRf0WU6NCZjjpA7mLW/WwY/sLv8RBXMw/88z8vYtP6+DqpPkhnon2MR/IXR5Vz9XTxqd+iYP9BK0Wn92brVrfwHnQvv31eTD71M4Dc8rc/ve+sHeEPcZeY8/99T5lbwfdyw/vi+mvwPuidf7sfbH3lDh/ek/Ja9A9tXfkq/8H9BN1DLqX3/2foU/s3mQ/IX8FefcvTg==",
        "encoding": "base64",
        "path": [
         "colors",
         "compressed_buffer"
        ]
       },
       {
        "data": "eNpjYGiwZ8AAxIsBAF7EAv0=",
        "encoding": "base64",
        "path": [
         "model_matrix",
         "compressed_buffer"
        ]
       },
       {
        "data": "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",
        "encoding": "base64",
        "path": [
         "origins",
         "compressed_buffer"
        ]
       },
       {
        "data": "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",
        "encoding": "base64",
        "path": [
         "vectors",
         "compressed_buffer"
        ]
       }
      ],
      "model_module": "k3d",
      "model_module_version": "2.7.0",
      "model_name": "ObjectModel",
      "state": {
       "_view_count": null,
       "_view_module": null,
       "_view_module_version": "",
       "_view_name": null,
       "colors": {
        "compressed_buffer": {},
        "dtype": "uint32",
        "shape": [
         300,
         2
        ]
       },
       "compression_level": 0,
       "head_color": 255,
       "head_size": 30,
       "id": 140558421071312,
       "label_size": 1,
       "labels": [],
       "line_width": 0.01,
       "model_matrix": {
        "compressed_buffer": {},
        "dtype": "float32",
        "shape": [
         4,
         4
        ]
       },
       "name": null,
       "origin_color": 255,
       "origins": {
        "compressed_buffer": {},
        "dtype": "float32",
        "shape": [
         300,
         3
        ]
       },
       "type": "Vectors",
       "use_head": true,
       "vectors": {
        "compressed_buffer": {},
        "dtype": "float32",
        "shape": [
         300,
         3
        ]
       },
       "visible": true
      }
     },
     "3763b7bff8e4495288692c193fcdfd08": {
      "model_module": "@jupyter-widgets/output",
      "model_module_version": "1.0.0",
      "model_name": "OutputModel",
      "state": {
       "layout": "IPY_MODEL_44f8ff9c8c9c46779000073e2af9d9af",
       "outputs": [
        {
         "data": {
          "application/vnd.jupyter.widget-view+json": {
           "model_id": "3da1541f19374026aa520e46e72ae478",
           "version_major": 2,
           "version_minor": 0
          },
          "text/plain": "Plot(antialias=3, axes=['x', 'y', 'z'], axes_helper=1.0, background_color=16777215, camera=[4.5, 4.5, 4.5, 0.0…"
         },
         "metadata": {},
         "output_type": "display_data"
        }
       ]
      }
     },
     "3a84db5f75224d0686881325b2cf1591": {
      "buffers": [
       {
        "data": "eNoDAAAAAAE=",
        "encoding": "base64",
        "path": [
         "colors",
         "compressed_buffer"
        ]
       },
       {
        "data": "eNpjYGiwZ8AAxIsBAF7EAv0=",
        "encoding": "base64",
        "path": [
         "model_matrix",
         "compressed_buffer"
        ]
       },
       {
        "data": "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",
        "encoding": "base64",
        "path": [
         "origins",
         "compressed_buffer"
        ]
       },
       {
        "data": "eNrtxjERAAAIBKCPZk1N62ALDyaSM90Vd3d3d3d3d3d3d3d3d3d3d/dHXyHp/Wg=",
        "encoding": "base64",
        "path": [
         "vectors",
         "compressed_buffer"
        ]
       }
      ],
      "model_module": "k3d",
      "model_module_version": "2.7.0",
      "model_name": "ObjectModel",
      "state": {
       "_view_count": null,
       "_view_module": null,
       "_view_module_version": "",
       "_view_name": null,
       "colors": {
        "compressed_buffer": {},
        "dtype": "uint32",
        "shape": [
         0
        ]
       },
       "compression_level": 0,
       "head_color": 255,
       "head_size": 30,
       "id": 140035897069648,
       "label_size": 1,
       "labels": [],
       "line_width": 0.01,
       "model_matrix": {
        "compressed_buffer": {},
        "dtype": "float32",
        "shape": [
         4,
         4
        ]
       },
       "name": null,
       "origin_color": 255,
       "origins": {
        "compressed_buffer": {},
        "dtype": "float32",
        "shape": [
         749,
         3
        ]
       },
       "type": "Vectors",
       "use_head": true,
       "vectors": {
        "compressed_buffer": {},
        "dtype": "float32",
        "shape": [
         749,
         3
        ]
       },
       "visible": true
      }
     },
     "3bd331b2d0a74031a8b6a8b9b3dcf86c": {
      "model_module": "k3d",
      "model_module_version": "2.7.0",
      "model_name": "PlotModel",
      "state": {
       "_backend_version": "2.7.0",
       "_dom_classes": [],
       "_view_count": null,
       "antialias": 3,
       "axes": [
        "x",
        "y",
        "z"
       ],
       "axes_helper": 1,
       "background_color": 16777215,
       "camera": [
        127.42568265905507,
        -191.5014276659303,
        7.4667618846286,
        -0.2419357848984518,
        0,
        -5.299999959766865,
        0,
        0,
        1
       ],
       "camera_auto_fit": true,
       "camera_fov": 60,
       "camera_no_pan": false,
       "camera_no_rotate": false,
       "camera_no_zoom": false,
       "clipping_planes": [],
       "colorbar_object_id": -1,
       "fps_meter": false,
       "grid": [
        -1,
        -1,
        -1,
        1,
        1,
        1
       ],
       "grid_auto_fit": true,
       "grid_visible": true,
       "height": 512,
       "layout": "IPY_MODEL_32e651affd804e939874c96914219ca3",
       "lighting": 1.5,
       "menu_visibility": true,
       "name": null,
       "object_ids": [
        140693221642576
       ],
       "rendering_steps": 1,
       "screenshot": "",
       "screenshot_scale": 2,
       "time": 0,
       "voxel_paint_color": 0
      }
     },
     "3da1541f19374026aa520e46e72ae478": {
      "model_module": "k3d",
      "model_module_version": "2.7.0",
      "model_name": "PlotModel",
      "state": {
       "_backend_version": "2.7.0",
       "_dom_classes": [],
       "_view_count": null,
       "antialias": 3,
       "axes": [
        "x",
        "y",
        "z"
       ],
       "axes_helper": 1,
       "background_color": 16777215,
       "camera": [
        130.91628884427374,
        3.6980667894997077,
        39.37059199378134,
        -0.24999985471367836,
        -0.24999985471367836,
        -5.125000011175871,
        -0.26330431466437737,
        -0.11002335389647529,
        0.9584183321892891
       ],
       "camera_auto_fit": true,
       "camera_fov": 60,
       "camera_no_pan": false,
       "camera_no_rotate": false,
       "camera_no_zoom": false,
       "clipping_planes": [],
       "colorbar_object_id": -1,
       "fps_meter": false,
       "grid": [
        -1,
        -1,
        -1,
        1,
        1,
        1
       ],
       "grid_auto_fit": true,
       "grid_visible": true,
       "height": 512,
       "layout": "IPY_MODEL_5a7772db7a4e41ecb9a24de99c8ccec0",
       "lighting": 1.5,
       "menu_visibility": true,
       "name": null,
       "object_ids": [
        140693223756048
       ],
       "rendering_steps": 1,
       "screenshot": "",
       "screenshot_scale": 2,
       "time": 0,
       "voxel_paint_color": 0
      }
     },
     "4039ba66e4e8457abac28ad88e022288": {
      "buffers": [
       {
        "data": "eNqllj1PVFEQhrEgFjbS0sAusihggEpigSYiGkNJwxY0kBh0GzSSEIgR0ey6HxeCHwk0SkNnYUEHDX+CktJfYYKZeZ9J7rkhFBRPsTf3njMz78w7W70501X9z+LtZ8ZSj7Nwa8ao9T43vryYMtrzk0b2csJ5Ne68HnOWx4129YHRnJ0yOGfuxrTBebyfrdx31u4562LjrsPvlVFH33HOfPdTY+vhtBFxvhtxPlac+h2j0y47WSlPp2xkjQHn06CzOmyQF/dwL8+z2pjzYcjoNAccnd/e7Xe+im99jn53tktOq2xkmxVH55IXdUz1IU6+I5/W9z6juec0fooDpy4av5zmvtP64URdlBd15V7iQO/QVfUjH87j3s+HJeP9n1Fj/WgiB895j+/Ih/qGvklfhC70jXSlzuTJ+Zu/h4y3x4+M2ulsjjcnjw3e4zvqis70GX2NbsxV1Ed9TX3pA3Qgf+59crZjVM5PcvCcuPkOnek7+j7mTHNclQ8w/zHPmr/oX/Ur/YJO1Id4Bv/+y8Fz3uM79Iz+p37Mu/wFf4LwHepHfNRP5143PvIk74gPX1KdqBt1DH9Unak7OqALOqHbVfrSB6Gv+iTqx5xSP/UZfRe+iN/ih8qLPk7ngXvTeSDuwjxorpiz8FPNIXNZ2AOaY+aaOb+2X+Bj+Cq+rnvTPRVxsT/wc/xU55EnOoSPgnSmruFb6IS/y7dTP8XnQzf2C/6ufKjzZXsl5p89h2/i5+wX6VLYp/go+4X64afKp7BP8Rv8EJ9WXckr3afF/wfy78v+F+Bn9HWyB9J9id6RF/fge/iL5pg4U32YK+Yff8IHLgCyKdEP",
        "encoding": "base64",
        "path": [
         "colors",
         "compressed_buffer"
        ]
       },
       {
        "data": "eNpjYGiwZ8AAxIsBAF7EAv0=",
        "encoding": "base64",
        "path": [
         "model_matrix",
         "compressed_buffer"
        ]
       },
       {
        "data": "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",
        "encoding": "base64",
        "path": [
         "origins",
         "compressed_buffer"
        ]
       },
       {
        "data": "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",
        "encoding": "base64",
        "path": [
         "vectors",
         "compressed_buffer"
        ]
       }
      ],
      "model_module": "k3d",
      "model_module_version": "2.7.0",
      "model_name": "ObjectModel",
      "state": {
       "_view_count": null,
       "_view_module": null,
       "_view_module_version": "",
       "_view_name": null,
       "colors": {
        "compressed_buffer": {},
        "dtype": "uint32",
        "shape": [
         300,
         2
        ]
       },
       "compression_level": 0,
       "head_color": 255,
       "head_size": 30,
       "id": 140558421520464,
       "label_size": 1,
       "labels": [],
       "line_width": 0.01,
       "model_matrix": {
        "compressed_buffer": {},
        "dtype": "float32",
        "shape": [
         4,
         4
        ]
       },
       "name": null,
       "origin_color": 255,
       "origins": {
        "compressed_buffer": {},
        "dtype": "float32",
        "shape": [
         300,
         3
        ]
       },
       "type": "Vectors",
       "use_head": true,
       "vectors": {
        "compressed_buffer": {},
        "dtype": "float32",
        "shape": [
         300,
         3
        ]
       },
       "visible": true
      }
     },
     "40d50e324c34483d97edd47cd0058bf0": {
      "model_module": "@jupyter-widgets/output",
      "model_module_version": "1.0.0",
      "model_name": "OutputModel",
      "state": {
       "layout": "IPY_MODEL_9fb979abac5748e99a89930bd6096b32",
       "outputs": [
        {
         "data": {
          "application/vnd.jupyter.widget-view+json": {
           "model_id": "50e0e7f0bf7846cb974d48591a005381",
           "version_major": 2,
           "version_minor": 0
          },
          "text/plain": "Plot(antialias=3, axes=['x', 'y', 'z'], axes_helper=1.0, background_color=16777215, camera=[4.5, 4.5, 4.5, 0.0…"
         },
         "metadata": {},
         "output_type": "display_data"
        }
       ]
      }
     },
     "419fb88e64264a4aa87f4dc1f7298570": {
      "model_module": "@jupyter-widgets/base",
      "model_module_version": "1.2.0",
      "model_name": "LayoutModel",
      "state": {}
     },
     "41b6858914b2461faf575d7cc55360af": {
      "model_module": "@jupyter-widgets/base",
      "model_module_version": "1.2.0",
      "model_name": "LayoutModel",
      "state": {}
     },
     "42c9ac1b2fc84ad787154598f2c3c59a": {
      "model_module": "@jupyter-widgets/base",
      "model_module_version": "1.2.0",
      "model_name": "LayoutModel",
      "state": {}
     },
     "4307a7590e9d443ead5747da4b96aa4e": {
      "buffers": [
       {
        "data": "eNq7PcOEwcbnOUPCOnUG/iMfGda69DF8/PCGAQB5NApc",
        "encoding": "base64",
        "path": [
         "color_map",
         "compressed_buffer"
        ]
       },
       {
        "data": "eNpjYBBzZsAA2MQ+ODIwLDiAKtZgDwBXFgQD",
        "encoding": "base64",
        "path": [
         "model_matrix",
         "compressed_buffer"
        ]
       },
       {
        "data": "eNrtwTENAAAMA6C0/kVXw649QAIAABwUAHgwgKsaSA==",
        "encoding": "base64",
        "path": [
         "voxels",
         "compressed_buffer"
        ]
       }
      ],
      "model_module": "k3d",
      "model_module_version": "2.7.0",
      "model_name": "ObjectModel",
      "state": {
       "_view_count": null,
       "_view_module": null,
       "_view_module_version": "",
       "_view_name": null,
       "color_map": {
        "compressed_buffer": {},
        "dtype": "uint32",
        "shape": [
         6
        ]
       },
       "compression_level": 0,
       "id": 140558422157840,
       "model_matrix": {
        "compressed_buffer": {},
        "dtype": "float32",
        "shape": [
         4,
         4
        ]
       },
       "name": null,
       "opacity": 1,
       "outlines": false,
       "outlines_color": 0,
       "type": "Voxels",
       "visible": true,
       "voxels": {
        "compressed_buffer": {},
        "dtype": "uint8",
        "shape": [
         5,
         31,
         31
        ]
       },
       "wireframe": false
      }
     },
     "4397e152e573401cb213e4c945c3abf9": {
      "buffers": [
       {
        "data": "eNq7PcOEAQAFoAGo",
        "encoding": "base64",
        "path": [
         "color_map",
         "compressed_buffer"
        ]
       },
       {
        "data": "eNpjYBBzZsAA2MQ+ODIwLDiAKtZgDwBXFgQD",
        "encoding": "base64",
        "path": [
         "model_matrix",
         "compressed_buffer"
        ]
       },
       {
        "data": "eNrt0zEOgDAQA8Hb/3+aggIkIruIaKJ1u1ThZuYZ92Y13ovx8wGkDqlD6pA6xJ4zxL6VOXW/vtrmD23X0m6tXWq786akGatCBSxgAQtYwAIWsIAFLGABC1jAAj4c8AVsDw6i",
        "encoding": "base64",
        "path": [
         "voxels",
         "compressed_buffer"
        ]
       }
      ],
      "model_module": "k3d",
      "model_module_version": "2.7.0",
      "model_name": "ObjectModel",
      "state": {
       "_view_count": null,
       "_view_module": null,
       "_view_module_version": "",
       "_view_name": null,
       "color_map": {
        "compressed_buffer": {},
        "dtype": "uint32",
        "shape": []
       },
       "compression_level": 0,
       "id": 140035897381136,
       "model_matrix": {
        "compressed_buffer": {},
        "dtype": "float32",
        "shape": [
         4,
         4
        ]
       },
       "name": null,
       "opacity": 1,
       "outlines": false,
       "outlines_color": 0,
       "type": "Voxels",
       "visible": true,
       "voxels": {
        "compressed_buffer": {},
        "dtype": "uint8",
        "shape": [
         5,
         31,
         31
        ]
       },
       "wireframe": false
      }
     },
     "44e53c973b2248c5afd99eb5002de9c7": {
      "buffers": [
       {
        "data": "eNqt1ctLlFEcxvHa9hdIgeOo4y0vGWZkRYukWpWhVIskISJpYVdvqZmOkzoz72RXiO5FN8uI7pSboBu2KIMIyugi1aY/oE1QPOd8D7yviwlq8Vl0Oud3fs97zhzjKxdPi/+R2lZi7MuV5OGQDJ4y9p3PkuiVHNl7vUA67pTLztElsvnpGlk9vlvmTIxIxuRHiXz/5cM482ped8qmZ+uEuuzDvvRBX/RJ3+QgV3zVIoO820uM/5x37sSwpMvLPNZR55/z2lxT8xYb/bmSLm/PSL503i6TXaOLpfFJndSOt0rF+8uSMflBpuY148xjHXWoyz5/ndfmIBd5EzVGamexMZAjLu/JTOk/F5K+y9nSM5InnbdKpfnhQtnyuEbWvtwmC96dkZlf3kgwL+PMYx11qMs+7Esf9EWfLq/NkdpRLORM1lVJqnm2EcgbP54pA2dDErsQlt6rEem+USTt9+ZJ06MVsuHFRln6dkiyPj2X8LefPowzj3XUoS77sC990Bd9Jg9lictrc5HTW18pqfZCYzBHkgezJH4sJNwXvmfsUrb0XotI180SaXlQJZxP3atm4T2a9fWHD+PMYx11qMs+sYthcedq+6JP+iYHuVzOzeXGnnyDvAfCkjgSEpfb3pvgeUeHc4VzaLs/X+ifdzf0ecyHceaxjjrUDZ4nfdAXfdK3y9tVYJCztcjozTPsPfC8bGE99yRxNCQu/4lMGTgdkuD583trv1shDWMNPowzj3XUoS77uHy2D/ryhsKG7dvdZ3K1FImXCot7v2MRg/fNficvkW3Yeqzz9ltDAdTlO3cWiNdQ4eO+P/tQN1iPffh/+rB9uX3omxw2F+u5/25dX8SIWvw7lgbz+J4dhUZTqSRqq2RXzgof915uLTVYR53g/sFzCe4f6Jtc5OT+kH9K3z1pdOcbnBO/D5uTdyJaVS31M5b5MO7VVwrrXB3qsk+6fgLfiVzufbXvu/udk5f1e/ON7gDeN3tPU21Fhv17x/vAuXaVLZe66dU+jDMv1VhuUIe67MO+wX7ok75tDnLxvv8G7Ku15g==",
        "encoding": "base64",
        "path": [
         "colors",
         "compressed_buffer"
        ]
       },
       {
        "data": "eNpjYGiwZ8AAxIsBAF7EAv0=",
        "encoding": "base64",
        "path": [
         "model_matrix",
         "compressed_buffer"
        ]
       },
       {
        "data": "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",
        "encoding": "base64",
        "path": [
         "origins",
         "compressed_buffer"
        ]
       },
       {
        "data": "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",
        "encoding": "base64",
        "path": [
         "vectors",
         "compressed_buffer"
        ]
       }
      ],
      "model_module": "k3d",
      "model_module_version": "2.7.0",
      "model_name": "ObjectModel",
      "state": {
       "_view_count": null,
       "_view_module": null,
       "_view_module_version": "",
       "_view_name": null,
       "colors": {
        "compressed_buffer": {},
        "dtype": "uint32",
        "shape": [
         360,
         2
        ]
       },
       "compression_level": 0,
       "head_color": 255,
       "head_size": 20,
       "id": 140693222312272,
       "label_size": 1,
       "labels": [],
       "line_width": 0.01,
       "model_matrix": {
        "compressed_buffer": {},
        "dtype": "float32",
        "shape": [
         4,
         4
        ]
       },
       "name": null,
       "origin_color": 255,
       "origins": {
        "compressed_buffer": {},
        "dtype": "float32",
        "shape": [
         360,
         3
        ]
       },
       "type": "Vectors",
       "use_head": true,
       "vectors": {
        "compressed_buffer": {},
        "dtype": "float32",
        "shape": [
         360,
         3
        ]
       },
       "visible": true
      }
     },
     "44f8ff9c8c9c46779000073e2af9d9af": {
      "model_module": "@jupyter-widgets/base",
      "model_module_version": "1.2.0",
      "model_name": "LayoutModel",
      "state": {}
     },
     "473abc552eb747d6a708e541219cd350": {
      "model_module": "@jupyter-widgets/base",
      "model_module_version": "1.2.0",
      "model_name": "LayoutModel",
      "state": {}
     },
     "479eff0385d74f51be2445e09c9da6ee": {
      "buffers": [
       {
        "data": "eNp1070vQ1EcxnH+CYlE9EVbFWoQNGIxVJgMDYlg7MDiLTFoWk1RbfXeGsQgkXgJCYNBJUxiklhYLBZhIB39BRLynPu9iSYdPsPJuef8nqf31poYaLD+lFc6xS75ZXvfI/kTY/PcL9nLkKxddcnqTa8s3w3J3ENcJp/nZeh1T3wfD9Ly9S3B6o+wZp/nOc993M885pOHfOQlP33oZzl97Zl+KSc7xLb9wrnCkZE788nGRZtkL9slXYnI6m2fLN7HJPE4JWMvGYm8VaT5syr0Zs0+z3Oe+7ifecwnD/nI6/Z2+rj96LsUMTaDYu/4pLTnEc4XD1qlcOiR/LGxdeqV2u8hdd0tvKfppzkJvd8JvVmzz/Ocr32fzGM+echHXvLTh3705Xeydr1iW34pF9v+K9SRDxi5oLEeMlJhw5ljTUUl2TUi440xYc2++x44z33cz7x6eWpy04d+9OX74fdyv4utgMHcrCPTbqTDhvP98P8pL3QbiR4pxQclGx2W2aZRoTdr9nme8+593M885pOHfOR18tOHfvT9BRcQlYI=",
        "encoding": "base64",
        "path": [
         "colors",
         "compressed_buffer"
        ]
       },
       {
        "data": "eNpjYGiwZ8AAxIsBAF7EAv0=",
        "encoding": "base64",
        "path": [
         "model_matrix",
         "compressed_buffer"
        ]
       },
       {
        "data": "eNoVlHt0z2Ucx8WUS5ZbJsVcEpbjtl/KpX2+z7ODQy6NLYThTBqSo9KZy6IczbKL30zY5C6KOIal1D7f50Fujc1pzGz7+bmPpbHNxKj359/nfM77/Xq//ngKctPszugcDs+MN1mvJdpOiwq5xa6lprbuYlswupRbdkkwi7Nn2fefFrN3SqKZM32cjWxVxL1OfmPymw6yZyIu8Fl3hXnxQG/b6O5fvGZ5kuk+qp2t2nqO+w1PNoH+Rrbo5lnO7J5i2ufdNb8WnuZ1Q1JNHXvcdHhylP85vNI4KzaZN/IPceL3aSaj2ydm/KCtfLnZahM0r6OpczieK/9cY3bFbHXZG8iv98kwt2L+DT028FhWaGimvDs53kCSd9wr3JPcI0chhyQH+Qr5JPnoVe2fHCXpBY/6pfA0CQ849cWbZ0k4wa/BT8KPXRq7SHZhr86NuECyFx40PJB4gB8NPyR+4E3DG4k3+NTwSeKzIDdN/xCdQ+L5+FCvneL18V9Lgk1gSoKNXlDJtRVdTaefFtobW2p4WXkP4xsWaz29ajgmtY+ZUhFp9+dU8/lij/l8rbKNu1fx7/F9TQX1sDO+vM+hF980a6+3sWe/ruAmffqZ7MTn7Jjiv/nU4f4mfsItk32ljO/uHGj67jQmYf5VTnmDTMB/GabjZ4X8dLc23x6JNTb5KBdPGmLaf/OyeVS2ka++O8LMb7Hezc4P44YfjzH1IoM9y58Gh06f/p68Oz/nh5G8417hnuR+zZFYhRySHOQr5JPko1ehl6QXPAo8JDzg1OAk4QS/Bj8JP3Zp7CLZhb0ae0n2woOGBxIP8KPhh8QPvGl4I/EGnxo+SXzCs57q9ZF4XrQt1To1F3njtBVuzM1lduqRy+z3rHUPDY+z5Zd9HFO8wS27MM0ODSnlWneLe2NOhI26WMyTJ213xzUNs1/dv8QbJ+9wLx8Msb8NucSrOv3gPowOsoFZRTz22o+ur3GA/SeoiB+d2+32jfebftPQ1Xmvm/DgV/N4ViFveT3LjfOmG2/meZ4Ql+12OzHRHD2XzzlDfnfDQ5qZ6P6WH/Y56Ua2TnHP+JI4K6TETWk1w/PKkrc9uX+Wu1GtU5w8XxLtwzvu1eT+luQeOerYuXySHOSrtMzzJPnoVegl6QWPAg8JDzh1RVARCSf4NfhJ+LFLYxfJLuzV2EuyFx40PJB4gB8NP/QEfuBNwxuJN/jU8EniE541PJN4fmFfqh3c0M+tw1rSgJpldnPBVV75zKd06qM4eyvJz3Fdk+iP+9PsS/N83GRTGuUtjbADupTyhKHpNLBdmPUvLOGHc9LpDIfYvU4Jr1+VTr0/DLJVUSXcNG41jWsZYBvtKeE9h9bQJK/fNA8v5bzQ9bQ78LDxPy7ldsu30Ue70s2DKB+PrthPcysnmkU9S/i7BvkUPKCZmdwhj/XYAKdVbbKbeHwdJ3fwOLPDF3qyvKM8GevGO0G1yc6K4+tI3nGvpnTII4V75Kj4niUkObN3pSvkk+SjV6GX2qIXPKpFeCkJDzg1OEk4wa/BT8KPXRq7SHZhr8Zekr3woOGBxAP8aPgh8QNvGt5IvMGnhk8Sn/Cs4ZnEs3+x1166c4uvHvzDWZCbYDNsNTfYUeg06LbIRgfU8NABV5xRB2Nt59EP+Nq1G876wVF2zN5q3tS1zGnjU7byrWrOmXvbyf6ih21oq3jukjvOiVdftgltqjjVlju+vOdscf1KvpF019lcv8xsD7rHH4Tfc+Z9Zs2J2L/5x4XVzvDbmca9fZ2fb1Pr3Dkw0/S+XsBZHeupuu+0NUfG7OesiEZqxLANbvrIidw9srmavbm/59lShb+llRo5bIOzeuREknfcK9yT3JcfmKmQQ5KDfIV8knz0KvSS9IJHgYeEB5wanCSc4NfgpxTwY5fGLpJd2Kuxl2QvPGh4IPEAPxp+SPzAm4Y3Em/wqeGTxCc8a3gm8fw/m0rXOA==",
        "encoding": "base64",
        "path": [
         "origins",
         "compressed_buffer"
        ]
       },
       {
        "data": "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",
        "encoding": "base64",
        "path": [
         "vectors",
         "compressed_buffer"
        ]
       }
      ],
      "model_module": "k3d",
      "model_module_version": "2.7.0",
      "model_name": "ObjectModel",
      "state": {
       "_view_count": null,
       "_view_module": null,
       "_view_module_version": "",
       "_view_name": null,
       "colors": {
        "compressed_buffer": {},
        "dtype": "uint32",
        "shape": [
         155,
         2
        ]
       },
       "compression_level": 0,
       "head_color": 255,
       "head_size": 30,
       "id": 140693201134736,
       "label_size": 1,
       "labels": [],
       "line_width": 0.01,
       "model_matrix": {
        "compressed_buffer": {},
        "dtype": "float32",
        "shape": [
         4,
         4
        ]
       },
       "name": null,
       "origin_color": 255,
       "origins": {
        "compressed_buffer": {},
        "dtype": "float32",
        "shape": [
         155,
         3
        ]
       },
       "type": "Vectors",
       "use_head": true,
       "vectors": {
        "compressed_buffer": {},
        "dtype": "float32",
        "shape": [
         155,
         3
        ]
       },
       "visible": true
      }
     },
     "4ab430d80bb248c488a0e4ae3a272f8f": {
      "model_module": "@jupyter-widgets/base",
      "model_module_version": "1.2.0",
      "model_name": "LayoutModel",
      "state": {}
     },
     "4c263a839e024088a16ac343001730fc": {
      "model_module": "@jupyter-widgets/base",
      "model_module_version": "1.2.0",
      "model_name": "LayoutModel",
      "state": {}
     },
     "4df606d16b2f466f95bfa2aff19bb14d": {
      "model_module": "@jupyter-widgets/output",
      "model_module_version": "1.0.0",
      "model_name": "OutputModel",
      "state": {
       "layout": "IPY_MODEL_4c263a839e024088a16ac343001730fc",
       "outputs": [
        {
         "data": {
          "application/vnd.jupyter.widget-view+json": {
           "model_id": "ee70e7f87d1b453f8763e6abfc8bb62b",
           "version_major": 2,
           "version_minor": 0
          },
          "text/plain": "Plot(antialias=3, axes=['x', 'y', 'z'], axes_helper=1.0, background_color=16777215, camera=[4.5, 4.5, 4.5, 0.0…"
         },
         "metadata": {},
         "output_type": "display_data"
        }
       ]
      }
     },
     "4e2102f410be4360b98322b060904bf2": {
      "model_module": "@jupyter-widgets/base",
      "model_module_version": "1.2.0",
      "model_name": "LayoutModel",
      "state": {}
     },
     "4e659c31fb604f77a325237be3a781b6": {
      "model_module": "k3d",
      "model_module_version": "2.7.0",
      "model_name": "PlotModel",
      "state": {
       "_backend_version": "2.7.0",
       "_dom_classes": [],
       "_view_count": null,
       "antialias": 3,
       "axes": [
        "x",
        "y",
        "z"
       ],
       "axes_helper": 1,
       "background_color": 16777215,
       "camera": [
        172.2558512053837,
        -258.4553939345404,
        11.625584977487371,
        0,
        -0.07161712646484375,
        -5.6000001430511475,
        0,
        0,
        1
       ],
       "camera_auto_fit": true,
       "camera_fov": 60,
       "camera_no_pan": false,
       "camera_no_rotate": false,
       "camera_no_zoom": false,
       "clipping_planes": [],
       "colorbar_object_id": -1,
       "fps_meter": false,
       "grid": [
        -1,
        -1,
        -1,
        1,
        1,
        1
       ],
       "grid_auto_fit": true,
       "grid_visible": true,
       "height": 512,
       "layout": "IPY_MODEL_42c9ac1b2fc84ad787154598f2c3c59a",
       "lighting": 1.5,
       "menu_visibility": true,
       "name": null,
       "object_ids": [
        140035897069648,
        140035897380944
       ],
       "rendering_steps": 1,
       "screenshot": "",
       "screenshot_scale": 2,
       "time": 0,
       "voxel_paint_color": 0
      }
     },
     "4f8879f01d274b6d849715d980bca948": {
      "model_module": "@jupyter-widgets/base",
      "model_module_version": "1.2.0",
      "model_name": "LayoutModel",
      "state": {}
     },
     "4febe7b5b3254b02853e8b47c6118fc5": {
      "buffers": [
       {
        "data": "eNoDAAAAAAE=",
        "encoding": "base64",
        "path": [
         "colors",
         "compressed_buffer"
        ]
       },
       {
        "data": "eNpjYGiwZ8AAxIsBAF7EAv0=",
        "encoding": "base64",
        "path": [
         "model_matrix",
         "compressed_buffer"
        ]
       },
       {
        "data": "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",
        "encoding": "base64",
        "path": [
         "positions",
         "compressed_buffer"
        ]
       }
      ],
      "model_module": "k3d",
      "model_module_version": "2.7.0",
      "model_name": "ObjectModel",
      "state": {
       "_view_count": null,
       "_view_module": null,
       "_view_module_version": "",
       "_view_name": null,
       "color": 10075135,
       "colors": {
        "compressed_buffer": {},
        "dtype": "uint32",
        "shape": [
         0
        ]
       },
       "compression_level": 0,
       "id": 140558421701328,
       "mesh_detail": 2,
       "model_matrix": {
        "compressed_buffer": {},
        "dtype": "float32",
        "shape": [
         4,
         4
        ]
       },
       "name": null,
       "opacity": 1,
       "point_size": 0.1,
       "positions": {
        "compressed_buffer": {},
        "dtype": "float32",
        "shape": [
         749,
         3
        ]
       },
       "shader": "3dSpecular",
       "type": "Points",
       "visible": true
      }
     },
     "50e0e7f0bf7846cb974d48591a005381": {
      "model_module": "k3d",
      "model_module_version": "2.7.0",
      "model_name": "PlotModel",
      "state": {
       "_backend_version": "2.7.0",
       "_dom_classes": [],
       "_view_count": null,
       "antialias": 3,
       "axes": [
        "x",
        "y",
        "z"
       ],
       "axes_helper": 1,
       "background_color": 16777215,
       "camera": [
        127.22344070228796,
        -190.7876535289416,
        7.715621238502832,
        0.031036376953125,
        0.0009529590606689453,
        -5.003619194030762,
        0,
        0,
        1
       ],
       "camera_auto_fit": true,
       "camera_fov": 60,
       "camera_no_pan": false,
       "camera_no_rotate": false,
       "camera_no_zoom": false,
       "clipping_planes": [],
       "colorbar_object_id": -1,
       "fps_meter": false,
       "grid": [
        -1,
        -1,
        -1,
        1,
        1,
        1
       ],
       "grid_auto_fit": true,
       "grid_visible": true,
       "height": 512,
       "layout": "IPY_MODEL_41b6858914b2461faf575d7cc55360af",
       "lighting": 1.5,
       "menu_visibility": true,
       "name": null,
       "object_ids": [
        140035898417552,
        140035887889296
       ],
       "rendering_steps": 1,
       "screenshot": "",
       "screenshot_scale": 2,
       "time": 0,
       "voxel_paint_color": 0
      }
     },
     "513b55622aea421f8f3dd4592a4e7bff": {
      "model_module": "@jupyter-widgets/base",
      "model_module_version": "1.2.0",
      "model_name": "LayoutModel",
      "state": {}
     },
     "5218b5305ca3448c8cdb540f4a5f5024": {
      "buffers": [
       {
        "data": "eNq9lk0rhGEUhillZ2NhZ3xnUD6TFCuMhJVSEwsixEIhhoWvfMzwIgspRdnYWfoB/oIf4VcoOudcp57Hwsosrs30vuc573nu+z6TLR8pyf6wWJkR1lOjAStVylxFRjjqGxbyY4NCMt8tXC11KqvtISsdykKXUJgYEI77h4TpsmFhty0jJDO9gtfbbFW2W5RcWtk1dlqUrVZluVNIZnuFXHpUmCodCric6hf8nL20ctiknDYo5/VCUgi5yhtnDQrvUcfqcg7fST9+7kabctSkWL0kqVOua5WbCH6357wP6lDXzmG+zJ35eL/2HvUub2uEi/uUUHioFvKPqQB+5zne877ox87hftEReuDefI72Pd7HXUo4f1LOnpWTl7oAfuc53qPOr/uy+aBndI5eXVfRvfC9nHPw2izk3nqEtffxAH7nOe/P6vi80J3pHn9lzaf40X2F/k2P6IJ7YR5xX5Mf+wFxn7xHHeriB/ejzS/OD/e/+dS9Y/pFP9xb3Ffj51dA3CfvUcd9gT/JCesjzjXvz54ren/kV9Qfc/R8YM7k0H/fL7mGrkxn6A4deu6Tz6bbf/cH/sWX5lN8i499fsXOE8sxco2c871W7Ly1nCf32QPF3j/sPfbgn/uXeuRavH/JIfLyj/0b73/68T3I/kFX6B+fkif4Ed3bOdwv8+U7mbvvOfYK+R3/X6Ke+Qs9oyN0jh/jXCM/8Ok3MyHrlw==",
        "encoding": "base64",
        "path": [
         "colors",
         "compressed_buffer"
        ]
       },
       {
        "data": "eNpjYGiwZ8AAxIsBAF7EAv0=",
        "encoding": "base64",
        "path": [
         "model_matrix",
         "compressed_buffer"
        ]
       },
       {
        "data": "eNodl3901XUdxokwEgQGWDA2uNvdtU2Ew85Bmy3y3s87R7hDLZVF8WuDyRacIwjGhJS5iXLw5FigB2zZoY5QyEjS4zEE3b3vjzNAOywlwUNJQErHKEyxIgTted2/dse+9/v9fN/v53k9D73zOvz6tzbGR06M8c/2XumfFnTFf/xorF96vyPbv35jfKal0J9b0p95vXxjnLms0NMNC8Ky7Z3xO2+M9V++tSvcf7Qz3hDGenz/gv/glY74mZoiX/npfh/yWEesOlDsP52w1hMvtMdD/RP8k+8P8oLQHu/LJHzAgEx2g7fF1m0J39t9LDP91Np4eUfCw5ZFYUrivniiKeE1L+wOVVPvja/+e4IXDP9b+PveNbHzdLFvKhxp312zJv5mVZHf/a/q+PJtLbH1V2P8xdHF8ZbDLXFf3Tj/2r0XvLOiOaaqJ3jR8/v95TsXx6HTEt41da337GqKex4o8ePrBnnfnkXR+ku8e2XIDso2xqqrSr111rHMrN81xAUjS/0vNy4Ks/8wP/7pTIlvbd8dzr45LxY8UeKjLp8Jz1bOjbW3J/zgiJG2YPOc+M5tE/wb10+21Yu/FzdNGefrH6y16klz4vDWMc5P/Z7/POra6rj3bG1cvnW8t3QXxb679e83J/zq2f/ze4bdEv9TWeofb3jRB1bPiD3PlXpjQ5u3102PS+qT/kHLFd5TVRNjR9Jz9bXZ105abN2Z9C3FRzNjnw6xuifpx69eGKw+HUdvTPqybE94ZtpN8XBT0tf0vxtOzp4WT/eW+paFBXa+66vxxNRSv71hss1cWh1/VqVdnK01zsfZNFdjvsyWd9K75d+La/Wd/PWHPyqK6b9OiqvWlvhTxRd95Kbr4r4PS31f1Uu+pHdi/LAh6XU33u8VL1XEb53T+Qd+zsd1lcfnC8t8YbYuW/HfVDxrZb6+8c3MxW1l8bWby/yHcxvDI0NL463JMr8q9IRtJxPx4QtJPz3k3XDne+Pj7uakz/lghH2+ZHz8/Uelrucb5+AMmqUxU+YpLRiaQA/oRbrJa4ZdaWf5fTEDzSI/B+6n++bv2fz1Sx4ODI9LLyZ9U1nWz308LN66sMxXnWz3/UeGxhUFKT/458HedteQeGhWym11Y/aJSYPjq9tSfqTwSKZyxRUx+fOUf7lkQai6aWC02Sn/pO+pUP7egHhsdMqX//N0ON972WuayniO8TyepfkZc2SG0oKhCfQgLRuaRs/ymeE3vIYn5A3HF+hRunQ0yZ61b2fXzEyzc+bGM/Xs/HMPrMt5bukpbzta5ove6fBzw972yb9N+Yy7rvS5o477K4XX+Pye5dlf73rDvfMabxr9embw9sO+Qp9vmDEvdDcf8PO6ZvhPdoahP+7zyr0p7he4L/fUzIzZMTdpwdAEepCuDX2jbfnS8CfeFDMMdsANuCK+OGyBAWKBwwH8Jx86HkTX0rejbTQirTg6YcaatTNnzqXz5c/2dNtDfn7ndv/izC/5Hc+O8Mfv+YX/cWK5t9d3Z588s9X3LK7w1d88mMkkNnvXHRU+/aH6UP/oBt9xbTnfC3yf72pOgXkxK2nB0AR6kMYNraNz+dXwLZ4VbwzuwByx0GAiPBR3rVf8hb0wVWx1uAr/xEGHgbBHDHL4g6flbcfX+EM+cTyCvqQzR2PsRLvJ74Wz6x3y53+y7ws+rLnOV66o8Le/HbPzL3/FT62b6LmO3szm3df5gw9M5O+B67hGswnMiPlICwFNoAfp3dA9mpePDT/jZTHJYBNcElMNtsJV8d7gPsxXthgZQ76QJ8qVHJkC+5UBOfgPd8XfHOyFZ+JaDqbBBjEiBx/wljyWw1/oUbrMoUn2pv3l2B3vpHfL8V6XTtTkHj/UmdtROcX1M8PvfNYMArNgDtp/QAdoQHoP6B7Ny9OGt/G1WGUwC16JuwZ/Ya9yw8gPskOZZmQbuab8NHKUDCVL9TnNZ3JP16S5hszRd9N8F5brnmnuCRf1rDTPgis6Q5oz4EWdLc3Z0KzOnObM7FPvkuZdeFe9Y4Z35CfvzGfNJLBvZqJZBbTOrDTDgLeZoWZr8IvZauYGl5m5dmFkDLvQjoyMZEfanZHf7E47NboCO6VHaNeBXZP50kBAA+SttBHQBjkmzQQ0QyZISwEtwVRpLKAxOCTtBbSHX6XJgCbRsrQa0Cp75t14L2bAXvM71d/RNNfICwE/4wV5JMAvPCLvGIzGO/KUkT14Sl4zchSvyYNGD8CD8qbRUfCmPGv0ITxLh5KXA16m78jjAY/TNeT9gPfJcDEhwATyUKwIsII8EUMCDIHBYkuALbBKzAkwBx/zDpwfjbM/dsf+0S4aYDb4lvnwPZjFd8XAAKNhoNho5BBsFDONfIWZYqnRFWCpGGt0HRgr9ho9DPaKyUbng8n0O7E6wGq6lRgeYDidRWwPsJ38F/MDzCc/lQWBLCBzlBGBjIDNnI+zwS12w17wNLpEk+gdT6J5tACP0ANzgsXMivuRPdxTGRfIVzJO2Wf0BrJPmWh0IDJRWWl0OLJSGWr0SzKUDqtsDWQr/VGZG8hcepmyOJDFdBxldCCj6QjK7kB2k6s8m+eSP8yaOcNmdIbG4BYew194Gr7ga/QOW9E8WiBX0AMzI0eZG8+hK/AsdRWjA9FV1GGMPkeHUbcx+ijdRp3H6Mp0HnqxupDRheib6khGR6K7qTsZ3Ynuw325J32B2TE3chWtoBMyB5/gEXgMI+ADrIKP8Aofkw14GY2Ti+gcLdAD0APzo+swQ55Ph+MM6pZGH6VbqnMafZrOScdXFzW6KN1ZHdXoqPRQvsP19DhmwRzoPuybXdMR0DfaJj/xNr4mW+AaTIO7MB32wiTyDC7hV7Icz6JrugvaRgv0M/TALOmdzJNz0aE5mzq/8X8AOj/dn9/5TI/m3Xgveig7Y190N3SJJuk4+BAPkv8wCP6QjfAX9pIbZA/ZAVPJXbgKb+gcMAdf0rHwJlqmR6JntEA/Rg/Mla7PbOnI6AbN0CvxBr6gf8ECOEA3gYMwkNwmA+A/mUb+kWvwnuyH+bCQ3gMPYQY9D27gM7osXqPrwRfYQg+CrXCVjkCukCnkJ5lKhpIt9AnyBe7SpWDv/wEY+hoy",
        "encoding": "base64",
        "path": [
         "origins",
         "compressed_buffer"
        ]
       },
       {
        "data": "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",
        "encoding": "base64",
        "path": [
         "vectors",
         "compressed_buffer"
        ]
       }
      ],
      "model_module": "k3d",
      "model_module_version": "2.7.0",
      "model_name": "ObjectModel",
      "state": {
       "_view_count": null,
       "_view_module": null,
       "_view_module_version": "",
       "_view_name": null,
       "colors": {
        "compressed_buffer": {},
        "dtype": "uint32",
        "shape": [
         316,
         2
        ]
       },
       "compression_level": 0,
       "head_color": 255,
       "head_size": 30,
       "id": 140693223599888,
       "label_size": 1,
       "labels": [],
       "line_width": 0.01,
       "model_matrix": {
        "compressed_buffer": {},
        "dtype": "float32",
        "shape": [
         4,
         4
        ]
       },
       "name": null,
       "origin_color": 255,
       "origins": {
        "compressed_buffer": {},
        "dtype": "float32",
        "shape": [
         316,
         3
        ]
       },
       "type": "Vectors",
       "use_head": true,
       "vectors": {
        "compressed_buffer": {},
        "dtype": "float32",
        "shape": [
         316,
         3
        ]
       },
       "visible": true
      }
     },
     "52d030bfd7eb4dba9a7b10880efd3871": {
      "model_module": "k3d",
      "model_module_version": "2.7.0",
      "model_name": "PlotModel",
      "state": {
       "_backend_version": "2.7.0",
       "_dom_classes": [],
       "_view_count": null,
       "antialias": 3,
       "axes": [
        "x",
        "y",
        "z"
       ],
       "axes_helper": 1,
       "background_color": 16777215,
       "camera": [
        171.22783577059485,
        -256.9514033140954,
        14.525549041842549,
        -0.02715301513671875,
        -0.06892013549804688,
        -2.599949836730957,
        0,
        0,
        1
       ],
       "camera_auto_fit": true,
       "camera_fov": 60,
       "camera_no_pan": false,
       "camera_no_rotate": false,
       "camera_no_zoom": false,
       "clipping_planes": [],
       "colorbar_object_id": -1,
       "fps_meter": false,
       "grid": [
        -1,
        -1,
        -1,
        1,
        1,
        1
       ],
       "grid_auto_fit": true,
       "grid_visible": true,
       "height": 512,
       "layout": "IPY_MODEL_7cc0e14b193b41d7b6018ac71b6b935c",
       "lighting": 1.5,
       "menu_visibility": true,
       "name": null,
       "object_ids": [
        140558421520464,
        140558421662928,
        140558421071312,
        140558422093136
       ],
       "rendering_steps": 1,
       "screenshot": "",
       "screenshot_scale": 2,
       "time": 0,
       "voxel_paint_color": 0
      }
     },
     "54f76cdaad594f1e998b3b8f0cd06bcf": {
      "buffers": [
       {
        "data": "eNq7PcOEAQAFoAGo",
        "encoding": "base64",
        "path": [
         "color_map",
         "compressed_buffer"
        ]
       },
       {
        "data": "eNpjYBBzZsAA2MQ+ODIwLDiAKtZgDwBXFgQD",
        "encoding": "base64",
        "path": [
         "model_matrix",
         "compressed_buffer"
        ]
       },
       {
        "data": "eNrt0zEOwCAMBEHu/59OEyGhILtAVJlrtwPPGHN5N77LsjKuOZuVceakymVNipxU+aDmZ7v3ks0PHt1Gc3XNxTbX3klplDHIIIMMMsgggwwyyCCDDDLIIIMMMsgggwwyyCCDDDLIIIMMMsgggwwyyCCDDDLI4C2DD1n0IZE=",
        "encoding": "base64",
        "path": [
         "voxels",
         "compressed_buffer"
        ]
       }
      ],
      "model_module": "k3d",
      "model_module_version": "2.7.0",
      "model_name": "ObjectModel",
      "state": {
       "_view_count": null,
       "_view_module": null,
       "_view_module_version": "",
       "_view_name": null,
       "color_map": {
        "compressed_buffer": {},
        "dtype": "uint32",
        "shape": []
       },
       "compression_level": 0,
       "id": 140693221940048,
       "model_matrix": {
        "compressed_buffer": {},
        "dtype": "float32",
        "shape": [
         4,
         4
        ]
       },
       "name": null,
       "opacity": 1,
       "outlines": false,
       "outlines_color": 0,
       "type": "Voxels",
       "visible": true,
       "voxels": {
        "compressed_buffer": {},
        "dtype": "uint8",
        "shape": [
         12,
         30,
         30
        ]
       },
       "wireframe": false
      }
     },
     "594309f211f84409ae599af2cee0e031": {
      "model_module": "@jupyter-widgets/base",
      "model_module_version": "1.2.0",
      "model_name": "LayoutModel",
      "state": {}
     },
     "5a7772db7a4e41ecb9a24de99c8ccec0": {
      "model_module": "@jupyter-widgets/base",
      "model_module_version": "1.2.0",
      "model_name": "LayoutModel",
      "state": {}
     },
     "5c5f6e519a1144499252fd6abbbe24d4": {
      "model_module": "@jupyter-widgets/output",
      "model_module_version": "1.0.0",
      "model_name": "OutputModel",
      "state": {
       "layout": "IPY_MODEL_176917b52a584d31926e64a8139a9212",
       "outputs": [
        {
         "data": {
          "application/vnd.jupyter.widget-view+json": {
           "model_id": "8dee0c9500654c4f82111a3921a8a9e7",
           "version_major": 2,
           "version_minor": 0
          },
          "text/plain": "Plot(antialias=3, axes=['x', 'y', 'z'], axes_helper=1.0, background_color=16777215, camera=[4.5, 4.5, 4.5, 0.0…"
         },
         "metadata": {},
         "output_type": "display_data"
        }
       ]
      }
     },
     "5d1909ec62ed4cec823e7294bafb0863": {
      "model_module": "@jupyter-widgets/output",
      "model_module_version": "1.0.0",
      "model_name": "OutputModel",
      "state": {
       "layout": "IPY_MODEL_12390e6f22dd4a9888b349b05c49eaa2",
       "outputs": [
        {
         "data": {
          "application/vnd.jupyter.widget-view+json": {
           "model_id": "c139db0cfa30430d977922a43c3d60ee",
           "version_major": 2,
           "version_minor": 0
          },
          "text/plain": "Plot(antialias=3, axes=['x', 'y', 'z'], axes_helper=1.0, background_color=16777215, camera=[4.5, 4.5, 4.5, 0.0…"
         },
         "metadata": {},
         "output_type": "display_data"
        }
       ]
      }
     },
     "5d2a7be46310446497ac19681d0f736d": {
      "model_module": "@jupyter-widgets/base",
      "model_module_version": "1.2.0",
      "model_name": "LayoutModel",
      "state": {}
     },
     "5ddaa37499f94da788bb86143dad11dc": {
      "model_module": "@jupyter-widgets/base",
      "model_module_version": "1.2.0",
      "model_name": "LayoutModel",
      "state": {}
     },
     "60f089cb7ffa41ea965dd240b9874c2a": {
      "model_module": "@jupyter-widgets/output",
      "model_module_version": "1.0.0",
      "model_name": "OutputModel",
      "state": {
       "layout": "IPY_MODEL_419fb88e64264a4aa87f4dc1f7298570",
       "outputs": [
        {
         "data": {
          "application/vnd.jupyter.widget-view+json": {
           "model_id": "8f5d0a839e344361ac4442a6d43e6d7e",
           "version_major": 2,
           "version_minor": 0
          },
          "text/plain": "Plot(antialias=3, axes=['x', 'y', 'z'], axes_helper=1.0, background_color=16777215, camera=[4.5, 4.5, 4.5, 0.0…"
         },
         "metadata": {},
         "output_type": "display_data"
        }
       ]
      }
     },
     "60ff92fb0d3445879104f1a0c7eeb177": {
      "buffers": [
       {
        "data": "eNq7PcOEwcbnOUPCOnUG/iMfGda69DF8/PCGAQB5NApc",
        "encoding": "base64",
        "path": [
         "color_map",
         "compressed_buffer"
        ]
       },
       {
        "data": "eNpjYBBzZsAA2MQ+ODIwLDiAKtZgDwBXFgQD",
        "encoding": "base64",
        "path": [
         "model_matrix",
         "compressed_buffer"
        ]
       },
       {
        "data": "eNrtwTERAAAIAKF7+4e2gasLUJcJAAAAAN4tXusSxw==",
        "encoding": "base64",
        "path": [
         "voxels",
         "compressed_buffer"
        ]
       }
      ],
      "model_module": "k3d",
      "model_module_version": "2.7.0",
      "model_name": "ObjectModel",
      "state": {
       "_view_count": null,
       "_view_module": null,
       "_view_module_version": "",
       "_view_name": null,
       "color_map": {
        "compressed_buffer": {},
        "dtype": "uint32",
        "shape": [
         6
        ]
       },
       "compression_level": 0,
       "id": 140693222760592,
       "model_matrix": {
        "compressed_buffer": {},
        "dtype": "float32",
        "shape": [
         4,
         4
        ]
       },
       "name": null,
       "opacity": 1,
       "outlines": false,
       "outlines_color": 0,
       "type": "Voxels",
       "visible": true,
       "voxels": {
        "compressed_buffer": {},
        "dtype": "uint8",
        "shape": [
         5,
         31,
         31
        ]
       },
       "wireframe": false
      }
     },
     "63c6a52133304af4a6528f1d8d2bc3c8": {
      "buffers": [
       {
        "data": "eNoDAAAAAAE=",
        "encoding": "base64",
        "path": [
         "colors",
         "compressed_buffer"
        ]
       },
       {
        "data": "eNpjYGiwZ8AAxIsBAF7EAv0=",
        "encoding": "base64",
        "path": [
         "model_matrix",
         "compressed_buffer"
        ]
       },
       {
        "data": "eNpN1iFyG0EQhlGVcGNjY+HBmp4gYeHBwoMFh5iYmATnEOJxguYQPkSOkJLKW3pCH9ja2nrgV+92H393j9/PP7vdG32lL/SZPtIH+oXe019/nn2j3+kT/e/z2a928gx9aryTvtFf9P4H30wf6CN9pi/0lX6jP+xvh4nzxHniPHGeOE+cJ84T54nzxHniPHGeOE+cJ84T54nzxHniPHGeOE+cJ84T54nzxHniPHGeOE+cO84d545zx7nj3HHuOHecO84d545zx7nj3HHuOHecO84d545zx7nj3HHuOHecO84d545zx7nj3HEuOBecC84F54JzwbngXHAuOBecC84F54JzwbngXHAuOBecC84F54JzwbngXHAuOBecC84F54JzwTlwDpwD58A5cA6cA+fAOXAOnAPnwDlwDpwD58A5cA6cA+fAOXAOnAPnwDlwDpwD58A5cA6c1+fT+d5X+kKf6SN9oF/oPb053/tGv9MnenO+96udPENvzo930jf6i96cH99MH+gjfaYv9JV+oz/sb4eB88B54DxwHjgPnAfOA+eB88B54DxwHjgPnAfOA+eB88B54DxwHjgPnAfOA+eB88B54DxwHjgPnH/9fjrf+0pf6DN9pA/0C72nN+d73+h3+kRvzvd+tZNn6M358U76Rn/Rm/Pjm+kDfaTP9IW+0m/0h705VJwrzhXninPFueJcca44V5wrzhXninPFueJcca44V5wrzhXninPFueJcca44V5wrzhXninPFubIbyW4ku5HsRrIbyW4ku5HsRrIbyW4ku5HsRrIbyW4ku5HsRrIbyW4ku5HsRrIbyW4ku5HsRrIbyW4ku5HsRrIbyW4k/4M4L5wXzgvnhfPCeeG8cF44L5wXzgvnhfPCeeG8cF44L5wXzgvnhfPCeeG8cF44L5wXzgvnhfPCORp3XeOua9x1jbuucdc17rrGXde46xp3XeOua9x1jbuucdc17rrGXde46xp3XeOua9x1jbuucdc17rrGXde46xp3XeOua9x1jbuucde1/0zhwZc=",
        "encoding": "base64",
        "path": [
         "positions",
         "compressed_buffer"
        ]
       }
      ],
      "model_module": "k3d",
      "model_module_version": "2.7.0",
      "model_name": "ObjectModel",
      "state": {
       "_view_count": null,
       "_view_module": null,
       "_view_module_version": "",
       "_view_name": null,
       "color": 10075135,
       "colors": {
        "compressed_buffer": {},
        "dtype": "uint32",
        "shape": [
         0
        ]
       },
       "compression_level": 0,
       "id": 140693222218640,
       "mesh_detail": 2,
       "model_matrix": {
        "compressed_buffer": {},
        "dtype": "float32",
        "shape": [
         4,
         4
        ]
       },
       "name": null,
       "opacity": 1,
       "point_size": 0.1,
       "positions": {
        "compressed_buffer": {},
        "dtype": "float32",
        "shape": [
         360,
         3
        ]
       },
       "shader": "3dSpecular",
       "type": "Points",
       "visible": true
      }
     },
     "649672befc9b4d85bf1e81a6e167be0f": {
      "model_module": "@jupyter-widgets/base",
      "model_module_version": "1.2.0",
      "model_name": "LayoutModel",
      "state": {}
     },
     "6679fbc1dd3b4cdb9d0923c3dff73aac": {
      "model_module": "k3d",
      "model_module_version": "2.7.0",
      "model_name": "PlotModel",
      "state": {
       "_backend_version": "2.7.0",
       "_dom_classes": [],
       "_view_count": null,
       "antialias": 3,
       "axes": [
        "x",
        "y",
        "z"
       ],
       "axes_helper": 1,
       "background_color": 16777215,
       "camera": [
        171.22783577059485,
        -256.9514033140954,
        14.525549041842549,
        -0.02715301513671875,
        -0.06892013549804688,
        -2.599949836730957,
        0,
        0,
        1
       ],
       "camera_auto_fit": true,
       "camera_fov": 60,
       "camera_no_pan": false,
       "camera_no_rotate": false,
       "camera_no_zoom": false,
       "clipping_planes": [],
       "colorbar_object_id": -1,
       "fps_meter": false,
       "grid": [
        -1,
        -1,
        -1,
        1,
        1,
        1
       ],
       "grid_auto_fit": true,
       "grid_visible": true,
       "height": 512,
       "layout": "IPY_MODEL_c8cad4c69a1d48359d3676e17e5ec511",
       "lighting": 1.5,
       "menu_visibility": true,
       "name": null,
       "object_ids": [
        140035887830800,
        140035889954000,
        140035934874512,
        140035898045648
       ],
       "rendering_steps": 1,
       "screenshot": "",
       "screenshot_scale": 2,
       "time": 0,
       "voxel_paint_color": 0
      }
     },
     "66f12d5994744a58be7471348787f737": {
      "buffers": [
       {
        "data": "eNq7PcOEAQAFoAGo",
        "encoding": "base64",
        "path": [
         "color_map",
         "compressed_buffer"
        ]
       },
       {
        "data": "eNpjYBBzZsAA2MQ+ODIwLDiAKtZgDwBXFgQD",
        "encoding": "base64",
        "path": [
         "model_matrix",
         "compressed_buffer"
        ]
       },
       {
        "data": "eNrt0zEOgDAQA8Hb/3+aggIkIruIaKJ1u1ThZuYZ92Y13ovx8wGkDqlD6pA6xJ4zxL6VOXW/vtrmD23X0m6tXWq786akGatCBSxgAQtYwAIWsIAFLGABC1jAAj4c8AVsDw6i",
        "encoding": "base64",
        "path": [
         "voxels",
         "compressed_buffer"
        ]
       }
      ],
      "model_module": "k3d",
      "model_module_version": "2.7.0",
      "model_name": "ObjectModel",
      "state": {
       "_view_count": null,
       "_view_module": null,
       "_view_module_version": "",
       "_view_name": null,
       "color_map": {
        "compressed_buffer": {},
        "dtype": "uint32",
        "shape": []
       },
       "compression_level": 0,
       "id": 140693223780112,
       "model_matrix": {
        "compressed_buffer": {},
        "dtype": "float32",
        "shape": [
         4,
         4
        ]
       },
       "name": null,
       "opacity": 1,
       "outlines": false,
       "outlines_color": 0,
       "type": "Voxels",
       "visible": true,
       "voxels": {
        "compressed_buffer": {},
        "dtype": "uint8",
        "shape": [
         5,
         31,
         31
        ]
       },
       "wireframe": false
      }
     },
     "677f547aee234147b6efd0ccab31917d": {
      "model_module": "@jupyter-widgets/output",
      "model_module_version": "1.0.0",
      "model_name": "OutputModel",
      "state": {
       "layout": "IPY_MODEL_7faf87353b3f4ba6ba5b088f95d0a9e3",
       "outputs": [
        {
         "data": {
          "application/vnd.jupyter.widget-view+json": {
           "model_id": "9ec0c55067634836a4e8198d47c1746d",
           "version_major": 2,
           "version_minor": 0
          },
          "text/plain": "Plot(antialias=3, axes=['x', 'y', 'z'], axes_helper=1.0, background_color=16777215, camera=[4.5, 4.5, 4.5, 0.0…"
         },
         "metadata": {},
         "output_type": "display_data"
        }
       ]
      }
     },
     "6888807ffac54a78bed7d66b66592277": {
      "model_module": "@jupyter-widgets/base",
      "model_module_version": "1.2.0",
      "model_name": "LayoutModel",
      "state": {}
     },
     "6995ea35e2424e528430034c029a5d24": {
      "model_module": "@jupyter-widgets/output",
      "model_module_version": "1.0.0",
      "model_name": "OutputModel",
      "state": {
       "layout": "IPY_MODEL_333cb404005042beb16c25585ffa028a",
       "outputs": [
        {
         "data": {
          "application/vnd.jupyter.widget-view+json": {
           "model_id": "6679fbc1dd3b4cdb9d0923c3dff73aac",
           "version_major": 2,
           "version_minor": 0
          },
          "text/plain": "Plot(antialias=3, axes=['x', 'y', 'z'], axes_helper=1.0, background_color=16777215, camera=[4.5, 4.5, 4.5, 0.0…"
         },
         "metadata": {},
         "output_type": "display_data"
        }
       ]
      }
     },
     "6b3f8a7e88984a9184a0ab3880f1e153": {
      "model_module": "k3d",
      "model_module_version": "2.7.0",
      "model_name": "PlotModel",
      "state": {
       "_backend_version": "2.7.0",
       "_dom_classes": [],
       "_view_count": null,
       "antialias": 3,
       "axes": [
        "x",
        "y",
        "z"
       ],
       "axes_helper": 1,
       "background_color": 16777215,
       "camera": [
        25.042744749751513,
        -68.59287059926947,
        -1.6797537128115465,
        0.055828094482421875,
        -0.005649685859680176,
        -5.275280952453613,
        -0.016077607695099545,
        -0.01246259024747201,
        0.9997930757787468
       ],
       "camera_auto_fit": true,
       "camera_fov": 60,
       "camera_no_pan": false,
       "camera_no_rotate": false,
       "camera_no_zoom": false,
       "clipping_planes": [],
       "colorbar_object_id": -1,
       "fps_meter": false,
       "grid": [
        -1,
        -1,
        -1,
        1,
        1,
        1
       ],
       "grid_auto_fit": true,
       "grid_visible": true,
       "height": 512,
       "layout": "IPY_MODEL_781cd4ddfb65427bb451ea403ff461c9",
       "lighting": 1.5,
       "menu_visibility": true,
       "name": null,
       "object_ids": [
        140693222312272,
        140693222218640
       ],
       "rendering_steps": 1,
       "screenshot": "",
       "screenshot_scale": 2,
       "time": 0,
       "voxel_paint_color": 0
      }
     },
     "6bac9e0f55f548e9a08c8798b8c264a4": {
      "model_module": "@jupyter-widgets/output",
      "model_module_version": "1.0.0",
      "model_name": "OutputModel",
      "state": {
       "layout": "IPY_MODEL_5ddaa37499f94da788bb86143dad11dc",
       "outputs": [
        {
         "data": {
          "application/vnd.jupyter.widget-view+json": {
           "model_id": "74e90afeb5b44e6d9905156d634ed281",
           "version_major": 2,
           "version_minor": 0
          },
          "text/plain": "Plot(antialias=3, axes=['x', 'y', 'z'], axes_helper=1.0, background_color=16777215, camera=[4.5, 4.5, 4.5, 0.0…"
         },
         "metadata": {},
         "output_type": "display_data"
        }
       ]
      }
     },
     "6d8d942221904836a50564c5c9cd21d9": {
      "model_module": "k3d",
      "model_module_version": "2.7.0",
      "model_name": "PlotModel",
      "state": {
       "_backend_version": "2.7.0",
       "_dom_classes": [],
       "_view_count": null,
       "antialias": 3,
       "axes": [
        "x",
        "y",
        "z"
       ],
       "axes_helper": 1,
       "background_color": 16777215,
       "camera": [
        178.37844914807036,
        -268.17251318435166,
        12.562038533530174,
        -0.2419357848984518,
        -0.2419357848984518,
        -5.299999959766865,
        0,
        0,
        1
       ],
       "camera_auto_fit": true,
       "camera_fov": 60,
       "camera_no_pan": false,
       "camera_no_rotate": false,
       "camera_no_zoom": false,
       "clipping_planes": [],
       "colorbar_object_id": -1,
       "fps_meter": false,
       "grid": [
        -1,
        -1,
        -1,
        1,
        1,
        1
       ],
       "grid_auto_fit": true,
       "grid_visible": true,
       "height": 512,
       "layout": "IPY_MODEL_9427ab0812b44ae89b61f63fd3ee5a5d",
       "lighting": 1.5,
       "menu_visibility": true,
       "name": null,
       "object_ids": [
        140693223780112
       ],
       "rendering_steps": 1,
       "screenshot": "",
       "screenshot_scale": 2,
       "time": 0,
       "voxel_paint_color": 0
      }
     },
     "6dc016f4e45c45748414d6f47c66cb9a": {
      "model_module": "k3d",
      "model_module_version": "2.7.0",
      "model_name": "PlotModel",
      "state": {
       "_backend_version": "2.7.0",
       "_dom_classes": [],
       "_view_count": null,
       "antialias": 3,
       "axes": [
        "x",
        "y",
        "z"
       ],
       "axes_helper": 1,
       "background_color": 16777215,
       "camera": [
        127.22344070228796,
        -190.7876535289416,
        7.715621238502832,
        0.031036376953125,
        0.0009529590606689453,
        -5.003619194030762,
        0,
        0,
        1
       ],
       "camera_auto_fit": true,
       "camera_fov": 60,
       "camera_no_pan": false,
       "camera_no_rotate": false,
       "camera_no_zoom": false,
       "clipping_planes": [],
       "colorbar_object_id": -1,
       "fps_meter": false,
       "grid": [
        -1,
        -1,
        -1,
        1,
        1,
        1
       ],
       "grid_auto_fit": true,
       "grid_visible": true,
       "height": 512,
       "layout": "IPY_MODEL_b364c27d92b342b6892f68e3d536623b",
       "lighting": 1.5,
       "menu_visibility": true,
       "name": null,
       "object_ids": [
        140693201134736,
        140693224022672
       ],
       "rendering_steps": 1,
       "screenshot": "",
       "screenshot_scale": 2,
       "time": 0,
       "voxel_paint_color": 0
      }
     },
     "6e1e70d1924642c7b4df904723e3cc3c": {
      "model_module": "@jupyter-widgets/base",
      "model_module_version": "1.2.0",
      "model_name": "LayoutModel",
      "state": {}
     },
     "716ac18783874c9e9ac38a3948b65032": {
      "model_module": "k3d",
      "model_module_version": "2.7.0",
      "model_name": "PlotModel",
      "state": {
       "_backend_version": "2.7.0",
       "_dom_classes": [],
       "_view_count": null,
       "antialias": 3,
       "axes": [
        "x",
        "y",
        "z"
       ],
       "axes_helper": 1,
       "background_color": 16777215,
       "camera": [
        123.74431823718132,
        -147.23771573559654,
        11.311042717378815,
        -0.24999985471367836,
        -0.24999985471367836,
        -5.125000011175871,
        -0.022896392834635605,
        0.019730006435129552,
        0.9995431366585604
       ],
       "camera_auto_fit": true,
       "camera_fov": 60,
       "camera_no_pan": false,
       "camera_no_rotate": false,
       "camera_no_zoom": false,
       "clipping_planes": [],
       "colorbar_object_id": -1,
       "fps_meter": false,
       "grid": [
        -1,
        -1,
        -1,
        1,
        1,
        1
       ],
       "grid_auto_fit": true,
       "grid_visible": true,
       "height": 512,
       "layout": "IPY_MODEL_7947a7b0a1934db6b3ffcabc25603255",
       "lighting": 1.5,
       "menu_visibility": true,
       "name": null,
       "object_ids": [
        140692482447568
       ],
       "rendering_steps": 1,
       "screenshot": "",
       "screenshot_scale": 2,
       "time": 0,
       "voxel_paint_color": 0
      }
     },
     "7173565016d14a41a2897bf6addfb754": {
      "model_module": "@jupyter-widgets/base",
      "model_module_version": "1.2.0",
      "model_name": "LayoutModel",
      "state": {}
     },
     "7215490fa89a4f088144eb6e72c55334": {
      "model_module": "@jupyter-widgets/output",
      "model_module_version": "1.0.0",
      "model_name": "OutputModel",
      "state": {
       "layout": "IPY_MODEL_92bdcf4fe88f4d21beca4af4134d041c",
       "outputs": [
        {
         "data": {
          "application/vnd.jupyter.widget-view+json": {
           "model_id": "f1a9ca78a18449419790aa0493c0b8a6",
           "version_major": 2,
           "version_minor": 0
          },
          "text/plain": "Plot(antialias=3, axes=['x', 'y', 'z'], axes_helper=1.0, background_color=16777215, camera=[4.5, 4.5, 4.5, 0.0…"
         },
         "metadata": {},
         "output_type": "display_data"
        }
       ]
      }
     },
     "72a4808a648a49d0bb5c96aef3b00fcd": {
      "model_module": "@jupyter-widgets/base",
      "model_module_version": "1.2.0",
      "model_name": "LayoutModel",
      "state": {}
     },
     "74597ec16bfd4d1b9430386a38c07d10": {
      "model_module": "@jupyter-widgets/base",
      "model_module_version": "1.2.0",
      "model_name": "LayoutModel",
      "state": {}
     },
     "74e90afeb5b44e6d9905156d634ed281": {
      "model_module": "k3d",
      "model_module_version": "2.7.0",
      "model_name": "PlotModel",
      "state": {
       "_backend_version": "2.7.0",
       "_dom_classes": [],
       "_view_count": null,
       "antialias": 3,
       "axes": [
        "x",
        "y",
        "z"
       ],
       "axes_helper": 1,
       "background_color": 16777215,
       "camera": [
        178.37844914807036,
        -268.17251318435166,
        12.562038533530174,
        -0.2419357848984518,
        -0.2419357848984518,
        -5.299999959766865,
        0,
        0,
        1
       ],
       "camera_auto_fit": true,
       "camera_fov": 60,
       "camera_no_pan": false,
       "camera_no_rotate": false,
       "camera_no_zoom": false,
       "clipping_planes": [],
       "colorbar_object_id": -1,
       "fps_meter": false,
       "grid": [
        -1,
        -1,
        -1,
        1,
        1,
        1
       ],
       "grid_auto_fit": true,
       "grid_visible": true,
       "height": 512,
       "layout": "IPY_MODEL_513b55622aea421f8f3dd4592a4e7bff",
       "lighting": 1.5,
       "menu_visibility": true,
       "name": null,
       "object_ids": [
        140558422157840
       ],
       "rendering_steps": 1,
       "screenshot": "",
       "screenshot_scale": 2,
       "time": 0,
       "voxel_paint_color": 0
      }
     },
     "7771510660b049c7ae60f4e67e4f784e": {
      "model_module": "k3d",
      "model_module_version": "2.7.0",
      "model_name": "PlotModel",
      "state": {
       "_backend_version": "2.7.0",
       "_dom_classes": [],
       "_view_count": null,
       "antialias": 3,
       "axes": [
        "x",
        "y",
        "z"
       ],
       "axes_helper": 1,
       "background_color": 16777215,
       "camera": [
        172.2558512053837,
        -258.4553939345404,
        11.625584977487371,
        0,
        -0.07161712646484375,
        -5.6000001430511475,
        0,
        0,
        1
       ],
       "camera_auto_fit": true,
       "camera_fov": 60,
       "camera_no_pan": false,
       "camera_no_rotate": false,
       "camera_no_zoom": false,
       "clipping_planes": [],
       "colorbar_object_id": -1,
       "fps_meter": false,
       "grid": [
        -1,
        -1,
        -1,
        1,
        1,
        1
       ],
       "grid_auto_fit": true,
       "grid_visible": true,
       "height": 512,
       "layout": "IPY_MODEL_bbd681f8b1f448fa86b68f09e532d9d9",
       "lighting": 1.5,
       "menu_visibility": true,
       "name": null,
       "object_ids": [
        140558421154256,
        140558421701328
       ],
       "rendering_steps": 1,
       "screenshot": "",
       "screenshot_scale": 2,
       "time": 0,
       "voxel_paint_color": 0
      }
     },
     "77cfd9d4f95e4966a9f0d24f39eb3c03": {
      "model_module": "k3d",
      "model_module_version": "2.7.0",
      "model_name": "PlotModel",
      "state": {
       "_backend_version": "2.7.0",
       "_dom_classes": [],
       "_view_count": null,
       "antialias": 3,
       "axes": [
        "x",
        "y",
        "z"
       ],
       "axes_helper": 1,
       "background_color": 16777215,
       "camera": [
        3.2255595711183536,
        -68.74382162181814,
        3.315070866987055,
        0.02069091796875,
        0.0006154775619506836,
        -5,
        -0.04900826125558786,
        0.062441566453901594,
        0.9968446424129935
       ],
       "camera_auto_fit": true,
       "camera_fov": 60,
       "camera_no_pan": false,
       "camera_no_rotate": false,
       "camera_no_zoom": false,
       "clipping_planes": [],
       "colorbar_object_id": -1,
       "fps_meter": false,
       "grid": [
        -1,
        -1,
        -1,
        1,
        1,
        1
       ],
       "grid_auto_fit": true,
       "grid_visible": true,
       "height": 512,
       "layout": "IPY_MODEL_649672befc9b4d85bf1e81a6e167be0f",
       "lighting": 1.5,
       "menu_visibility": true,
       "name": null,
       "object_ids": [
        140693223369360,
        140693221350160
       ],
       "rendering_steps": 1,
       "screenshot": "",
       "screenshot_scale": 2,
       "time": 0,
       "voxel_paint_color": 0
      }
     },
     "781cd4ddfb65427bb451ea403ff461c9": {
      "model_module": "@jupyter-widgets/base",
      "model_module_version": "1.2.0",
      "model_name": "LayoutModel",
      "state": {}
     },
     "78b129ff327d4375a2e1e3c7f9b0425f": {
      "buffers": [
       {
        "data": "eNoDAAAAAAE=",
        "encoding": "base64",
        "path": [
         "colors",
         "compressed_buffer"
        ]
       },
       {
        "data": "eNpjYGiwZ8AAxIsBAF7EAv0=",
        "encoding": "base64",
        "path": [
         "model_matrix",
         "compressed_buffer"
        ]
       },
       {
        "data": "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",
        "encoding": "base64",
        "path": [
         "positions",
         "compressed_buffer"
        ]
       }
      ],
      "model_module": "k3d",
      "model_module_version": "2.7.0",
      "model_name": "ObjectModel",
      "state": {
       "_view_count": null,
       "_view_module": null,
       "_view_module_version": "",
       "_view_name": null,
       "color": 10075135,
       "colors": {
        "compressed_buffer": {},
        "dtype": "uint32",
        "shape": [
         0
        ]
       },
       "compression_level": 0,
       "id": 140693223621136,
       "mesh_detail": 2,
       "model_matrix": {
        "compressed_buffer": {},
        "dtype": "float32",
        "shape": [
         4,
         4
        ]
       },
       "name": null,
       "opacity": 1,
       "point_size": 0.1,
       "positions": {
        "compressed_buffer": {},
        "dtype": "float32",
        "shape": [
         716,
         3
        ]
       },
       "shader": "3dSpecular",
       "type": "Points",
       "visible": true
      }
     },
     "7947a7b0a1934db6b3ffcabc25603255": {
      "model_module": "@jupyter-widgets/base",
      "model_module_version": "1.2.0",
      "model_name": "LayoutModel",
      "state": {}
     },
     "79a1303b6e1f4ca7af2127a2a6cb6287": {
      "model_module": "k3d",
      "model_module_version": "2.7.0",
      "model_name": "PlotModel",
      "state": {
       "_backend_version": "2.7.0",
       "_dom_classes": [],
       "_view_count": null,
       "antialias": 3,
       "axes": [
        "x",
        "y",
        "z"
       ],
       "axes_helper": 1,
       "background_color": 16777215,
       "camera": [
        178.37844914807036,
        -268.17251318435166,
        12.562038533530174,
        -0.2419357848984518,
        -0.2419357848984518,
        -5.299999959766865,
        0,
        0,
        1
       ],
       "camera_auto_fit": true,
       "camera_fov": 60,
       "camera_no_pan": false,
       "camera_no_rotate": false,
       "camera_no_zoom": false,
       "clipping_planes": [],
       "colorbar_object_id": -1,
       "fps_meter": false,
       "grid": [
        -1,
        -1,
        -1,
        1,
        1,
        1
       ],
       "grid_auto_fit": true,
       "grid_visible": true,
       "height": 512,
       "layout": "IPY_MODEL_5d2a7be46310446497ac19681d0f736d",
       "lighting": 1.5,
       "menu_visibility": true,
       "name": null,
       "object_ids": [
        140035897381136
       ],
       "rendering_steps": 1,
       "screenshot": "",
       "screenshot_scale": 2,
       "time": 0,
       "voxel_paint_color": 0
      }
     },
     "7a37949548cb4c999c1985ef22b31243": {
      "buffers": [
       {
        "data": "eNoDAAAAAAE=",
        "encoding": "base64",
        "path": [
         "colors",
         "compressed_buffer"
        ]
       },
       {
        "data": "eNpjYGiwZ8AAxIsBAF7EAv0=",
        "encoding": "base64",
        "path": [
         "model_matrix",
         "compressed_buffer"
        ]
       },
       {
        "data": "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",
        "encoding": "base64",
        "path": [
         "positions",
         "compressed_buffer"
        ]
       }
      ],
      "model_module": "k3d",
      "model_module_version": "2.7.0",
      "model_name": "ObjectModel",
      "state": {
       "_view_count": null,
       "_view_module": null,
       "_view_module_version": "",
       "_view_name": null,
       "color": 10075135,
       "colors": {
        "compressed_buffer": {},
        "dtype": "uint32",
        "shape": [
         0
        ]
       },
       "compression_level": 0,
       "id": 140035897380944,
       "mesh_detail": 2,
       "model_matrix": {
        "compressed_buffer": {},
        "dtype": "float32",
        "shape": [
         4,
         4
        ]
       },
       "name": null,
       "opacity": 1,
       "point_size": 0.1,
       "positions": {
        "compressed_buffer": {},
        "dtype": "float32",
        "shape": [
         749,
         3
        ]
       },
       "shader": "3dSpecular",
       "type": "Points",
       "visible": true
      }
     },
     "7ba4f4e5d8cc4f3e8e0a8e4697da8657": {
      "model_module": "@jupyter-widgets/output",
      "model_module_version": "1.0.0",
      "model_name": "OutputModel",
      "state": {
       "layout": "IPY_MODEL_74597ec16bfd4d1b9430386a38c07d10",
       "outputs": [
        {
         "data": {
          "application/vnd.jupyter.widget-view+json": {
           "model_id": "ab3181e3704e4e0384c6813d817b06ee",
           "version_major": 2,
           "version_minor": 0
          },
          "text/plain": "Plot(antialias=3, axes=['x', 'y', 'z'], axes_helper=1.0, background_color=16777215, camera=[4.5, 4.5, 4.5, 0.0…"
         },
         "metadata": {},
         "output_type": "display_data"
        }
       ]
      }
     },
     "7befcbb8dc0146a09501b4d8fd35a8b7": {
      "model_module": "@jupyter-widgets/base",
      "model_module_version": "1.2.0",
      "model_name": "LayoutModel",
      "state": {}
     },
     "7cc0e14b193b41d7b6018ac71b6b935c": {
      "model_module": "@jupyter-widgets/base",
      "model_module_version": "1.2.0",
      "model_name": "LayoutModel",
      "state": {}
     },
     "7dfcf810d3ee419db364ec3ef3e8f44a": {
      "buffers": [
       {
        "data": "eNq7PcOEwcbnOUPCOnUG/iMfGda69DF8/PCGAQB5NApc",
        "encoding": "base64",
        "path": [
         "color_map",
         "compressed_buffer"
        ]
       },
       {
        "data": "eNpjYBBzZsAA2MQ+ODIwLDiAKtZgDwBXFgQD",
        "encoding": "base64",
        "path": [
         "model_matrix",
         "compressed_buffer"
        ]
       },
       {
        "data": "eNrtwUEJAAAIADHO/qFt4F/YVocJAAAAAAAAAAAAgOcWggEqMg==",
        "encoding": "base64",
        "path": [
         "voxels",
         "compressed_buffer"
        ]
       }
      ],
      "model_module": "k3d",
      "model_module_version": "2.7.0",
      "model_name": "ObjectModel",
      "state": {
       "_view_count": null,
       "_view_module": null,
       "_view_module_version": "",
       "_view_name": null,
       "color_map": {
        "compressed_buffer": {},
        "dtype": "uint32",
        "shape": [
         6
        ]
       },
       "compression_level": 0,
       "id": 140692482447568,
       "model_matrix": {
        "compressed_buffer": {},
        "dtype": "float32",
        "shape": [
         4,
         4
        ]
       },
       "name": null,
       "opacity": 1,
       "outlines": false,
       "outlines_color": 0,
       "type": "Voxels",
       "visible": true,
       "voxels": {
        "compressed_buffer": {},
        "dtype": "uint8",
        "shape": [
         12,
         30,
         30
        ]
       },
       "wireframe": false
      }
     },
     "7e7ffc514a494a82bb71465756c63770": {
      "buffers": [
       {
        "data": "eNp1070vQ1EcxnH+CYlE9EVbFWoQNGIxVJgMDYlg7MDiLTFoWk1RbfXeGsQgkXgJCYNBJUxiklhYLBZhIB39BRLynPu9iSYdPsPJuef8nqf31poYaLD+lFc6xS75ZXvfI/kTY/PcL9nLkKxddcnqTa8s3w3J3ENcJp/nZeh1T3wfD9Ly9S3B6o+wZp/nOc993M885pOHfOQlP33oZzl97Zl+KSc7xLb9wrnCkZE788nGRZtkL9slXYnI6m2fLN7HJPE4JWMvGYm8VaT5syr0Zs0+z3Oe+7ifecwnD/nI6/Z2+rj96LsUMTaDYu/4pLTnEc4XD1qlcOiR/LGxdeqV2u8hdd0tvKfppzkJvd8JvVmzz/Ocr32fzGM+echHXvLTh3705Xeydr1iW34pF9v+K9SRDxi5oLEeMlJhw5ljTUUl2TUi440xYc2++x44z33cz7x6eWpy04d+9OX74fdyv4utgMHcrCPTbqTDhvP98P8pL3QbiR4pxQclGx2W2aZRoTdr9nme8+593M885pOHfOR18tOHfvT9BRcQlYI=",
        "encoding": "base64",
        "path": [
         "colors",
         "compressed_buffer"
        ]
       },
       {
        "data": "eNpjYGiwZ8AAxIsBAF7EAv0=",
        "encoding": "base64",
        "path": [
         "model_matrix",
         "compressed_buffer"
        ]
       },
       {
        "data": "eNoVlHt0z2Ucx8WUS5ZbJsVcEpbjtl/KpX2+z7ODQy6NLYThTBqSo9KZy6IczbKL30zY5C6KOIal1D7f50Fujc1pzGz7+bmPpbHNxKj359/nfM77/Xq//ngKctPszugcDs+MN1mvJdpOiwq5xa6lprbuYlswupRbdkkwi7Nn2fefFrN3SqKZM32cjWxVxL1OfmPymw6yZyIu8Fl3hXnxQG/b6O5fvGZ5kuk+qp2t2nqO+w1PNoH+Rrbo5lnO7J5i2ufdNb8WnuZ1Q1JNHXvcdHhylP85vNI4KzaZN/IPceL3aSaj2ydm/KCtfLnZahM0r6OpczieK/9cY3bFbHXZG8iv98kwt2L+DT028FhWaGimvDs53kCSd9wr3JPcI0chhyQH+Qr5JPnoVe2fHCXpBY/6pfA0CQ849cWbZ0k4wa/BT8KPXRq7SHZhr86NuECyFx40PJB4gB8NPyR+4E3DG4k3+NTwSeKzIDdN/xCdQ+L5+FCvneL18V9Lgk1gSoKNXlDJtRVdTaefFtobW2p4WXkP4xsWaz29ajgmtY+ZUhFp9+dU8/lij/l8rbKNu1fx7/F9TQX1sDO+vM+hF980a6+3sWe/ruAmffqZ7MTn7Jjiv/nU4f4mfsItk32ljO/uHGj67jQmYf5VTnmDTMB/GabjZ4X8dLc23x6JNTb5KBdPGmLaf/OyeVS2ka++O8LMb7Hezc4P44YfjzH1IoM9y58Gh06f/p68Oz/nh5G8417hnuR+zZFYhRySHOQr5JPko1ehl6QXPAo8JDzg1OAk4QS/Bj8JP3Zp7CLZhb0ae0n2woOGBxIP8KPhh8QPvGl4I/EGnxo+SXzCs57q9ZF4XrQt1To1F3njtBVuzM1lduqRy+z3rHUPDY+z5Zd9HFO8wS27MM0ODSnlWneLe2NOhI26WMyTJ213xzUNs1/dv8QbJ+9wLx8Msb8NucSrOv3gPowOsoFZRTz22o+ur3GA/SeoiB+d2+32jfebftPQ1Xmvm/DgV/N4ViFveT3LjfOmG2/meZ4Ql+12OzHRHD2XzzlDfnfDQ5qZ6P6WH/Y56Ua2TnHP+JI4K6TETWk1w/PKkrc9uX+Wu1GtU5w8XxLtwzvu1eT+luQeOerYuXySHOSrtMzzJPnoVegl6QWPAg8JDzh1RVARCSf4NfhJ+LFLYxfJLuzV2EuyFx40PJB4gB8NP/QEfuBNwxuJN/jU8EniE541PJN4fmFfqh3c0M+tw1rSgJpldnPBVV75zKd06qM4eyvJz3Fdk+iP+9PsS/N83GRTGuUtjbADupTyhKHpNLBdmPUvLOGHc9LpDIfYvU4Jr1+VTr0/DLJVUSXcNG41jWsZYBvtKeE9h9bQJK/fNA8v5bzQ9bQ78LDxPy7ldsu30Ue70s2DKB+PrthPcysnmkU9S/i7BvkUPKCZmdwhj/XYAKdVbbKbeHwdJ3fwOLPDF3qyvKM8GevGO0G1yc6K4+tI3nGvpnTII4V75Kj4niUkObN3pSvkk+SjV6GX2qIXPKpFeCkJDzg1OEk4wa/BT8KPXRq7SHZhr8Zekr3woOGBxAP8aPgh8QNvGt5IvMGnhk8Sn/Cs4ZnEs3+x1166c4uvHvzDWZCbYDNsNTfYUeg06LbIRgfU8NABV5xRB2Nt59EP+Nq1G876wVF2zN5q3tS1zGnjU7byrWrOmXvbyf6ih21oq3jukjvOiVdftgltqjjVlju+vOdscf1KvpF019lcv8xsD7rHH4Tfc+Z9Zs2J2L/5x4XVzvDbmca9fZ2fb1Pr3Dkw0/S+XsBZHeupuu+0NUfG7OesiEZqxLANbvrIidw9srmavbm/59lShb+llRo5bIOzeuREknfcK9yT3JcfmKmQQ5KDfIV8knz0KvSS9IJHgYeEB5wanCSc4NfgpxTwY5fGLpJd2Kuxl2QvPGh4IPEAPxp+SPzAm4Y3Em/wqeGTxCc8a3gm8fw/m0rXOA==",
        "encoding": "base64",
        "path": [
         "origins",
         "compressed_buffer"
        ]
       },
       {
        "data": "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",
        "encoding": "base64",
        "path": [
         "vectors",
         "compressed_buffer"
        ]
       }
      ],
      "model_module": "k3d",
      "model_module_version": "2.7.0",
      "model_name": "ObjectModel",
      "state": {
       "_view_count": null,
       "_view_module": null,
       "_view_module_version": "",
       "_view_name": null,
       "colors": {
        "compressed_buffer": {},
        "dtype": "uint32",
        "shape": [
         155,
         2
        ]
       },
       "compression_level": 0,
       "head_color": 255,
       "head_size": 20,
       "id": 140693223369360,
       "label_size": 1,
       "labels": [],
       "line_width": 0.01,
       "model_matrix": {
        "compressed_buffer": {},
        "dtype": "float32",
        "shape": [
         4,
         4
        ]
       },
       "name": null,
       "origin_color": 255,
       "origins": {
        "compressed_buffer": {},
        "dtype": "float32",
        "shape": [
         155,
         3
        ]
       },
       "type": "Vectors",
       "use_head": true,
       "vectors": {
        "compressed_buffer": {},
        "dtype": "float32",
        "shape": [
         155,
         3
        ]
       },
       "visible": true
      }
     },
     "7ec76c08595449d89fa51e32c01a34c6": {
      "model_module": "@jupyter-widgets/base",
      "model_module_version": "1.2.0",
      "model_name": "LayoutModel",
      "state": {}
     },
     "7f0f4447097742bb9434e7433901263e": {
      "model_module": "@jupyter-widgets/output",
      "model_module_version": "1.0.0",
      "model_name": "OutputModel",
      "state": {
       "layout": "IPY_MODEL_fcb78b443901451ab11477b9c651569e",
       "outputs": [
        {
         "data": {
          "application/vnd.jupyter.widget-view+json": {
           "model_id": "77cfd9d4f95e4966a9f0d24f39eb3c03",
           "version_major": 2,
           "version_minor": 0
          },
          "text/plain": "Plot(antialias=3, axes=['x', 'y', 'z'], axes_helper=1.0, background_color=16777215, camera=[4.5, 4.5, 4.5, 0.0…"
         },
         "metadata": {},
         "output_type": "display_data"
        }
       ]
      }
     },
     "7faf87353b3f4ba6ba5b088f95d0a9e3": {
      "model_module": "@jupyter-widgets/base",
      "model_module_version": "1.2.0",
      "model_name": "LayoutModel",
      "state": {}
     },
     "8068dfb698a2468fa65ae5a3010e63f8": {
      "model_module": "@jupyter-widgets/output",
      "model_module_version": "1.0.0",
      "model_name": "OutputModel",
      "state": {
       "layout": "IPY_MODEL_ba33f3372d1f4ac8bc1b134b1a55df75",
       "outputs": [
        {
         "data": {
          "application/vnd.jupyter.widget-view+json": {
           "model_id": "4e659c31fb604f77a325237be3a781b6",
           "version_major": 2,
           "version_minor": 0
          },
          "text/plain": "Plot(antialias=3, axes=['x', 'y', 'z'], axes_helper=1.0, background_color=16777215, camera=[4.5, 4.5, 4.5, 0.0…"
         },
         "metadata": {},
         "output_type": "display_data"
        }
       ]
      }
     },
     "83433fd9f2dc4cd1a8f9b45b8cf72c04": {
      "buffers": [
       {
        "data": "eNoDAAAAAAE=",
        "encoding": "base64",
        "path": [
         "colors",
         "compressed_buffer"
        ]
       },
       {
        "data": "eNpjYGiwZ8AAxIsBAF7EAv0=",
        "encoding": "base64",
        "path": [
         "model_matrix",
         "compressed_buffer"
        ]
       },
       {
        "data": "eNpN0CFywzAQheEw41LfIKSzpSXWLgzuDUp6hxCzFoSEegp8imKphyiNWHyMjj2x3m/0RvO8K32n4/X3sH1f5Xb+bPn+fW75KT5afr2/tfx+8ZYvL88t//z1mNlhzlL0bynqTwW7cN6zk/d8aN92ntB3zHF0HHvRWRz3DMwJvCvw3oBDYFfALeDZ8ul4ZX6YGMwN5gZzg7nB3GBuMDeYG8wN5gZzg7nB3GBuMDeYG8wN5gZzg7nB3GBuMDeYG8wN5gZzg7nB3GBuMJ+zzOcs8znLfM4yn7PM5yzzOct8ndlhzm6+/luK+lPBLpz37OQ9y3w7T+g75jg6jr3oLI57BuYE3hV4b8AhsCvgFvBsWeZbfpiMg8zHQebjIPNxkPk4yHwcZD4OMl9ndpizm6//lqL+VLAL5z07ec8y384T+o45jo5jLzqL456BOYF3Bd4bcAjsCrgFPFuW+ZYfJjXJvCaZ1yTzmmRek8xrknlNMl9ndpizm6//lqL+VLAL5z07ec8y384T+o45jo5jLzqL456BOYF3Bd4bcAjsCrgFPFuWeU3/8njPnw==",
        "encoding": "base64",
        "path": [
         "positions",
         "compressed_buffer"
        ]
       }
      ],
      "model_module": "k3d",
      "model_module_version": "2.7.0",
      "model_name": "ObjectModel",
      "state": {
       "_view_count": null,
       "_view_module": null,
       "_view_module_version": "",
       "_view_name": null,
       "color": 10075135,
       "colors": {
        "compressed_buffer": {},
        "dtype": "uint32",
        "shape": [
         0
        ]
       },
       "compression_level": 0,
       "id": 140693221350160,
       "mesh_detail": 2,
       "model_matrix": {
        "compressed_buffer": {},
        "dtype": "float32",
        "shape": [
         4,
         4
        ]
       },
       "name": null,
       "opacity": 1,
       "point_size": 0.1,
       "positions": {
        "compressed_buffer": {},
        "dtype": "float32",
        "shape": [
         155,
         3
        ]
       },
       "shader": "3dSpecular",
       "type": "Points",
       "visible": true
      }
     },
     "876f709970c1416884eedb2edda2d7e4": {
      "model_module": "@jupyter-widgets/base",
      "model_module_version": "1.2.0",
      "model_name": "LayoutModel",
      "state": {}
     },
     "88d52f4514e54e4697b4fe99ea607b1d": {
      "model_module": "@jupyter-widgets/base",
      "model_module_version": "1.2.0",
      "model_name": "LayoutModel",
      "state": {}
     },
     "8ac3396ab9604a8982e1eb050edaa525": {
      "model_module": "@jupyter-widgets/output",
      "model_module_version": "1.0.0",
      "model_name": "OutputModel",
      "state": {
       "layout": "IPY_MODEL_206d835659534b999451523b33578f05",
       "outputs": [
        {
         "data": {
          "application/vnd.jupyter.widget-view+json": {
           "model_id": "6d8d942221904836a50564c5c9cd21d9",
           "version_major": 2,
           "version_minor": 0
          },
          "text/plain": "Plot(antialias=3, axes=['x', 'y', 'z'], axes_helper=1.0, background_color=16777215, camera=[4.5, 4.5, 4.5, 0.0…"
         },
         "metadata": {},
         "output_type": "display_data"
        }
       ]
      }
     },
     "8b0045ed0f8c4130914bb37d260067b5": {
      "buffers": [
       {
        "data": "eNot0vlP1gUcwPF3rVar1Wq14vR5Hh4eBOSSQy45fZ7v96spoRIiIqJAHCKH3Pf9cD7fLLMss8yyzLLM0sy01KJIo1BDEQUEfWBrba2ttbbW1sfVD6//4JV2l5X0u62su8fG+nttZN6nkHW/wsYHFLIfVMh5SGXzwyq5j6jkPaqS/5hKweMahU9oFD2pUeyiUeKmsc1do9RDo8xTo9ygUWHUqDRpVJk1qr01aiwatT4adb4a9X4aDf4qDQEqjYEqTUEqzcEqLSEKLaEKrWEKbeEK7RE22iNtdETZ6Iy20hljpStWxC2jO14kJGNPFEnJ9CQn0WNNoteWSK8i1AT6NLE8nr4V8fSvFKvi6E8RTy9lIFWsjmVgjVgbw2CaeCaawXSREcXgepEZiWODyFqCY6PIjsCxSeSE49gstoThyA1DzwtFzxfPLkYvEIWiKAS9WGwNRi8R24LQS0WZKA9Er7gjAH27qBRVi9CrRY0/eq2oE/V+6A2iUTT5ojeLloXoraJNtPugd/yv04LeJbqF3Ru9R/Sa0fvMOPrFgBeOQeEQugnHc2KHicHnxQvG/+wULxoY2CVeEi+L3Qb6XxGvij0L6HtN7BWvG+h9Q+wTbxrouWO/AftbRuxvG+k+YKL7HfGuF10Hveh8z0znIW863rfQ8YGF9sM+YiFtH/rS+pEfrUf8afk4gOajgTR9EkTTp8E0HltMw/FQ6o+HU/9ZBHUnIqn9PIqakzFUfxFL1ak4Kk8lsP10IhVfJlP+lZWyMwqlZ+Xj2RWUnFvJ1q9TKP4mlaKhNRQOpVHwbTr532WQN5xJ7nAWW77PJud8Dpsu5JJ9IZ+sHwrYMFJE5kgJGT+Wsu6nctJHK0kbrWbtxVpWX2wg9VITKZdbWXW5nad+7mL5mB1trA/lygC2KzrLru4g6epOEsd3ET++m6XX9hB7bS/RE/uInNjPkusHCL9+kNAbhwi5cZjgySMETh5l0dQx/KZO4Dt1Ep/p01imz2CePofp5hDGm8MYZs7jOTOCx8wo7rOXcJsdw3V2HNdbE7jcmhTTuNyexfW2U8zj5vwFd+eveDh/w9P5Owvm/sA49yemub8wz/+NZf4f/gXLh0p6",
        "encoding": "base64",
        "path": [
         "color_map",
         "compressed_buffer"
        ]
       },
       {
        "data": "eNpjYBBzZsAA2MQ+ODIwLDiAKtZgDwBXFgQD",
        "encoding": "base64",
        "path": [
         "model_matrix",
         "compressed_buffer"
        ]
       },
       {
        "data": "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",
        "encoding": "base64",
        "path": [
         "voxels",
         "compressed_buffer"
        ]
       }
      ],
      "model_module": "k3d",
      "model_module_version": "2.7.0",
      "model_name": "ObjectModel",
      "state": {
       "_view_count": null,
       "_view_module": null,
       "_view_module_version": "",
       "_view_name": null,
       "color_map": {
        "compressed_buffer": {},
        "dtype": "uint32",
        "shape": [
         256
        ]
       },
       "compression_level": 0,
       "id": 140558589380368,
       "model_matrix": {
        "compressed_buffer": {},
        "dtype": "float32",
        "shape": [
         4,
         4
        ]
       },
       "name": null,
       "opacity": 1,
       "outlines": false,
       "outlines_color": 0,
       "type": "Voxels",
       "visible": true,
       "voxels": {
        "compressed_buffer": {},
        "dtype": "uint8",
        "shape": [
         5,
         31,
         31
        ]
       },
       "wireframe": false
      }
     },
     "8dee0c9500654c4f82111a3921a8a9e7": {
      "model_module": "k3d",
      "model_module_version": "2.7.0",
      "model_name": "PlotModel",
      "state": {
       "_backend_version": "2.7.0",
       "_dom_classes": [],
       "_view_count": null,
       "antialias": 3,
       "axes": [
        "x",
        "y",
        "z"
       ],
       "axes_helper": 1,
       "background_color": 16777215,
       "camera": [
        62.67856022082442,
        -220.96557426693363,
        12.68411440104703,
        -0.24999985471367836,
        0,
        -5.125000011175871,
        -0.026739610023026727,
        0.0151836916552146,
        0.999527112570508
       ],
       "camera_auto_fit": true,
       "camera_fov": 60,
       "camera_no_pan": false,
       "camera_no_rotate": false,
       "camera_no_zoom": false,
       "clipping_planes": [],
       "colorbar_object_id": -1,
       "fps_meter": false,
       "grid": [
        -1,
        -1,
        -1,
        1,
        1,
        1
       ],
       "grid_auto_fit": true,
       "grid_visible": true,
       "height": 512,
       "layout": "IPY_MODEL_fa92491df3944c6c814d4a5ae2655a17",
       "lighting": 1.5,
       "menu_visibility": true,
       "name": null,
       "object_ids": [
        140693222218320
       ],
       "rendering_steps": 1,
       "screenshot": "",
       "screenshot_scale": 2,
       "time": 0,
       "voxel_paint_color": 0
      }
     },
     "8f5d0a839e344361ac4442a6d43e6d7e": {
      "model_module": "k3d",
      "model_module_version": "2.7.0",
      "model_name": "PlotModel",
      "state": {
       "_backend_version": "2.7.0",
       "_dom_classes": [],
       "_view_count": null,
       "antialias": 3,
       "axes": [
        "x",
        "y",
        "z"
       ],
       "axes_helper": 1,
       "background_color": 16777215,
       "camera": [
        194.40096093672986,
        -253.5564722201722,
        38.82781970162576,
        -0.24999985471367836,
        -0.24999985471367836,
        -5.125000011175871,
        -0.03620037289122237,
        0.07459437911998046,
        0.9965566775684372
       ],
       "camera_auto_fit": true,
       "camera_fov": 60,
       "camera_no_pan": false,
       "camera_no_rotate": false,
       "camera_no_zoom": false,
       "clipping_planes": [],
       "colorbar_object_id": -1,
       "fps_meter": false,
       "grid": [
        -1,
        -1,
        -1,
        1,
        1,
        1
       ],
       "grid_auto_fit": true,
       "grid_visible": true,
       "height": 512,
       "layout": "IPY_MODEL_e95a9d06c5a1482c879034555ab832d4",
       "lighting": 1.5,
       "menu_visibility": true,
       "name": null,
       "object_ids": [
        140693221940048
       ],
       "rendering_steps": 1,
       "screenshot": "",
       "screenshot_scale": 2,
       "time": 0,
       "voxel_paint_color": 0
      }
     },
     "90e7e77cf2ff49c9bf6c3449ccea5a1f": {
      "model_module": "@jupyter-widgets/base",
      "model_module_version": "1.2.0",
      "model_name": "LayoutModel",
      "state": {}
     },
     "92bdcf4fe88f4d21beca4af4134d041c": {
      "model_module": "@jupyter-widgets/base",
      "model_module_version": "1.2.0",
      "model_name": "LayoutModel",
      "state": {}
     },
     "92ce3001cfe347f2bbec6dc3f9da7016": {
      "buffers": [
       {
        "data": "eNqllj1PVFEQhrEgFjbS0sAusihggEpigSYiGkNJwxY0kBh0GzSSEIgR0ey6HxeCHwk0SkNnYUEHDX+CktJfYYKZeZ9J7rkhFBRPsTf3njMz78w7W70501X9z+LtZ8ZSj7Nwa8ao9T43vryYMtrzk0b2csJ5Ne68HnOWx4129YHRnJ0yOGfuxrTBebyfrdx31u4562LjrsPvlVFH33HOfPdTY+vhtBFxvhtxPlac+h2j0y47WSlPp2xkjQHn06CzOmyQF/dwL8+z2pjzYcjoNAccnd/e7Xe+im99jn53tktOq2xkmxVH55IXdUz1IU6+I5/W9z6juec0fooDpy4av5zmvtP64URdlBd15V7iQO/QVfUjH87j3s+HJeP9n1Fj/WgiB895j+/Ih/qGvklfhC70jXSlzuTJ+Zu/h4y3x4+M2ulsjjcnjw3e4zvqis70GX2NbsxV1Ed9TX3pA3Qgf+59crZjVM5PcvCcuPkOnek7+j7mTHNclQ8w/zHPmr/oX/Ur/YJO1Id4Bv/+y8Fz3uM79Iz+p37Mu/wFf4LwHepHfNRP5143PvIk74gPX1KdqBt1DH9Unak7OqALOqHbVfrSB6Gv+iTqx5xSP/UZfRe+iN/ih8qLPk7ngXvTeSDuwjxorpiz8FPNIXNZ2AOaY+aaOb+2X+Bj+Cq+rnvTPRVxsT/wc/xU55EnOoSPgnSmruFb6IS/y7dTP8XnQzf2C/6ufKjzZXsl5p89h2/i5+wX6VLYp/go+4X64afKp7BP8Rv8EJ9WXckr3afF/wfy78v+F+Bn9HWyB9J9id6RF/fge/iL5pg4U32YK+Yff8IHLgCyKdEP",
        "encoding": "base64",
        "path": [
         "colors",
         "compressed_buffer"
        ]
       },
       {
        "data": "eNpjYGiwZ8AAxIsBAF7EAv0=",
        "encoding": "base64",
        "path": [
         "model_matrix",
         "compressed_buffer"
        ]
       },
       {
        "data": "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",
        "encoding": "base64",
        "path": [
         "origins",
         "compressed_buffer"
        ]
       },
       {
        "data": "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",
        "encoding": "base64",
        "path": [
         "vectors",
         "compressed_buffer"
        ]
       }
      ],
      "model_module": "k3d",
      "model_module_version": "2.7.0",
      "model_name": "ObjectModel",
      "state": {
       "_view_count": null,
       "_view_module": null,
       "_view_module_version": "",
       "_view_name": null,
       "colors": {
        "compressed_buffer": {},
        "dtype": "uint32",
        "shape": [
         300,
         2
        ]
       },
       "compression_level": 0,
       "head_color": 255,
       "head_size": 30,
       "id": 140693201190544,
       "label_size": 1,
       "labels": [],
       "line_width": 0.01,
       "model_matrix": {
        "compressed_buffer": {},
        "dtype": "float32",
        "shape": [
         4,
         4
        ]
       },
       "name": null,
       "origin_color": 255,
       "origins": {
        "compressed_buffer": {},
        "dtype": "float32",
        "shape": [
         300,
         3
        ]
       },
       "type": "Vectors",
       "use_head": true,
       "vectors": {
        "compressed_buffer": {},
        "dtype": "float32",
        "shape": [
         300,
         3
        ]
       },
       "visible": true
      }
     },
     "9427ab0812b44ae89b61f63fd3ee5a5d": {
      "model_module": "@jupyter-widgets/base",
      "model_module_version": "1.2.0",
      "model_name": "LayoutModel",
      "state": {}
     },
     "9619d1bda53c4a6db38761ba3dd36ff2": {
      "model_module": "@jupyter-widgets/base",
      "model_module_version": "1.2.0",
      "model_name": "LayoutModel",
      "state": {}
     },
     "98261702bf604edda24ef30b2550db63": {
      "model_module": "k3d",
      "model_module_version": "2.7.0",
      "model_name": "PlotModel",
      "state": {
       "_backend_version": "2.7.0",
       "_dom_classes": [],
       "_view_count": null,
       "antialias": 3,
       "axes": [
        "x",
        "y",
        "z"
       ],
       "axes_helper": 1,
       "background_color": 16777215,
       "camera": [
        178.37844914807036,
        -268.17251318435166,
        12.562038533530174,
        -0.2419357848984518,
        -0.2419357848984518,
        -5.299999959766865,
        0,
        0,
        1
       ],
       "camera_auto_fit": true,
       "camera_fov": 60,
       "camera_no_pan": false,
       "camera_no_rotate": false,
       "camera_no_zoom": false,
       "clipping_planes": [],
       "colorbar_object_id": -1,
       "fps_meter": false,
       "grid": [
        -1,
        -1,
        -1,
        1,
        1,
        1
       ],
       "grid_auto_fit": true,
       "grid_visible": true,
       "height": 512,
       "layout": "IPY_MODEL_e5bdf4db14114abeb1f155ace78ac07e",
       "lighting": 1.5,
       "menu_visibility": true,
       "name": null,
       "object_ids": [
        140036873475920
       ],
       "rendering_steps": 1,
       "screenshot": "",
       "screenshot_scale": 2,
       "time": 0,
       "voxel_paint_color": 0
      }
     },
     "9a4c52cf8d9844c893571da7cef08d8a": {
      "buffers": [
       {
        "data": "eNq7PcOEwcbnOUPCOnUG/iMfGda69DF8/PCGAQB5NApc",
        "encoding": "base64",
        "path": [
         "color_map",
         "compressed_buffer"
        ]
       },
       {
        "data": "eNpjYBBzZsAA2MQ+ODIwLDiAKtZgDwBXFgQD",
        "encoding": "base64",
        "path": [
         "model_matrix",
         "compressed_buffer"
        ]
       },
       {
        "data": "eNrtwTENAAAMA6C0/kVXw649QAIAABwUAHgwgKsaSA==",
        "encoding": "base64",
        "path": [
         "voxels",
         "compressed_buffer"
        ]
       }
      ],
      "model_module": "k3d",
      "model_module_version": "2.7.0",
      "model_name": "ObjectModel",
      "state": {
       "_view_count": null,
       "_view_module": null,
       "_view_module_version": "",
       "_view_name": null,
       "color_map": {
        "compressed_buffer": {},
        "dtype": "uint32",
        "shape": [
         6
        ]
       },
       "compression_level": 0,
       "id": 140035932388816,
       "model_matrix": {
        "compressed_buffer": {},
        "dtype": "float32",
        "shape": [
         4,
         4
        ]
       },
       "name": null,
       "opacity": 1,
       "outlines": false,
       "outlines_color": 0,
       "type": "Voxels",
       "visible": true,
       "voxels": {
        "compressed_buffer": {},
        "dtype": "uint8",
        "shape": [
         5,
         31,
         31
        ]
       },
       "wireframe": false
      }
     },
     "9aba783178044737847463be4a48e6a4": {
      "buffers": [
       {
        "data": "eNot0vlP1gUcwPF3rVar1Wq14vR5Hh4eBOSSQy45fZ7v96spoRIiIqJAHCKH3Pf9cD7fLLMss8yyzLLM0sy01KJIo1BDEQUEfWBrba2ttbbW1sfVD6//4JV2l5X0u62su8fG+nttZN6nkHW/wsYHFLIfVMh5SGXzwyq5j6jkPaqS/5hKweMahU9oFD2pUeyiUeKmsc1do9RDo8xTo9ygUWHUqDRpVJk1qr01aiwatT4adb4a9X4aDf4qDQEqjYEqTUEqzcEqLSEKLaEKrWEKbeEK7RE22iNtdETZ6Iy20hljpStWxC2jO14kJGNPFEnJ9CQn0WNNoteWSK8i1AT6NLE8nr4V8fSvFKvi6E8RTy9lIFWsjmVgjVgbw2CaeCaawXSREcXgepEZiWODyFqCY6PIjsCxSeSE49gstoThyA1DzwtFzxfPLkYvEIWiKAS9WGwNRi8R24LQS0WZKA9Er7gjAH27qBRVi9CrRY0/eq2oE/V+6A2iUTT5ojeLloXoraJNtPugd/yv04LeJbqF3Ru9R/Sa0fvMOPrFgBeOQeEQugnHc2KHicHnxQvG/+wULxoY2CVeEi+L3Qb6XxGvij0L6HtN7BWvG+h9Q+wTbxrouWO/AftbRuxvG+k+YKL7HfGuF10Hveh8z0znIW863rfQ8YGF9sM+YiFtH/rS+pEfrUf8afk4gOajgTR9EkTTp8E0HltMw/FQ6o+HU/9ZBHUnIqn9PIqakzFUfxFL1ak4Kk8lsP10IhVfJlP+lZWyMwqlZ+Xj2RWUnFvJ1q9TKP4mlaKhNRQOpVHwbTr532WQN5xJ7nAWW77PJud8Dpsu5JJ9IZ+sHwrYMFJE5kgJGT+Wsu6nctJHK0kbrWbtxVpWX2wg9VITKZdbWXW5nad+7mL5mB1trA/lygC2KzrLru4g6epOEsd3ET++m6XX9hB7bS/RE/uInNjPkusHCL9+kNAbhwi5cZjgySMETh5l0dQx/KZO4Dt1Ep/p01imz2CePofp5hDGm8MYZs7jOTOCx8wo7rOXcJsdw3V2HNdbE7jcmhTTuNyexfW2U8zj5vwFd+eveDh/w9P5Owvm/sA49yemub8wz/+NZf4f/gXLh0p6",
        "encoding": "base64",
        "path": [
         "color_map",
         "compressed_buffer"
        ]
       },
       {
        "data": "eNpjYBBzZsAA2MQ+ODIwLDiAKtZgDwBXFgQD",
        "encoding": "base64",
        "path": [
         "model_matrix",
         "compressed_buffer"
        ]
       },
       {
        "data": "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",
        "encoding": "base64",
        "path": [
         "voxels",
         "compressed_buffer"
        ]
       }
      ],
      "model_module": "k3d",
      "model_module_version": "2.7.0",
      "model_name": "ObjectModel",
      "state": {
       "_view_count": null,
       "_view_module": null,
       "_view_module_version": "",
       "_view_name": null,
       "color_map": {
        "compressed_buffer": {},
        "dtype": "uint32",
        "shape": [
         256
        ]
       },
       "compression_level": 0,
       "id": 140036873475920,
       "model_matrix": {
        "compressed_buffer": {},
        "dtype": "float32",
        "shape": [
         4,
         4
        ]
       },
       "name": null,
       "opacity": 1,
       "outlines": false,
       "outlines_color": 0,
       "type": "Voxels",
       "visible": true,
       "voxels": {
        "compressed_buffer": {},
        "dtype": "uint8",
        "shape": [
         5,
         31,
         31
        ]
       },
       "wireframe": false
      }
     },
     "9af80ac5e6584919a1744057f655595a": {
      "buffers": [
       {
        "data": "eNot0vlP1gUcwPF3rVar1Wq14vR5Hh4eBOSSQy45fZ7v96spoRIiIqJAHCKH3Pf9cD7fLLMss8yyzLLM0sy01KJIo1BDEQUEfWBrba2ttbbW1sfVD6//4JV2l5X0u62su8fG+nttZN6nkHW/wsYHFLIfVMh5SGXzwyq5j6jkPaqS/5hKweMahU9oFD2pUeyiUeKmsc1do9RDo8xTo9ygUWHUqDRpVJk1qr01aiwatT4adb4a9X4aDf4qDQEqjYEqTUEqzcEqLSEKLaEKrWEKbeEK7RE22iNtdETZ6Iy20hljpStWxC2jO14kJGNPFEnJ9CQn0WNNoteWSK8i1AT6NLE8nr4V8fSvFKvi6E8RTy9lIFWsjmVgjVgbw2CaeCaawXSREcXgepEZiWODyFqCY6PIjsCxSeSE49gstoThyA1DzwtFzxfPLkYvEIWiKAS9WGwNRi8R24LQS0WZKA9Er7gjAH27qBRVi9CrRY0/eq2oE/V+6A2iUTT5ojeLloXoraJNtPugd/yv04LeJbqF3Ru9R/Sa0fvMOPrFgBeOQeEQugnHc2KHicHnxQvG/+wULxoY2CVeEi+L3Qb6XxGvij0L6HtN7BWvG+h9Q+wTbxrouWO/AftbRuxvG+k+YKL7HfGuF10Hveh8z0znIW863rfQ8YGF9sM+YiFtH/rS+pEfrUf8afk4gOajgTR9EkTTp8E0HltMw/FQ6o+HU/9ZBHUnIqn9PIqakzFUfxFL1ak4Kk8lsP10IhVfJlP+lZWyMwqlZ+Xj2RWUnFvJ1q9TKP4mlaKhNRQOpVHwbTr532WQN5xJ7nAWW77PJud8Dpsu5JJ9IZ+sHwrYMFJE5kgJGT+Wsu6nctJHK0kbrWbtxVpWX2wg9VITKZdbWXW5nad+7mL5mB1trA/lygC2KzrLru4g6epOEsd3ET++m6XX9hB7bS/RE/uInNjPkusHCL9+kNAbhwi5cZjgySMETh5l0dQx/KZO4Dt1Ep/p01imz2CePofp5hDGm8MYZs7jOTOCx8wo7rOXcJsdw3V2HNdbE7jcmhTTuNyexfW2U8zj5vwFd+eveDh/w9P5Owvm/sA49yemub8wz/+NZf4f/gXLh0p6",
        "encoding": "base64",
        "path": [
         "color_map",
         "compressed_buffer"
        ]
       },
       {
        "data": "eNpjYBBzZkAD267NcmDAAB8cGRgWHEAVa7AHAK99BhA=",
        "encoding": "base64",
        "path": [
         "model_matrix",
         "compressed_buffer"
        ]
       },
       {
        "data": "eNoBmwBk/0NjeomSmZ6jqbC6xtbp+P/46dbGurCpo56Zkol6Y0NJaXyIkJWanqOqsr7N4fX/9eHNvrKqo56alZCIfGlJXnN+hYmMj5KVmZ6lsMTl/+XEsKWemZWSj4yJhX5zXpaDe3h4eHd3dnRxa15HIAEgR15rcXR2d3d4eHh7g5aqjHx1cW9ta2hjXFJBKQ4BDilBUlxjaGttb3F1fIyqWsNTYg==",
        "encoding": "base64",
        "path": [
         "voxels",
         "compressed_buffer"
        ]
       }
      ],
      "model_module": "k3d",
      "model_module_version": "2.7.0",
      "model_name": "ObjectModel",
      "state": {
       "_view_count": null,
       "_view_module": null,
       "_view_module_version": "",
       "_view_name": null,
       "color_map": {
        "compressed_buffer": {},
        "dtype": "uint32",
        "shape": [
         256
        ]
       },
       "compression_level": 0,
       "id": 140693221642576,
       "model_matrix": {
        "compressed_buffer": {},
        "dtype": "float32",
        "shape": [
         4,
         4
        ]
       },
       "name": null,
       "opacity": 1,
       "outlines": false,
       "outlines_color": 0,
       "type": "Voxels",
       "visible": true,
       "voxels": {
        "compressed_buffer": {},
        "dtype": "uint8",
        "shape": [
         5,
         1,
         31
        ]
       },
       "wireframe": false
      }
     },
     "9e4455eee1854f15b07b015f81a966be": {
      "buffers": [
       {
        "data": "eNoDAAAAAAE=",
        "encoding": "base64",
        "path": [
         "colors",
         "compressed_buffer"
        ]
       },
       {
        "data": "eNpjYGiwZ8AAxIsBAF7EAv0=",
        "encoding": "base64",
        "path": [
         "model_matrix",
         "compressed_buffer"
        ]
       },
       {
        "data": "eNpN0CFywzAQheEw41LfIKSzpSXWLgzuDUp6hxCzFoSEegp8imKphyiNWHyMjj2x3m/0RvO8K32n4/X3sH1f5Xb+bPn+fW75KT5afr2/tfx+8ZYvL88t//z1mNlhzlL0bynqTwW7cN6zk/d8aN92ntB3zHF0HHvRWRz3DMwJvCvw3oBDYFfALeDZ8ul4ZX6YGMwN5gZzg7nB3GBuMDeYG8wN5gZzg7nB3GBuMDeYG8wN5gZzg7nB3GBuMDeYG8wN5gZzg7nB3GBuMJ+zzOcs8znLfM4yn7PM5yzzOct8ndlhzm6+/luK+lPBLpz37OQ9y3w7T+g75jg6jr3oLI57BuYE3hV4b8AhsCvgFvBsWeZbfpiMg8zHQebjIPNxkPk4yHwcZD4OMl9ndpizm6//lqL+VLAL5z07ec8y384T+o45jo5jLzqL456BOYF3Bd4bcAjsCrgFPFuW+ZYfJjXJvCaZ1yTzmmRek8xrknlNMl9ndpizm6//lqL+VLAL5z07ec8y384T+o45jo5jLzqL456BOYF3Bd4bcAjsCrgFPFuWeU3/8njPnw==",
        "encoding": "base64",
        "path": [
         "positions",
         "compressed_buffer"
        ]
       }
      ],
      "model_module": "k3d",
      "model_module_version": "2.7.0",
      "model_name": "ObjectModel",
      "state": {
       "_view_count": null,
       "_view_module": null,
       "_view_module_version": "",
       "_view_name": null,
       "color": 10075135,
       "colors": {
        "compressed_buffer": {},
        "dtype": "uint32",
        "shape": [
         0
        ]
       },
       "compression_level": 0,
       "id": 140693224022672,
       "mesh_detail": 2,
       "model_matrix": {
        "compressed_buffer": {},
        "dtype": "float32",
        "shape": [
         4,
         4
        ]
       },
       "name": null,
       "opacity": 1,
       "point_size": 0.1,
       "positions": {
        "compressed_buffer": {},
        "dtype": "float32",
        "shape": [
         155,
         3
        ]
       },
       "shader": "3dSpecular",
       "type": "Points",
       "visible": true
      }
     },
     "9ec0c55067634836a4e8198d47c1746d": {
      "model_module": "k3d",
      "model_module_version": "2.7.0",
      "model_name": "PlotModel",
      "state": {
       "_backend_version": "2.7.0",
       "_dom_classes": [],
       "_view_count": null,
       "antialias": 3,
       "axes": [
        "x",
        "y",
        "z"
       ],
       "axes_helper": 1,
       "background_color": 16777215,
       "camera": [
        178.37844914807036,
        -268.17251318435166,
        12.562038533530174,
        -0.2419357848984518,
        -0.2419357848984518,
        -5.299999959766865,
        0,
        0,
        1
       ],
       "camera_auto_fit": true,
       "camera_fov": 60,
       "camera_no_pan": false,
       "camera_no_rotate": false,
       "camera_no_zoom": false,
       "clipping_planes": [],
       "colorbar_object_id": -1,
       "fps_meter": false,
       "grid": [
        -1,
        -1,
        -1,
        1,
        1,
        1
       ],
       "grid_auto_fit": true,
       "grid_visible": true,
       "height": 512,
       "layout": "IPY_MODEL_88d52f4514e54e4697b4fe99ea607b1d",
       "lighting": 1.5,
       "menu_visibility": true,
       "name": null,
       "object_ids": [
        140558421523344
       ],
       "rendering_steps": 1,
       "screenshot": "",
       "screenshot_scale": 2,
       "time": 0,
       "voxel_paint_color": 0
      }
     },
     "9fb979abac5748e99a89930bd6096b32": {
      "model_module": "@jupyter-widgets/base",
      "model_module_version": "1.2.0",
      "model_name": "LayoutModel",
      "state": {}
     },
     "a0ab44af46c0461785f0ff846bf27b0b": {
      "buffers": [
       {
        "data": "eNot0vlP1gUcwPF3rVar1Wq14vR5Hh4eBOSSQy45fZ7v96spoRIiIqJAHCKH3Pf9cD7fLLMss8yyzLLM0sy01KJIo1BDEQUEfWBrba2ttbbW1sfVD6//4JV2l5X0u62su8fG+nttZN6nkHW/wsYHFLIfVMh5SGXzwyq5j6jkPaqS/5hKweMahU9oFD2pUeyiUeKmsc1do9RDo8xTo9ygUWHUqDRpVJk1qr01aiwatT4adb4a9X4aDf4qDQEqjYEqTUEqzcEqLSEKLaEKrWEKbeEK7RE22iNtdETZ6Iy20hljpStWxC2jO14kJGNPFEnJ9CQn0WNNoteWSK8i1AT6NLE8nr4V8fSvFKvi6E8RTy9lIFWsjmVgjVgbw2CaeCaawXSREcXgepEZiWODyFqCY6PIjsCxSeSE49gstoThyA1DzwtFzxfPLkYvEIWiKAS9WGwNRi8R24LQS0WZKA9Er7gjAH27qBRVi9CrRY0/eq2oE/V+6A2iUTT5ojeLloXoraJNtPugd/yv04LeJbqF3Ru9R/Sa0fvMOPrFgBeOQeEQugnHc2KHicHnxQvG/+wULxoY2CVeEi+L3Qb6XxGvij0L6HtN7BWvG+h9Q+wTbxrouWO/AftbRuxvG+k+YKL7HfGuF10Hveh8z0znIW863rfQ8YGF9sM+YiFtH/rS+pEfrUf8afk4gOajgTR9EkTTp8E0HltMw/FQ6o+HU/9ZBHUnIqn9PIqakzFUfxFL1ak4Kk8lsP10IhVfJlP+lZWyMwqlZ+Xj2RWUnFvJ1q9TKP4mlaKhNRQOpVHwbTr532WQN5xJ7nAWW77PJud8Dpsu5JJ9IZ+sHwrYMFJE5kgJGT+Wsu6nctJHK0kbrWbtxVpWX2wg9VITKZdbWXW5nad+7mL5mB1trA/lygC2KzrLru4g6epOEsd3ET++m6XX9hB7bS/RE/uInNjPkusHCL9+kNAbhwi5cZjgySMETh5l0dQx/KZO4Dt1Ep/p01imz2CePofp5hDGm8MYZs7jOTOCx8wo7rOXcJsdw3V2HNdbE7jcmhTTuNyexfW2U8zj5vwFd+eveDh/w9P5Owvm/sA49yemub8wz/+NZf4f/gXLh0p6",
        "encoding": "base64",
        "path": [
         "color_map",
         "compressed_buffer"
        ]
       },
       {
        "data": "eNpjYBBzZkAD267NcmDAAB8cGRgWHEAVa7AHAK99BhA=",
        "encoding": "base64",
        "path": [
         "model_matrix",
         "compressed_buffer"
        ]
       },
       {
        "data": "eNoBmwBk/0NjeomSmZ6jqbC6xtbp+P/46dbGurCpo56Zkol6Y0NJaXyIkJWanqOqsr7N4fX/9eHNvrKqo56alZCIfGlJXnN+hYmMj5KVmZ6lsMTl/+XEsKWemZWSj4yJhX5zXpaDe3h4eHd3dnRxa15HIAEgR15rcXR2d3d4eHh7g5aqjHx1cW9ta2hjXFJBKQ4BDilBUlxjaGttb3F1fIyqWsNTYg==",
        "encoding": "base64",
        "path": [
         "voxels",
         "compressed_buffer"
        ]
       }
      ],
      "model_module": "k3d",
      "model_module_version": "2.7.0",
      "model_name": "ObjectModel",
      "state": {
       "_view_count": null,
       "_view_module": null,
       "_view_module_version": "",
       "_view_name": null,
       "color_map": {
        "compressed_buffer": {},
        "dtype": "uint32",
        "shape": [
         256
        ]
       },
       "compression_level": 0,
       "id": 140558421207632,
       "model_matrix": {
        "compressed_buffer": {},
        "dtype": "float32",
        "shape": [
         4,
         4
        ]
       },
       "name": null,
       "opacity": 1,
       "outlines": false,
       "outlines_color": 0,
       "type": "Voxels",
       "visible": true,
       "voxels": {
        "compressed_buffer": {},
        "dtype": "uint8",
        "shape": [
         5,
         1,
         31
        ]
       },
       "wireframe": false
      }
     },
     "a62e71ea60b54b9ab31599a67e2449dc": {
      "model_module": "k3d",
      "model_module_version": "2.7.0",
      "model_name": "PlotModel",
      "state": {
       "_backend_version": "2.7.0",
       "_dom_classes": [],
       "_view_count": null,
       "antialias": 3,
       "axes": [
        "x",
        "y",
        "z"
       ],
       "axes_helper": 1,
       "background_color": 16777215,
       "camera": [
        171.22783577059485,
        -256.9514033140954,
        14.525549041842549,
        -0.02715301513671875,
        -0.06892013549804688,
        -2.599949836730957,
        0,
        0,
        1
       ],
       "camera_auto_fit": true,
       "camera_fov": 60,
       "camera_no_pan": false,
       "camera_no_rotate": false,
       "camera_no_zoom": false,
       "clipping_planes": [],
       "colorbar_object_id": -1,
       "fps_meter": false,
       "grid": [
        -1,
        -1,
        -1,
        1,
        1,
        1
       ],
       "grid_auto_fit": true,
       "grid_visible": true,
       "height": 512,
       "layout": "IPY_MODEL_d77452cf7e1f4a4f972ed637b73a0771",
       "lighting": 1.5,
       "menu_visibility": true,
       "name": null,
       "object_ids": [
        140693201190544,
        140693221532304,
        140693203942992,
        140693222564944
       ],
       "rendering_steps": 1,
       "screenshot": "",
       "screenshot_scale": 2,
       "time": 0,
       "voxel_paint_color": 0
      }
     },
     "a876e48ab95840a180fe2d9be4f94c1f": {
      "model_module": "@jupyter-widgets/base",
      "model_module_version": "1.2.0",
      "model_name": "LayoutModel",
      "state": {}
     },
     "a8c6d6061ca84cd2a339c2ce44039167": {
      "model_module": "@jupyter-widgets/output",
      "model_module_version": "1.0.0",
      "model_name": "OutputModel",
      "state": {
       "layout": "IPY_MODEL_ae6db4b4c62e4a258aff0eee40b1e152",
       "outputs": [
        {
         "data": {
          "application/vnd.jupyter.widget-view+json": {
           "model_id": "6b3f8a7e88984a9184a0ab3880f1e153",
           "version_major": 2,
           "version_minor": 0
          },
          "text/plain": "Plot(antialias=3, axes=['x', 'y', 'z'], axes_helper=1.0, background_color=16777215, camera=[4.5, 4.5, 4.5, 0.0…"
         },
         "metadata": {},
         "output_type": "display_data"
        }
       ]
      }
     },
     "aaf27a8e1e574360abb85aadd3e3955c": {
      "buffers": [
       {
        "data": "eNq7PcOEwcbnOUPCOnUG/iMfGda69DF8/PCGAQB5NApc",
        "encoding": "base64",
        "path": [
         "color_map",
         "compressed_buffer"
        ]
       },
       {
        "data": "eNpjYBBzZsAA2MQ+ODIwLDiAKtZgDwBXFgQD",
        "encoding": "base64",
        "path": [
         "model_matrix",
         "compressed_buffer"
        ]
       },
       {
        "data": "eNrtwTERAAAIAKF7+4e2gasLUJcJAAAAAN4tXusSxw==",
        "encoding": "base64",
        "path": [
         "voxels",
         "compressed_buffer"
        ]
       }
      ],
      "model_module": "k3d",
      "model_module_version": "2.7.0",
      "model_name": "ObjectModel",
      "state": {
       "_view_count": null,
       "_view_module": null,
       "_view_module_version": "",
       "_view_name": null,
       "color_map": {
        "compressed_buffer": {},
        "dtype": "uint32",
        "shape": [
         6
        ]
       },
       "compression_level": 0,
       "id": 140558591306192,
       "model_matrix": {
        "compressed_buffer": {},
        "dtype": "float32",
        "shape": [
         4,
         4
        ]
       },
       "name": null,
       "opacity": 1,
       "outlines": false,
       "outlines_color": 0,
       "type": "Voxels",
       "visible": true,
       "voxels": {
        "compressed_buffer": {},
        "dtype": "uint8",
        "shape": [
         5,
         31,
         31
        ]
       },
       "wireframe": false
      }
     },
     "aafa8867df47437ab41a6730903ad31c": {
      "buffers": [
       {
        "data": "eNoDAAAAAAE=",
        "encoding": "base64",
        "path": [
         "colors",
         "compressed_buffer"
        ]
       },
       {
        "data": "eNpjYGiwZ8AAxIsBAF7EAv0=",
        "encoding": "base64",
        "path": [
         "model_matrix",
         "compressed_buffer"
        ]
       },
       {
        "data": "eNpN171xGzEUhVFmaMPJ6wAF4KcSdOAO1hU4fPWYLAEVWRS1uyfQ8AZc6TsjDDF8POrz8efv6/H49Xw8fv9jt3vXfu/y9Xr87P28d7Ir++t33rvxns6z7M0u497x9bpoWDQsGhYNi4ZFw6Jh0bBoWDScO9jz9fk52yZtk7ZJ26Rt0jZpm7RN2iZtk7ZJ27kn+90bNAfNQXPQHDQHzUFz0Bw0B81Bc9AcNAfN517s9/+/YClYCpaCpWApWAqWgqVgKVgKloKlYClYCpaC5dyH+/XpO13nnuxgF/Z+3jvZlf12Xbvxns6z7M1+u64G9mQv9uF+fZpOV+JKXIkrcSWuxJW4ElfiSlyJK3ElrsSVuBLXz/7+/KsYK8aKsWKsGCvGirFirBgrxoqxYqwYK8aKsWKsGCvGehrdr0/H6T33Yk92sAt7P++d7Mp+v1678Z7Os+zNfnuvBvZkL/Zx72/vtV+fv315G96Gt+FteBvehrfhbXgb3oa34W14G96Gt+FteBvehrdxnjvnuXOeO+e5c54757lznjvnuXOeO+e5c54757lznjvnuXOeO+e5c54757lznjvnGWNiTIyJMTEmxsSYGBNjYkyMiTExJsbEmBgTY2JMXBvXxrVxbVwb18a1cW1cG9fGtXFtXBvXxrVxbVwb18b1fv669wf3/uDeH9z7g3t/cO8P7v3BvT+49wf3/uDeH9z7g3t/cO8P7v3BvT+497EElsASWAJLYAksgSWwBJbAElgCS2AJLIHF5knzpHnSPGmeNE+aJ82T5knzpHnSPGmeNNu2aFu0LdoWbYu2RduibdG2aFu0LdpsOGg4aDhoOGg4aDhoOGg4aDho4Hd+fw5e3+8G3+8G3+++93+n9SBS",
        "encoding": "base64",
        "path": [
         "positions",
         "compressed_buffer"
        ]
       }
      ],
      "model_module": "k3d",
      "model_module_version": "2.7.0",
      "model_name": "ObjectModel",
      "state": {
       "_view_count": null,
       "_view_module": null,
       "_view_module_version": "",
       "_view_name": null,
       "color": 10075135,
       "colors": {
        "compressed_buffer": {},
        "dtype": "uint32",
        "shape": [
         0
        ]
       },
       "compression_level": 0,
       "id": 140693221532304,
       "mesh_detail": 2,
       "model_matrix": {
        "compressed_buffer": {},
        "dtype": "float32",
        "shape": [
         4,
         4
        ]
       },
       "name": null,
       "opacity": 1,
       "point_size": 0.1,
       "positions": {
        "compressed_buffer": {},
        "dtype": "float32",
        "shape": [
         300,
         3
        ]
       },
       "shader": "3dSpecular",
       "type": "Points",
       "visible": true
      }
     },
     "ab3181e3704e4e0384c6813d817b06ee": {
      "model_module": "k3d",
      "model_module_version": "2.7.0",
      "model_name": "PlotModel",
      "state": {
       "_backend_version": "2.7.0",
       "_dom_classes": [],
       "_view_count": null,
       "antialias": 3,
       "axes": [
        "x",
        "y",
        "z"
       ],
       "axes_helper": 1,
       "background_color": 16777215,
       "camera": [
        168.52398197998284,
        -244.36079924273636,
        36.417632010509486,
        -0.24999985471367836,
        -0.24999985471367836,
        -5.125000011175871,
        -0.04607397692311557,
        0.06973936561222795,
        0.996500682154555
       ],
       "camera_auto_fit": true,
       "camera_fov": 60,
       "camera_no_pan": false,
       "camera_no_rotate": false,
       "camera_no_zoom": false,
       "clipping_planes": [],
       "colorbar_object_id": -1,
       "fps_meter": false,
       "grid": [
        -1,
        -1,
        -1,
        1,
        1,
        1
       ],
       "grid_auto_fit": true,
       "grid_visible": true,
       "height": 512,
       "layout": "IPY_MODEL_f4f296dc5a9649808732c4a2befb37e4",
       "lighting": 1.5,
       "menu_visibility": true,
       "name": null,
       "object_ids": [
        140693221855696
       ],
       "rendering_steps": 1,
       "screenshot": "",
       "screenshot_scale": 2,
       "time": 0,
       "voxel_paint_color": 0
      }
     },
     "ac171d5c05e24d61808c3bcd92a36bb6": {
      "model_module": "@jupyter-widgets/base",
      "model_module_version": "1.2.0",
      "model_name": "LayoutModel",
      "state": {}
     },
     "ad61fde98bfc490fb647ab06aad40e6f": {
      "buffers": [
       {
        "data": "eNq7PcOEwcbnOUPCOnUG/iMfGda69DF8/PCGAQB5NApc",
        "encoding": "base64",
        "path": [
         "color_map",
         "compressed_buffer"
        ]
       },
       {
        "data": "eNpjYBBzZsAA2MQ+ODIwLDiAKtZgDwBXFgQD",
        "encoding": "base64",
        "path": [
         "model_matrix",
         "compressed_buffer"
        ]
       },
       {
        "data": "eNrtwTENAAAMA6C0/kVXw649QAIAABwUAHgwgKsaSA==",
        "encoding": "base64",
        "path": [
         "voxels",
         "compressed_buffer"
        ]
       }
      ],
      "model_module": "k3d",
      "model_module_version": "2.7.0",
      "model_name": "ObjectModel",
      "state": {
       "_view_count": null,
       "_view_module": null,
       "_view_module_version": "",
       "_view_name": null,
       "color_map": {
        "compressed_buffer": {},
        "dtype": "uint32",
        "shape": [
         6
        ]
       },
       "compression_level": 0,
       "id": 140693204214736,
       "model_matrix": {
        "compressed_buffer": {},
        "dtype": "float32",
        "shape": [
         4,
         4
        ]
       },
       "name": null,
       "opacity": 1,
       "outlines": false,
       "outlines_color": 0,
       "type": "Voxels",
       "visible": true,
       "voxels": {
        "compressed_buffer": {},
        "dtype": "uint8",
        "shape": [
         5,
         31,
         31
        ]
       },
       "wireframe": false
      }
     },
     "ae6db4b4c62e4a258aff0eee40b1e152": {
      "model_module": "@jupyter-widgets/base",
      "model_module_version": "1.2.0",
      "model_name": "LayoutModel",
      "state": {}
     },
     "af504cc7b67c48cda8c5db1349ac80ff": {
      "buffers": [
       {
        "data": "eNoDAAAAAAE=",
        "encoding": "base64",
        "path": [
         "colors",
         "compressed_buffer"
        ]
       },
       {
        "data": "eNpjYGiwZ8AAxIsBAF7EAv0=",
        "encoding": "base64",
        "path": [
         "model_matrix",
         "compressed_buffer"
        ]
       },
       {
        "data": "eNpN171xGzEUhVFmqOR1gALwUwk6cAfrChy+2KVYLAEVWUtqlyfQ8AZc6TsjDDF8POrX4/ef5+Pxtz0ev/6x22fX/tnl+/X42fvrs5Nd2d+/87Mb7+k8y97sMj47vl8XDYuGRcOiYdGwaFg0LBoWDYuGawd7Pt8/V9ukbdI2aZu0TdombZO2SdukbdI2abv2ZJ+9QXPQHDQHzUFz0Bw0B81Bc9AcNAfNQXPQfO3FPv//BUvBUrAULAVLwVKwFCwFS8FSsBQsBUvBUrAULNc+3M933+W69mQHu7DP12snu7JP170b7+k8y97s03U3sCd7sQ/38910uRJX4kpciStxJa7ElbgSV+JKXIkrcSWuxJW4fvbr869irBgrxoqxYqwYK8aKsWKsGCvGirFirBgrxoqxYqwY62V0P98dl/faiz3ZwS7s03vtZFf2+Xrvxns6z7I3+/TeDezJXuzjs1/eez/ff/v2NrwNb8Pb8Da8DW/D2/A2vA1vw9vwNrwNb8Pb8Da8DW/jPHfOc+c8d85z5zx3znPnPHfOc+c8d85z5zx3znPnPHfOc+c8d85z5zx3znPnPHfOM8bEmBgTY2JMjIkxMSbGxJgYE2NiTIyJMTEmxsSYuDaujWvj2rg2ro1r49q4Nq6Na+PauDaujWvj2rg2ro3rfP6+9wf3/uDeH9z7g3t/cO8P7v3BvT+49wf3/uDeH9z7g3t/cO8P7v3BvT+497EElsASWAJLYAksgSWwBJbAElgCS2AJLIHF5knzpHnSPGmeNE+aJ82T5knzpHnSPGmeNNu2aFu0LdoWbYu2RduibdG2aFu0LdpsOGg4aDhoOGg4aDhoOGg4aDho4He+Pgfv73eD73eD73ev/R8GCB8m",
        "encoding": "base64",
        "path": [
         "positions",
         "compressed_buffer"
        ]
       }
      ],
      "model_module": "k3d",
      "model_module_version": "2.7.0",
      "model_name": "ObjectModel",
      "state": {
       "_view_count": null,
       "_view_module": null,
       "_view_module_version": "",
       "_view_name": null,
       "color": 10075135,
       "colors": {
        "compressed_buffer": {},
        "dtype": "uint32",
        "shape": [
         0
        ]
       },
       "compression_level": 0,
       "id": 140558422093136,
       "mesh_detail": 2,
       "model_matrix": {
        "compressed_buffer": {},
        "dtype": "float32",
        "shape": [
         4,
         4
        ]
       },
       "name": null,
       "opacity": 1,
       "point_size": 0.1,
       "positions": {
        "compressed_buffer": {},
        "dtype": "float32",
        "shape": [
         300,
         3
        ]
       },
       "shader": "3dSpecular",
       "type": "Points",
       "visible": true
      }
     },
     "b0c7707392b84acb9a5a489effe81246": {
      "buffers": [
       {
        "data": "eNot0vlP1gUcwPF3rVar1Wq14vR5Hh4eBOSSQy45fZ7v96spoRIiIqJAHCKH3Pf9cD7fLLMss8yyzLLM0sy01KJIo1BDEQUEfWBrba2ttbbW1sfVD6//4JV2l5X0u62su8fG+nttZN6nkHW/wsYHFLIfVMh5SGXzwyq5j6jkPaqS/5hKweMahU9oFD2pUeyiUeKmsc1do9RDo8xTo9ygUWHUqDRpVJk1qr01aiwatT4adb4a9X4aDf4qDQEqjYEqTUEqzcEqLSEKLaEKrWEKbeEK7RE22iNtdETZ6Iy20hljpStWxC2jO14kJGNPFEnJ9CQn0WNNoteWSK8i1AT6NLE8nr4V8fSvFKvi6E8RTy9lIFWsjmVgjVgbw2CaeCaawXSREcXgepEZiWODyFqCY6PIjsCxSeSE49gstoThyA1DzwtFzxfPLkYvEIWiKAS9WGwNRi8R24LQS0WZKA9Er7gjAH27qBRVi9CrRY0/eq2oE/V+6A2iUTT5ojeLloXoraJNtPugd/yv04LeJbqF3Ru9R/Sa0fvMOPrFgBeOQeEQugnHc2KHicHnxQvG/+wULxoY2CVeEi+L3Qb6XxGvij0L6HtN7BWvG+h9Q+wTbxrouWO/AftbRuxvG+k+YKL7HfGuF10Hveh8z0znIW863rfQ8YGF9sM+YiFtH/rS+pEfrUf8afk4gOajgTR9EkTTp8E0HltMw/FQ6o+HU/9ZBHUnIqn9PIqakzFUfxFL1ak4Kk8lsP10IhVfJlP+lZWyMwqlZ+Xj2RWUnFvJ1q9TKP4mlaKhNRQOpVHwbTr532WQN5xJ7nAWW77PJud8Dpsu5JJ9IZ+sHwrYMFJE5kgJGT+Wsu6nctJHK0kbrWbtxVpWX2wg9VITKZdbWXW5nad+7mL5mB1trA/lygC2KzrLru4g6epOEsd3ET++m6XX9hB7bS/RE/uInNjPkusHCL9+kNAbhwi5cZjgySMETh5l0dQx/KZO4Dt1Ep/p01imz2CePofp5hDGm8MYZs7jOTOCx8wo7rOXcJsdw3V2HNdbE7jcmhTTuNyexfW2U8zj5vwFd+eveDh/w9P5Owvm/sA49yemub8wz/+NZf4f/gXLh0p6",
        "encoding": "base64",
        "path": [
         "color_map",
         "compressed_buffer"
        ]
       },
       {
        "data": "eNpjYBBzZsAA2MQ+ODIwLDiAKtZgDwBXFgQD",
        "encoding": "base64",
        "path": [
         "model_matrix",
         "compressed_buffer"
        ]
       },
       {
        "data": "eNqFl8lPG+cbx+f3D/TeW689RaJSpbRZCjhpSASKoARobAM2i8EL3scezwwzzHjG9tge7wsGs8csYTNKSmiURIL0kIRDpSiHKpdK6aGHXipV6q2/550xYFOivke+7/O+z/L5vmMw7Gw1XWlpbWluxS5aX9zo7Os3GI2Duo6Wr8+LTW09RqsbJwjC77EaejRfNqiX7xomfJO8GA6HQ0HGbzd0Xq9Tr90zeRlBkpMpWImoyOLjvd+cqt/0Wgg+Iqez+UKxWMhnElIwYO29VlOv91pJIZbKFkozs+Xy7Mx0Ph0TSMu9y4r6Zed4QIin89OzcwuLS0uL8+VSIR0XCNPdJiRrDHgwli6U5haXK6tra5WVpbmZQjrGew1toH7dY2eldGFmfqmyvrm9s7O1UVmaL+VTEWai5wsMazH4xUS+NLe0+nD30ZODJ4+rm6tLc9NZWfAZb2BYh5WJZqbLS5XNvYMXL396+eJg72FlcbaQliatnVirzhNM5GfmVzaqB4dv3r57e3x4sLu+PFfKyry7r6l50B9KFWYXK1uPXxz/8uH3D7+8efFos7Iwk0+KeP+VFiMRThXLS2s7T16+/fDn339+ePvyyfYqnJ4KE4aW1lP54Kd3v//9z9+/v/vpYGdtqVwE2djaYgAZDl/dros+lVuu9ONiMj+zUNl89OKNcvfxi8dbKPVUyD/Y3NTn5uVsaW55fffg8Bgyf3N4UN1YmZ/JJ4IeXSvWaZ2EpkHqD0/r3qwslaczUcbagWE3jD5Bzk5D1zarj6Frj3YfQtdK+YToN7QAYz0TTCSVL0HPN7Z2drY316HnMBOJtfcg5toMXh4mNjO3tFJZW1utLC/OwURjQdygUSi8ayJg3oVSeR6Ne2FuFniIC4HxTpXHy/csQAvwoMJSKmRTQIu194TGa73WQFBKZFTUsmk5whOWBhbHcVaMJhCoSVkSGK/p3rU6kq93Gux+JhgCzkV+0jdhuHu5wQdfanoMVo8fXIK7rcaetqbzNvq6pUM3aDQa+vs6b3xxoQtbm8GhV5qwj6zrmlttbTcvNvDV290Dw6NjphFD9+1r58Wv2nUmO06QJBnwOUz69kaHN/eOugIML4ZgBdmA29RXf4VGZ/WzQiQmJxIJOS6JLGHT3zhVb+jtJB+JJ9KZLKxMMh4JUg695qQevYMC74O9i9PT08VCLp2ICpRd16z2o89GCdFkJl8swcQUf2eSUTSyr5DcbiKC0SSYfxbNW/V3Ninx/tF2NE29m40kMkDDItCyvra6gmjJyBHWpbuKYbdNARHeBnBwZWN7t7q7Df4ulxReTLcxrNvBSsncdBlIru4/ffZ0v4r8W8wmIoy9G2s1+ILxTEFx8I+Hr45fH/2IXADhMR4fuH5zJBCSs0Vksv2jn9//+v7nw/1tFJ6RRWJY02YiQ4ksvA5ru09fv//jrz/ev3q6Cw6cziZC5OittrGavF59dvzrX//89evxs+p6TR5ruzV6Fv1KiX59Fm1q0wwTopyBuyvb+4fK3Uf76HEoZuVQYOTm9QEcLAQWQ5kfvT5+dahkPlPIxIM+QyvWbWciCZR6fd3l6VxSYh3dStfQi1oq13VtDnVNVLp2VediI3IGvakrq9DzysoizCSTiLBuPWKufdTPS2hi5drEZtHEokHC1K5QiJ5zNG/FoeXZUlGZN2XrU3ls1tmBh0Q6V1BoQRaVBKDphEYN0BSMxJMqaulEPMKT9gYWbQQrSnGF1FhEYP1WnabeXX0md4ANIsxFngm4RnubG/3Zrjc5fAFwCYHbTbr2r87b6NrtbsOIaWx0eKD79tWLDXyzre2W5vrHDKy9r9Prtd0Xar26IZvD6XI5J0YHus6L3XqrEw9QNCzS57IaGzf0jTn9FDPF88Egz7E04RrvrVO/t3hJhguK6OEKhwSepXDL92eq1UdPBcVwRIrCkiIhgaN91hO91+Kb5IRQJBqLy7DiUSkscJM+S5+ido3jNCeGJXgb0Oc9CV2PhkWO9o4pJRpdFCeEo3E5qbwOmXQqEY+GhSnSqUfBVoJFaiKVyeWL8CTnMqBL6CeEFdIfcNF8SIolUlkVF3gcsimYqshRTh2GjfrgTYrKKYCpvLC8sgwQA0xyNBxk8CGse4LkQhK8SjlkpK2dLWQgeHwgfCpg02qdNB+Oykmw+OLa3rOj53tr8PWFx0sK8ZTjvt5FB0FOZYvl5a3n735792xrGQyWgtN52qmrk1d2jn7757ejnZWyKgdpl16nHg7y7PLWM4h+vrVcJ993UFAXQAxf4bW950fP9tYWwZ5J9XCt1haYEiOxf2UOqXHkRDc2hDNBJXWoexHqXkB1w9lAu28Uw3ROioNwWema+qRmU4kY1EW7BmCcVvQBk5Sew1ewmFd6DjNhCStCSu8kp9SZ1CaWlJHKUS6jQuGYF807WjdvCc0bH1d57FNoCUtRFZZYFNEEtPTWsYZoqqEWFoNTdawhUnGK5QUVVDHIMaS3jlRIf9xF0CyHMOenGMrvHOtr8EGX0erykcgkVAB3WvX/MlrXwOgEspjDNqTrvdCF3Vq9Xndf+zEDFwp5gHX+Qm2mkBJ4juN4Uc4tnhfL2RDPUAFYJMVwodRCg1qKcHSA8Ptg+f0ESXPSbL0aZkhFUxdsYCMzZ9eGmQCoOKyTDQEmXKqps5FT9QJ9QWKRWpNPdoAeKSM5xan3guCFdaqTXBbUxRBNqKrX6/G4PR60Q9HpEKSXOwn2etxOh8PhdHu86hUBvoBhMkPUVJfDZjGbbQ5XTSeYFDYvUmpeXrfDMjKoHxyxONyq7KeEQpEnVdnjtI3c7/i24/6Izenxnpye5wK1sx3mwY6mz5o6Bi2OE5nL5xRZOdus//az/332rd6snO5Dck6JRiV7HJZatBlF+xQ5X+BP5Pq7lWA/yRcLAmSOEj2XOZIpcR5LQd2KjOo2my1q3ehsgpEBsNrpDV2rNT0Hww7R/gt7TtAhxFy21vRzI4PglEKhSsO5ifsDrLRwQlrghLQTGdEwe0Zig66yVMdihCWJelTJMxIVGiWOhg0q6ESA5iKlBh8spEIcQ5HIJhTDh7Ll8zZazMmi4jEhVZi50IXz8KjlC4WPGXhva2N9Y6t6ofbD+nwavmAxOT2/8cN5cf9BLiYyNEVSNCvGc5X9BrVainEUgXvQwgmai5Xqr9jJw9i8yjzRRL3+yVBhp04VSNzttNsn0LLDBpwS8id6tSCQXpfDPmGzomWDDS6cFPLq+fulEIW7HCCChYAmC2xwuLxkqKTkV4lNKqrFPD5mMpnGxs2KjtOxB6jeHOd3Kyr8pBkyDsG/D8DjhMPt53JQ/0ac9jrtNqvZNGzo12l1/YZhE+h2p5eKrUOjRQKCreax4UFtT1dnV492cHjMbJ2wuwnAvJpmcQi2jI8atN/d0TRr7nynNYyOo3CcSe9tybQHgi1jw/09d65e+vzS1Ts9/Uq4w0PLWxsxCslm05CuS3Pp008+vaTp0g2ZFJmKbaxHSVU2ajubP//kf5983typNaoyGV3/j+ja3eZzd1tqd++lmY9mzqarSt32C+p2KHVj6zEKdc3S0DUr6hod3/jPnmMPYrQ6z9OJWZSJTcYqtXkjGtC81YGr86Rq88aqiKVztHhJoVA9Y40C1hw11uzAGnnGGuiF0GQDqXSoTlU5p085p85xDvlVcnGRVVzCiLHcg/1/eWzj1GPrP1zowqri0L36P/0f4bR2fQ==",
        "encoding": "base64",
        "path": [
         "voxels",
         "compressed_buffer"
        ]
       }
      ],
      "model_module": "k3d",
      "model_module_version": "2.7.0",
      "model_name": "ObjectModel",
      "state": {
       "_view_count": null,
       "_view_module": null,
       "_view_module_version": "",
       "_view_name": null,
       "color_map": {
        "compressed_buffer": {},
        "dtype": "uint32",
        "shape": [
         256
        ]
       },
       "compression_level": 0,
       "id": 140693222218768,
       "model_matrix": {
        "compressed_buffer": {},
        "dtype": "float32",
        "shape": [
         4,
         4
        ]
       },
       "name": null,
       "opacity": 1,
       "outlines": false,
       "outlines_color": 0,
       "type": "Voxels",
       "visible": true,
       "voxels": {
        "compressed_buffer": {},
        "dtype": "uint8",
        "shape": [
         5,
         31,
         31
        ]
       },
       "wireframe": false
      }
     },
     "b12f837d7924465d905dc1fad27aab9d": {
      "model_module": "k3d",
      "model_module_version": "2.7.0",
      "model_name": "PlotModel",
      "state": {
       "_backend_version": "2.7.0",
       "_dom_classes": [],
       "_view_count": null,
       "antialias": 3,
       "axes": [
        "x",
        "y",
        "z"
       ],
       "axes_helper": 1,
       "background_color": 16777215,
       "camera": [
        178.37844914807036,
        -268.17251318435166,
        12.562038533530174,
        -0.2419357848984518,
        -0.2419357848984518,
        -5.299999959766865,
        0,
        0,
        1
       ],
       "camera_auto_fit": true,
       "camera_fov": 60,
       "camera_no_pan": false,
       "camera_no_rotate": false,
       "camera_no_zoom": false,
       "clipping_planes": [],
       "colorbar_object_id": -1,
       "fps_meter": false,
       "grid": [
        -1,
        -1,
        -1,
        1,
        1,
        1
       ],
       "grid_auto_fit": true,
       "grid_visible": true,
       "height": 512,
       "layout": "IPY_MODEL_bb13921034d44b6792aa97cc6cd427bc",
       "lighting": 1.5,
       "menu_visibility": true,
       "name": null,
       "object_ids": [
        140558591306192
       ],
       "rendering_steps": 1,
       "screenshot": "",
       "screenshot_scale": 2,
       "time": 0,
       "voxel_paint_color": 0
      }
     },
     "b23415991eb441b3a0950e040e6c6dff": {
      "model_module": "k3d",
      "model_module_version": "2.7.0",
      "model_name": "PlotModel",
      "state": {
       "_backend_version": "2.7.0",
       "_dom_classes": [],
       "_view_count": null,
       "antialias": 3,
       "axes": [
        "x",
        "y",
        "z"
       ],
       "axes_helper": 1,
       "background_color": 16777215,
       "camera": [
        172.2558512053837,
        -258.4553939345404,
        11.625584977487371,
        0,
        -0.07161712646484375,
        -5.6000001430511475,
        0,
        0,
        1
       ],
       "camera_auto_fit": true,
       "camera_fov": 60,
       "camera_no_pan": false,
       "camera_no_rotate": false,
       "camera_no_zoom": false,
       "clipping_planes": [],
       "colorbar_object_id": -1,
       "fps_meter": false,
       "grid": [
        -1,
        -1,
        -1,
        1,
        1,
        1
       ],
       "grid_auto_fit": true,
       "grid_visible": true,
       "height": 512,
       "layout": "IPY_MODEL_010ae87d64b9454bb9d0979765ec9c27",
       "lighting": 1.5,
       "menu_visibility": true,
       "name": null,
       "object_ids": [
        140693201252048,
        140693201337488
       ],
       "rendering_steps": 1,
       "screenshot": "",
       "screenshot_scale": 2,
       "time": 0,
       "voxel_paint_color": 0
      }
     },
     "b364c27d92b342b6892f68e3d536623b": {
      "model_module": "@jupyter-widgets/base",
      "model_module_version": "1.2.0",
      "model_name": "LayoutModel",
      "state": {}
     },
     "ba33f3372d1f4ac8bc1b134b1a55df75": {
      "model_module": "@jupyter-widgets/base",
      "model_module_version": "1.2.0",
      "model_name": "LayoutModel",
      "state": {}
     },
     "bb13921034d44b6792aa97cc6cd427bc": {
      "model_module": "@jupyter-widgets/base",
      "model_module_version": "1.2.0",
      "model_name": "LayoutModel",
      "state": {}
     },
     "bbd681f8b1f448fa86b68f09e532d9d9": {
      "model_module": "@jupyter-widgets/base",
      "model_module_version": "1.2.0",
      "model_name": "LayoutModel",
      "state": {}
     },
     "bd2ea86c5d0040c1b1370c60e793af0e": {
      "model_module": "@jupyter-widgets/output",
      "model_module_version": "1.0.0",
      "model_name": "OutputModel",
      "state": {
       "layout": "IPY_MODEL_e351895181f34065a98f3b7db8a9e8ad",
       "outputs": [
        {
         "data": {
          "application/vnd.jupyter.widget-view+json": {
           "model_id": "98261702bf604edda24ef30b2550db63",
           "version_major": 2,
           "version_minor": 0
          },
          "text/plain": "Plot(antialias=3, axes=['x', 'y', 'z'], axes_helper=1.0, background_color=16777215, camera=[4.5, 4.5, 4.5, 0.0…"
         },
         "metadata": {},
         "output_type": "display_data"
        }
       ]
      }
     },
     "bd8bd8069ec845109d1654c6c9add838": {
      "buffers": [
       {
        "data": "eNoDAAAAAAE=",
        "encoding": "base64",
        "path": [
         "colors",
         "compressed_buffer"
        ]
       },
       {
        "data": "eNpjYGiwZ8AAxIsBAF7EAv0=",
        "encoding": "base64",
        "path": [
         "model_matrix",
         "compressed_buffer"
        ]
       },
       {
        "data": "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",
        "encoding": "base64",
        "path": [
         "positions",
         "compressed_buffer"
        ]
       }
      ],
      "model_module": "k3d",
      "model_module_version": "2.7.0",
      "model_name": "ObjectModel",
      "state": {
       "_view_count": null,
       "_view_module": null,
       "_view_module_version": "",
       "_view_name": null,
       "color": 10075135,
       "colors": {
        "compressed_buffer": {},
        "dtype": "uint32",
        "shape": [
         0
        ]
       },
       "compression_level": 0,
       "id": 140693201337488,
       "mesh_detail": 2,
       "model_matrix": {
        "compressed_buffer": {},
        "dtype": "float32",
        "shape": [
         4,
         4
        ]
       },
       "name": null,
       "opacity": 1,
       "point_size": 0.1,
       "positions": {
        "compressed_buffer": {},
        "dtype": "float32",
        "shape": [
         749,
         3
        ]
       },
       "shader": "3dSpecular",
       "type": "Points",
       "visible": true
      }
     },
     "bf9d43dba0f448c69f61e0732d17d170": {
      "model_module": "@jupyter-widgets/output",
      "model_module_version": "1.0.0",
      "model_name": "OutputModel",
      "state": {
       "layout": "IPY_MODEL_05b4ae5266dc48e682b0e5ee67f91105",
       "outputs": [
        {
         "data": {
          "application/vnd.jupyter.widget-view+json": {
           "model_id": "3bd331b2d0a74031a8b6a8b9b3dcf86c",
           "version_major": 2,
           "version_minor": 0
          },
          "text/plain": "Plot(antialias=3, axes=['x', 'y', 'z'], axes_helper=1.0, background_color=16777215, camera=[4.5, 4.5, 4.5, 0.0…"
         },
         "metadata": {},
         "output_type": "display_data"
        }
       ]
      }
     },
     "c019ee1ba63f4cbd8b1a7dcaff9e64bf": {
      "model_module": "@jupyter-widgets/output",
      "model_module_version": "1.0.0",
      "model_name": "OutputModel",
      "state": {
       "layout": "IPY_MODEL_7173565016d14a41a2897bf6addfb754",
       "outputs": [
        {
         "data": {
          "application/vnd.jupyter.widget-view+json": {
           "model_id": "0372917703144fe1923dd1138cefb6d0",
           "version_major": 2,
           "version_minor": 0
          },
          "text/plain": "Plot(antialias=3, axes=['x', 'y', 'z'], axes_helper=1.0, background_color=16777215, camera=[4.5, 4.5, 4.5, 0.0…"
         },
         "metadata": {},
         "output_type": "display_data"
        }
       ]
      }
     },
     "c139db0cfa30430d977922a43c3d60ee": {
      "model_module": "k3d",
      "model_module_version": "2.7.0",
      "model_name": "PlotModel",
      "state": {
       "_backend_version": "2.7.0",
       "_dom_classes": [],
       "_view_count": null,
       "antialias": 3,
       "axes": [
        "x",
        "y",
        "z"
       ],
       "axes_helper": 1,
       "background_color": 16777215,
       "camera": [
        127.22344070228796,
        -190.7876535289416,
        7.715621238502832,
        0.031036376953125,
        0.0009529590606689453,
        -5.003619194030762,
        0,
        0,
        1
       ],
       "camera_auto_fit": true,
       "camera_fov": 60,
       "camera_no_pan": false,
       "camera_no_rotate": false,
       "camera_no_zoom": false,
       "clipping_planes": [],
       "colorbar_object_id": -1,
       "fps_meter": false,
       "grid": [
        -1,
        -1,
        -1,
        1,
        1,
        1
       ],
       "grid_auto_fit": true,
       "grid_visible": true,
       "height": 512,
       "layout": "IPY_MODEL_a876e48ab95840a180fe2d9be4f94c1f",
       "lighting": 1.5,
       "menu_visibility": true,
       "name": null,
       "object_ids": [
        140558996925328,
        140558411914256
       ],
       "rendering_steps": 1,
       "screenshot": "",
       "screenshot_scale": 2,
       "time": 0,
       "voxel_paint_color": 0
      }
     },
     "c5fcd91471b04dffb79493214ca264e1": {
      "model_module": "@jupyter-widgets/base",
      "model_module_version": "1.2.0",
      "model_name": "LayoutModel",
      "state": {}
     },
     "c6fb5ad70ab249628dd8db7cc842ccec": {
      "model_module": "@jupyter-widgets/base",
      "model_module_version": "1.2.0",
      "model_name": "LayoutModel",
      "state": {}
     },
     "c740fa7bdc244205952f8285dba194e4": {
      "model_module": "@jupyter-widgets/output",
      "model_module_version": "1.0.0",
      "model_name": "OutputModel",
      "state": {
       "layout": "IPY_MODEL_9619d1bda53c4a6db38761ba3dd36ff2",
       "outputs": [
        {
         "data": {
          "application/vnd.jupyter.widget-view+json": {
           "model_id": "6dc016f4e45c45748414d6f47c66cb9a",
           "version_major": 2,
           "version_minor": 0
          },
          "text/plain": "Plot(antialias=3, axes=['x', 'y', 'z'], axes_helper=1.0, background_color=16777215, camera=[4.5, 4.5, 4.5, 0.0…"
         },
         "metadata": {},
         "output_type": "display_data"
        }
       ]
      }
     },
     "c7d1c63e1d744c6c8ea25498ec4cbc1a": {
      "model_module": "@jupyter-widgets/output",
      "model_module_version": "1.0.0",
      "model_name": "OutputModel",
      "state": {
       "layout": "IPY_MODEL_876f709970c1416884eedb2edda2d7e4",
       "outputs": [
        {
         "data": {
          "application/vnd.jupyter.widget-view+json": {
           "model_id": "79a1303b6e1f4ca7af2127a2a6cb6287",
           "version_major": 2,
           "version_minor": 0
          },
          "text/plain": "Plot(antialias=3, axes=['x', 'y', 'z'], axes_helper=1.0, background_color=16777215, camera=[4.5, 4.5, 4.5, 0.0…"
         },
         "metadata": {},
         "output_type": "display_data"
        }
       ]
      }
     },
     "c7dda56965854bddb9a8ef77df547947": {
      "model_module": "@jupyter-widgets/output",
      "model_module_version": "1.0.0",
      "model_name": "OutputModel",
      "state": {
       "layout": "IPY_MODEL_72a4808a648a49d0bb5c96aef3b00fcd",
       "outputs": [
        {
         "data": {
          "application/vnd.jupyter.widget-view+json": {
           "model_id": "1a021d4f53984b95af45aab79f2d7098",
           "version_major": 2,
           "version_minor": 0
          },
          "text/plain": "Plot(antialias=3, axes=['x', 'y', 'z'], axes_helper=1.0, background_color=16777215, camera=[4.5, 4.5, 4.5, 0.0…"
         },
         "metadata": {},
         "output_type": "display_data"
        }
       ]
      }
     },
     "c806bea3b7bf4a9784e4c24a3b37fe39": {
      "model_module": "@jupyter-widgets/base",
      "model_module_version": "1.2.0",
      "model_name": "LayoutModel",
      "state": {}
     },
     "c8cad4c69a1d48359d3676e17e5ec511": {
      "model_module": "@jupyter-widgets/base",
      "model_module_version": "1.2.0",
      "model_name": "LayoutModel",
      "state": {}
     },
     "ccf515f406824c3397b6adeba6a3e494": {
      "model_module": "@jupyter-widgets/output",
      "model_module_version": "1.0.0",
      "model_name": "OutputModel",
      "state": {
       "layout": "IPY_MODEL_0bd350b9c6ac486fb40b0b2264245c65",
       "outputs": [
        {
         "data": {
          "application/vnd.jupyter.widget-view+json": {
           "model_id": "b23415991eb441b3a0950e040e6c6dff",
           "version_major": 2,
           "version_minor": 0
          },
          "text/plain": "Plot(antialias=3, axes=['x', 'y', 'z'], axes_helper=1.0, background_color=16777215, camera=[4.5, 4.5, 4.5, 0.0…"
         },
         "metadata": {},
         "output_type": "display_data"
        }
       ]
      }
     },
     "d012e252c13044018ac83520666ee8c5": {
      "buffers": [
       {
        "data": "eNq7PcOEwcbnOUPCOnUG/iMfGda69DF8/PCGAQB5NApc",
        "encoding": "base64",
        "path": [
         "color_map",
         "compressed_buffer"
        ]
       },
       {
        "data": "eNpjYBBzZsAA2MQ+ODIwLDiAKtZgDwBXFgQD",
        "encoding": "base64",
        "path": [
         "model_matrix",
         "compressed_buffer"
        ]
       },
       {
        "data": "eNrtwTERAAAIAKF7+4e2gasLUJcJAAAAAN4tXusSxw==",
        "encoding": "base64",
        "path": [
         "voxels",
         "compressed_buffer"
        ]
       }
      ],
      "model_module": "k3d",
      "model_module_version": "2.7.0",
      "model_name": "ObjectModel",
      "state": {
       "_view_count": null,
       "_view_module": null,
       "_view_module_version": "",
       "_view_name": null,
       "color_map": {
        "compressed_buffer": {},
        "dtype": "uint32",
        "shape": [
         6
        ]
       },
       "compression_level": 0,
       "id": 140036057395856,
       "model_matrix": {
        "compressed_buffer": {},
        "dtype": "float32",
        "shape": [
         4,
         4
        ]
       },
       "name": null,
       "opacity": 1,
       "outlines": false,
       "outlines_color": 0,
       "type": "Voxels",
       "visible": true,
       "voxels": {
        "compressed_buffer": {},
        "dtype": "uint8",
        "shape": [
         5,
         31,
         31
        ]
       },
       "wireframe": false
      }
     },
     "d0248b9b0b464182b720146d02fd68fb": {
      "buffers": [
       {
        "data": "eNoDAAAAAAE=",
        "encoding": "base64",
        "path": [
         "colors",
         "compressed_buffer"
        ]
       },
       {
        "data": "eNpjYGiwZ8AAxIsBAF7EAv0=",
        "encoding": "base64",
        "path": [
         "model_matrix",
         "compressed_buffer"
        ]
       },
       {
        "data": "eNpN0CFywzAQheEw41LfIKSzpSXWLgzuDUp6hxCzFoSEegp8imKphyiNWHyMjj2x3m/0RvO8K32n4/X3sH1f5Xb+bPn+fW75KT5afr2/tfx+8ZYvL88t//z1mNlhzlL0bynqTwW7cN6zk/d8aN92ntB3zHF0HHvRWRz3DMwJvCvw3oBDYFfALeDZ8ul4ZX6YGMwN5gZzg7nB3GBuMDeYG8wN5gZzg7nB3GBuMDeYG8wN5gZzg7nB3GBuMDeYG8wN5gZzg7nB3GBuMJ+zzOcs8znLfM4yn7PM5yzzOct8ndlhzm6+/luK+lPBLpz37OQ9y3w7T+g75jg6jr3oLI57BuYE3hV4b8AhsCvgFvBsWeZbfpiMg8zHQebjIPNxkPk4yHwcZD4OMl9ndpizm6//lqL+VLAL5z07ec8y384T+o45jo5jLzqL456BOYF3Bd4bcAjsCrgFPFuW+ZYfJjXJvCaZ1yTzmmRek8xrknlNMl9ndpizm6//lqL+VLAL5z07ec8y384T+o45jo5jLzqL456BOYF3Bd4bcAjsCrgFPFuWeU3/8njPnw==",
        "encoding": "base64",
        "path": [
         "positions",
         "compressed_buffer"
        ]
       }
      ],
      "model_module": "k3d",
      "model_module_version": "2.7.0",
      "model_name": "ObjectModel",
      "state": {
       "_view_count": null,
       "_view_module": null,
       "_view_module_version": "",
       "_view_name": null,
       "color": 10075135,
       "colors": {
        "compressed_buffer": {},
        "dtype": "uint32",
        "shape": [
         0
        ]
       },
       "compression_level": 0,
       "id": 140035887889296,
       "mesh_detail": 2,
       "model_matrix": {
        "compressed_buffer": {},
        "dtype": "float32",
        "shape": [
         4,
         4
        ]
       },
       "name": null,
       "opacity": 1,
       "point_size": 0.1,
       "positions": {
        "compressed_buffer": {},
        "dtype": "float32",
        "shape": [
         155,
         3
        ]
       },
       "shader": "3dSpecular",
       "type": "Points",
       "visible": true
      }
     },
     "d06135d7e555419b899a9b4f4fef8e47": {
      "buffers": [
       {
        "data": "eNoDAAAAAAE=",
        "encoding": "base64",
        "path": [
         "colors",
         "compressed_buffer"
        ]
       },
       {
        "data": "eNpjYGiwZ8AAxIsBAF7EAv0=",
        "encoding": "base64",
        "path": [
         "model_matrix",
         "compressed_buffer"
        ]
       },
       {
        "data": "eNpN171xGzEUhVFmqOR1gALwUwk6cAfrChy+2KVYLAEVWUtqlyfQ8AZc6TsjDDF8POrX4/ef5+Pxtz0ev/6x22fX/tnl+/X42fvrs5Nd2d+/87Mb7+k8y97sMj47vl8XDYuGRcOiYdGwaFg0LBoWDYuGawd7Pt8/V9ukbdI2aZu0TdombZO2SdukbdI2abv2ZJ+9QXPQHDQHzUFz0Bw0B81Bc9AcNAfNQXPQfO3FPv//BUvBUrAULAVLwVKwFCwFS8FSsBQsBUvBUrAULNc+3M933+W69mQHu7DP12snu7JP170b7+k8y97s03U3sCd7sQ/38910uRJX4kpciStxJa7ElbgSV+JKXIkrcSWuxJW4fvbr869irBgrxoqxYqwYK8aKsWKsGCvGirFirBgrxoqxYqwY62V0P98dl/faiz3ZwS7s03vtZFf2+Xrvxns6z7I3+/TeDezJXuzjs1/eez/ff/v2NrwNb8Pb8Da8DW/D2/A2vA1vw9vwNrwNb8Pb8Da8DW/jPHfOc+c8d85z5zx3znPnPHfOc+c8d85z5zx3znPnPHfOc+c8d85z5zx3znPnPHfOM8bEmBgTY2JMjIkxMSbGxJgYE2NiTIyJMTEmxsSYuDaujWvj2rg2ro1r49q4Nq6Na+PauDaujWvj2rg2ro3rfP6+9wf3/uDeH9z7g3t/cO8P7v3BvT+49wf3/uDeH9z7g3t/cO8P7v3BvT+497EElsASWAJLYAksgSWwBJbAElgCS2AJLIHF5knzpHnSPGmeNE+aJ82T5knzpHnSPGmeNNu2aFu0LdoWbYu2RduibdG2aFu0LdpsOGg4aDhoOGg4aDhoOGg4aDho4He+Pgfv73eD73eD73ev/R8GCB8m",
        "encoding": "base64",
        "path": [
         "positions",
         "compressed_buffer"
        ]
       }
      ],
      "model_module": "k3d",
      "model_module_version": "2.7.0",
      "model_name": "ObjectModel",
      "state": {
       "_view_count": null,
       "_view_module": null,
       "_view_module_version": "",
       "_view_name": null,
       "color": 10075135,
       "colors": {
        "compressed_buffer": {},
        "dtype": "uint32",
        "shape": [
         0
        ]
       },
       "compression_level": 0,
       "id": 140035898045648,
       "mesh_detail": 2,
       "model_matrix": {
        "compressed_buffer": {},
        "dtype": "float32",
        "shape": [
         4,
         4
        ]
       },
       "name": null,
       "opacity": 1,
       "point_size": 0.1,
       "positions": {
        "compressed_buffer": {},
        "dtype": "float32",
        "shape": [
         300,
         3
        ]
       },
       "shader": "3dSpecular",
       "type": "Points",
       "visible": true
      }
     },
     "d19adff37eb6418f971c820c9f45062a": {
      "model_module": "@jupyter-widgets/output",
      "model_module_version": "1.0.0",
      "model_name": "OutputModel",
      "state": {
       "layout": "IPY_MODEL_f49370a05fd4400892dbe309e116b034",
       "outputs": [
        {
         "data": {
          "application/vnd.jupyter.widget-view+json": {
           "model_id": "52d030bfd7eb4dba9a7b10880efd3871",
           "version_major": 2,
           "version_minor": 0
          },
          "text/plain": "Plot(antialias=3, axes=['x', 'y', 'z'], axes_helper=1.0, background_color=16777215, camera=[4.5, 4.5, 4.5, 0.0…"
         },
         "metadata": {},
         "output_type": "display_data"
        }
       ]
      }
     },
     "d77452cf7e1f4a4f972ed637b73a0771": {
      "model_module": "@jupyter-widgets/base",
      "model_module_version": "1.2.0",
      "model_name": "LayoutModel",
      "state": {}
     },
     "db6f39975a2c49a7bdc7f6ccd8fa1d79": {
      "buffers": [
       {
        "data": "eNqllj1PVFEQhrEgFjbS0sAusihggEpigSYiGkNJwxY0kBh0GzSSEIgR0ey6HxeCHwk0SkNnYUEHDX+CktJfYYKZeZ9J7rkhFBRPsTf3njMz78w7W70501X9z+LtZ8ZSj7Nwa8ao9T43vryYMtrzk0b2csJ5Ne68HnOWx4129YHRnJ0yOGfuxrTBebyfrdx31u4562LjrsPvlVFH33HOfPdTY+vhtBFxvhtxPlac+h2j0y47WSlPp2xkjQHn06CzOmyQF/dwL8+z2pjzYcjoNAccnd/e7Xe+im99jn53tktOq2xkmxVH55IXdUz1IU6+I5/W9z6juec0fooDpy4av5zmvtP64URdlBd15V7iQO/QVfUjH87j3s+HJeP9n1Fj/WgiB895j+/Ih/qGvklfhC70jXSlzuTJ+Zu/h4y3x4+M2ulsjjcnjw3e4zvqis70GX2NbsxV1Ed9TX3pA3Qgf+59crZjVM5PcvCcuPkOnek7+j7mTHNclQ8w/zHPmr/oX/Ur/YJO1Id4Bv/+y8Fz3uM79Iz+p37Mu/wFf4LwHepHfNRP5143PvIk74gPX1KdqBt1DH9Unak7OqALOqHbVfrSB6Gv+iTqx5xSP/UZfRe+iN/ih8qLPk7ngXvTeSDuwjxorpiz8FPNIXNZ2AOaY+aaOb+2X+Bj+Cq+rnvTPRVxsT/wc/xU55EnOoSPgnSmruFb6IS/y7dTP8XnQzf2C/6ufKjzZXsl5p89h2/i5+wX6VLYp/go+4X64afKp7BP8Rv8EJ9WXckr3afF/wfy78v+F+Bn9HWyB9J9id6RF/fge/iL5pg4U32YK+Yff8IHLgCyKdEP",
        "encoding": "base64",
        "path": [
         "colors",
         "compressed_buffer"
        ]
       },
       {
        "data": "eNpjYGiwZ8AAxIsBAF7EAv0=",
        "encoding": "base64",
        "path": [
         "model_matrix",
         "compressed_buffer"
        ]
       },
       {
        "data": "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",
        "encoding": "base64",
        "path": [
         "origins",
         "compressed_buffer"
        ]
       },
       {
        "data": "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",
        "encoding": "base64",
        "path": [
         "vectors",
         "compressed_buffer"
        ]
       }
      ],
      "model_module": "k3d",
      "model_module_version": "2.7.0",
      "model_name": "ObjectModel",
      "state": {
       "_view_count": null,
       "_view_module": null,
       "_view_module_version": "",
       "_view_name": null,
       "colors": {
        "compressed_buffer": {},
        "dtype": "uint32",
        "shape": [
         300,
         2
        ]
       },
       "compression_level": 0,
       "head_color": 255,
       "head_size": 30,
       "id": 140035887830800,
       "label_size": 1,
       "labels": [],
       "line_width": 0.01,
       "model_matrix": {
        "compressed_buffer": {},
        "dtype": "float32",
        "shape": [
         4,
         4
        ]
       },
       "name": null,
       "origin_color": 255,
       "origins": {
        "compressed_buffer": {},
        "dtype": "float32",
        "shape": [
         300,
         3
        ]
       },
       "type": "Vectors",
       "use_head": true,
       "vectors": {
        "compressed_buffer": {},
        "dtype": "float32",
        "shape": [
         300,
         3
        ]
       },
       "visible": true
      }
     },
     "e351895181f34065a98f3b7db8a9e8ad": {
      "model_module": "@jupyter-widgets/base",
      "model_module_version": "1.2.0",
      "model_name": "LayoutModel",
      "state": {}
     },
     "e47117cd7ad34e54996a3b99c1e070e2": {
      "buffers": [
       {
        "data": "eNrNlrlKA2EQgPUtFEliSCIogni0dpJKUllrIVbaWRmFoEFzacBCC1E8EEFRsNA8gJbBxsLekGDtAwjK7Hw/7MjGW1J8zfDPsXNuqPHcFnqjo14TOusNIaTy0OOdMFmdEWZvU8JCZURYvB70gZx36HXV7oXE04swVZ0W0pUhIXPZJ2TP4h6nMT8q5x1+sI/d5ENJmLsZF1bOE8LacbeQO4oI+YPm8A695YseAbv4wS/ypasBYfUkKuQPIx77HoW9cFNcDKqHHeziB7/klTwQp/Ov9gq7YaG4ExFK28qWQeW8Qw872CWv1NH2CfUhf3wP9vC3vhkVyrm4RzbhR+W8Q8/FpXbxQz/ZfqVvbP35TuxvFGNCOd3rMd/vR+W8Qw871Bk/+CUO5or80NeuTtoH1MHlRf0WU6NCZjjpA7mLW/WwY/sLv8RBXMw/88z8vYtP6+DqpPkhnon2MR/IXR5Vz9XTxqd+iYP9BK0Wn92brVrfwHnQvv31eTD71M4Dc8rc/ve+sHeEPcZeY8/99T5lbwfdyw/vi+mvwPuidf7sfbH3lDh/ek/Ja9A9tXfkq/8H9BN1DLqX3/2foU/s3mQ/IX8FefcvTg==",
        "encoding": "base64",
        "path": [
         "colors",
         "compressed_buffer"
        ]
       },
       {
        "data": "eNpjYGiwZ8AAxIsBAF7EAv0=",
        "encoding": "base64",
        "path": [
         "model_matrix",
         "compressed_buffer"
        ]
       },
       {
        "data": "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",
        "encoding": "base64",
        "path": [
         "origins",
         "compressed_buffer"
        ]
       },
       {
        "data": "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",
        "encoding": "base64",
        "path": [
         "vectors",
         "compressed_buffer"
        ]
       }
      ],
      "model_module": "k3d",
      "model_module_version": "2.7.0",
      "model_name": "ObjectModel",
      "state": {
       "_view_count": null,
       "_view_module": null,
       "_view_module_version": "",
       "_view_name": null,
       "colors": {
        "compressed_buffer": {},
        "dtype": "uint32",
        "shape": [
         300,
         2
        ]
       },
       "compression_level": 0,
       "head_color": 255,
       "head_size": 30,
       "id": 140035934874512,
       "label_size": 1,
       "labels": [],
       "line_width": 0.01,
       "model_matrix": {
        "compressed_buffer": {},
        "dtype": "float32",
        "shape": [
         4,
         4
        ]
       },
       "name": null,
       "origin_color": 255,
       "origins": {
        "compressed_buffer": {},
        "dtype": "float32",
        "shape": [
         300,
         3
        ]
       },
       "type": "Vectors",
       "use_head": true,
       "vectors": {
        "compressed_buffer": {},
        "dtype": "float32",
        "shape": [
         300,
         3
        ]
       },
       "visible": true
      }
     },
     "e4d61c988e194c288d88bdec642e43f5": {
      "model_module": "@jupyter-widgets/output",
      "model_module_version": "1.0.0",
      "model_name": "OutputModel",
      "state": {
       "layout": "IPY_MODEL_0636cfa38d214414baae90fbaa3ffd89",
       "outputs": [
        {
         "data": {
          "application/vnd.jupyter.widget-view+json": {
           "model_id": "b12f837d7924465d905dc1fad27aab9d",
           "version_major": 2,
           "version_minor": 0
          },
          "text/plain": "Plot(antialias=3, axes=['x', 'y', 'z'], axes_helper=1.0, background_color=16777215, camera=[4.5, 4.5, 4.5, 0.0…"
         },
         "metadata": {},
         "output_type": "display_data"
        }
       ]
      }
     },
     "e5bdf4db14114abeb1f155ace78ac07e": {
      "model_module": "@jupyter-widgets/base",
      "model_module_version": "1.2.0",
      "model_name": "LayoutModel",
      "state": {}
     },
     "e95a9d06c5a1482c879034555ab832d4": {
      "model_module": "@jupyter-widgets/base",
      "model_module_version": "1.2.0",
      "model_name": "LayoutModel",
      "state": {}
     },
     "ed85b12bed634eae955c4771bdbfd60b": {
      "buffers": [
       {
        "data": "eNoDAAAAAAE=",
        "encoding": "base64",
        "path": [
         "colors",
         "compressed_buffer"
        ]
       },
       {
        "data": "eNpjYGiwZ8AAxIsBAF7EAv0=",
        "encoding": "base64",
        "path": [
         "model_matrix",
         "compressed_buffer"
        ]
       },
       {
        "data": "eNpN171xGzEUhVFmaMPJ6wAF4KcSdOAO1hU4fPWYLAEVWRS1uyfQ8AZc6TsjDDF8POrz8efv6/H49Xw8fv9jt3vXfu/y9Xr87P28d7Ir++t33rvxns6z7M0u497x9bpoWDQsGhYNi4ZFw6Jh0bBoWDScO9jz9fk52yZtk7ZJ26Rt0jZpm7RN2iZtk7ZJ27kn+90bNAfNQXPQHDQHzUFz0Bw0B81Bc9AcNAfN517s9/+/YClYCpaCpWApWAqWgqVgKVgKloKlYClYCpaC5dyH+/XpO13nnuxgF/Z+3jvZlf12Xbvxns6z7M1+u64G9mQv9uF+fZpOV+JKXIkrcSWuxJW4ElfiSlyJK3ElrsSVuBLXz/7+/KsYK8aKsWKsGCvGirFirBgrxoqxYqwYK8aKsWKsGCvGehrdr0/H6T33Yk92sAt7P++d7Mp+v1678Z7Os+zNfnuvBvZkL/Zx72/vtV+fv315G96Gt+FteBvehrfhbXgb3oa34W14G96Gt+FteBvehrdxnjvnuXOeO+e5c54757lznjvnuXOeO+e5c54757lznjvnuXOeO+e5c54757lznjvnGWNiTIyJMTEmxsSYGBNjYkyMiTExJsbEmBgTY2JMXBvXxrVxbVwb18a1cW1cG9fGtXFtXBvXxrVxbVwb18b1fv669wf3/uDeH9z7g3t/cO8P7v3BvT+49wf3/uDeH9z7g3t/cO8P7v3BvT+497EElsASWAJLYAksgSWwBJbAElgCS2AJLIHF5knzpHnSPGmeNE+aJ82T5knzpHnSPGmeNNu2aFu0LdoWbYu2RduibdG2aFu0LdpsOGg4aDhoOGg4aDhoOGg4aDho4Hd+fw5e3+8G3+8G3+++93+n9SBS",
        "encoding": "base64",
        "path": [
         "positions",
         "compressed_buffer"
        ]
       }
      ],
      "model_module": "k3d",
      "model_module_version": "2.7.0",
      "model_name": "ObjectModel",
      "state": {
       "_view_count": null,
       "_view_module": null,
       "_view_module_version": "",
       "_view_name": null,
       "color": 10075135,
       "colors": {
        "compressed_buffer": {},
        "dtype": "uint32",
        "shape": [
         0
        ]
       },
       "compression_level": 0,
       "id": 140558421662928,
       "mesh_detail": 2,
       "model_matrix": {
        "compressed_buffer": {},
        "dtype": "float32",
        "shape": [
         4,
         4
        ]
       },
       "name": null,
       "opacity": 1,
       "point_size": 0.1,
       "positions": {
        "compressed_buffer": {},
        "dtype": "float32",
        "shape": [
         300,
         3
        ]
       },
       "shader": "3dSpecular",
       "type": "Points",
       "visible": true
      }
     },
     "ee70e7f87d1b453f8763e6abfc8bb62b": {
      "model_module": "k3d",
      "model_module_version": "2.7.0",
      "model_name": "PlotModel",
      "state": {
       "_backend_version": "2.7.0",
       "_dom_classes": [],
       "_view_count": null,
       "antialias": 3,
       "axes": [
        "x",
        "y",
        "z"
       ],
       "axes_helper": 1,
       "background_color": 16777215,
       "camera": [
        98.39890913619084,
        -147.9612673816339,
        4.56408453234215,
        -0.2419357848984518,
        0,
        -5.299999959766865,
        0,
        0,
        1
       ],
       "camera_auto_fit": true,
       "camera_fov": 60,
       "camera_no_pan": false,
       "camera_no_rotate": false,
       "camera_no_zoom": false,
       "clipping_planes": [],
       "colorbar_object_id": -1,
       "fps_meter": false,
       "grid": [
        -1,
        -1,
        -1,
        1,
        1,
        1
       ],
       "grid_auto_fit": true,
       "grid_visible": true,
       "height": 512,
       "layout": "IPY_MODEL_c6fb5ad70ab249628dd8db7cc842ccec",
       "lighting": 1.5,
       "menu_visibility": true,
       "name": null,
       "object_ids": [
        140035897071312
       ],
       "rendering_steps": 1,
       "screenshot": "",
       "screenshot_scale": 2,
       "time": 0,
       "voxel_paint_color": 0
      }
     },
     "ee7c06116df0415ca4dfe5101f436629": {
      "model_module": "@jupyter-widgets/output",
      "model_module_version": "1.0.0",
      "model_name": "OutputModel",
      "state": {
       "layout": "IPY_MODEL_6888807ffac54a78bed7d66b66592277",
       "outputs": [
        {
         "data": {
          "application/vnd.jupyter.widget-view+json": {
           "model_id": "716ac18783874c9e9ac38a3948b65032",
           "version_major": 2,
           "version_minor": 0
          },
          "text/plain": "Plot(antialias=3, axes=['x', 'y', 'z'], axes_helper=1.0, background_color=16777215, camera=[4.5, 4.5, 4.5, 0.0…"
         },
         "metadata": {},
         "output_type": "display_data"
        }
       ]
      }
     },
     "f1a9ca78a18449419790aa0493c0b8a6": {
      "model_module": "k3d",
      "model_module_version": "2.7.0",
      "model_name": "PlotModel",
      "state": {
       "_backend_version": "2.7.0",
       "_dom_classes": [],
       "_view_count": null,
       "antialias": 3,
       "axes": [
        "x",
        "y",
        "z"
       ],
       "axes_helper": 1,
       "background_color": 16777215,
       "camera": [
        127.42568265905507,
        -191.5014276659303,
        7.4667618846286,
        -0.2419357848984518,
        0,
        -5.299999959766865,
        0,
        0,
        1
       ],
       "camera_auto_fit": true,
       "camera_fov": 60,
       "camera_no_pan": false,
       "camera_no_rotate": false,
       "camera_no_zoom": false,
       "clipping_planes": [],
       "colorbar_object_id": -1,
       "fps_meter": false,
       "grid": [
        -1,
        -1,
        -1,
        1,
        1,
        1
       ],
       "grid_auto_fit": true,
       "grid_visible": true,
       "height": 512,
       "layout": "IPY_MODEL_7ec76c08595449d89fa51e32c01a34c6",
       "lighting": 1.5,
       "menu_visibility": true,
       "name": null,
       "object_ids": [
        140558421207632
       ],
       "rendering_steps": 1,
       "screenshot": "",
       "screenshot_scale": 2,
       "time": 0,
       "voxel_paint_color": 0
      }
     },
     "f268d844957c4e328f34ca7be27ba9fe": {
      "model_module": "k3d",
      "model_module_version": "2.7.0",
      "model_name": "PlotModel",
      "state": {
       "_backend_version": "2.7.0",
       "_dom_classes": [],
       "_view_count": null,
       "antialias": 3,
       "axes": [
        "x",
        "y",
        "z"
       ],
       "axes_helper": 1,
       "background_color": 16777215,
       "camera": [
        178.37844914807036,
        -268.17251318435166,
        12.562038533530174,
        -0.2419357848984518,
        -0.2419357848984518,
        -5.299999959766865,
        0,
        0,
        1
       ],
       "camera_auto_fit": true,
       "camera_fov": 60,
       "camera_no_pan": false,
       "camera_no_rotate": false,
       "camera_no_zoom": false,
       "clipping_planes": [],
       "colorbar_object_id": -1,
       "fps_meter": false,
       "grid": [
        -1,
        -1,
        -1,
        1,
        1,
        1
       ],
       "grid_auto_fit": true,
       "grid_visible": true,
       "height": 512,
       "layout": "IPY_MODEL_594309f211f84409ae599af2cee0e031",
       "lighting": 1.5,
       "menu_visibility": true,
       "name": null,
       "object_ids": [
        140693204214736
       ],
       "rendering_steps": 1,
       "screenshot": "",
       "screenshot_scale": 2,
       "time": 0,
       "voxel_paint_color": 0
      }
     },
     "f49370a05fd4400892dbe309e116b034": {
      "model_module": "@jupyter-widgets/base",
      "model_module_version": "1.2.0",
      "model_name": "LayoutModel",
      "state": {}
     },
     "f4f296dc5a9649808732c4a2befb37e4": {
      "model_module": "@jupyter-widgets/base",
      "model_module_version": "1.2.0",
      "model_name": "LayoutModel",
      "state": {}
     },
     "f53e891cd15047ea931495803921a682": {
      "model_module": "@jupyter-widgets/base",
      "model_module_version": "1.2.0",
      "model_name": "LayoutModel",
      "state": {}
     },
     "f57028f8490a4c6fac68c10378bc63c6": {
      "buffers": [
       {
        "data": "eNoDAAAAAAE=",
        "encoding": "base64",
        "path": [
         "colors",
         "compressed_buffer"
        ]
       },
       {
        "data": "eNpjYGiwZ8AAxIsBAF7EAv0=",
        "encoding": "base64",
        "path": [
         "model_matrix",
         "compressed_buffer"
        ]
       },
       {
        "data": "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",
        "encoding": "base64",
        "path": [
         "origins",
         "compressed_buffer"
        ]
       },
       {
        "data": "eNrtxjERAAAIBKCPZk1N62ALDyaSM90Vd3d3d3d3d3d3d3d3d3d3d/dHXyHp/Wg=",
        "encoding": "base64",
        "path": [
         "vectors",
         "compressed_buffer"
        ]
       }
      ],
      "model_module": "k3d",
      "model_module_version": "2.7.0",
      "model_name": "ObjectModel",
      "state": {
       "_view_count": null,
       "_view_module": null,
       "_view_module_version": "",
       "_view_name": null,
       "colors": {
        "compressed_buffer": {},
        "dtype": "uint32",
        "shape": [
         0
        ]
       },
       "compression_level": 0,
       "head_color": 255,
       "head_size": 30,
       "id": 140693201252048,
       "label_size": 1,
       "labels": [],
       "line_width": 0.01,
       "model_matrix": {
        "compressed_buffer": {},
        "dtype": "float32",
        "shape": [
         4,
         4
        ]
       },
       "name": null,
       "origin_color": 255,
       "origins": {
        "compressed_buffer": {},
        "dtype": "float32",
        "shape": [
         749,
         3
        ]
       },
       "type": "Vectors",
       "use_head": true,
       "vectors": {
        "compressed_buffer": {},
        "dtype": "float32",
        "shape": [
         749,
         3
        ]
       },
       "visible": true
      }
     },
     "f8391172945243758aedae901e40a49d": {
      "buffers": [
       {
        "data": "eNoDAAAAAAE=",
        "encoding": "base64",
        "path": [
         "colors",
         "compressed_buffer"
        ]
       },
       {
        "data": "eNpjYGiwZ8AAxIsBAF7EAv0=",
        "encoding": "base64",
        "path": [
         "model_matrix",
         "compressed_buffer"
        ]
       },
       {
        "data": "eNpN171xGzEUhVFmaMPJ6wAF4KcSdOAO1hU4fPWYLAEVWRS1uyfQ8AZc6TsjDDF8POrz8efv6/H49Xw8fv9jt3vXfu/y9Xr87P28d7Ir++t33rvxns6z7M0u497x9bpoWDQsGhYNi4ZFw6Jh0bBoWDScO9jz9fk52yZtk7ZJ26Rt0jZpm7RN2iZtk7ZJ27kn+90bNAfNQXPQHDQHzUFz0Bw0B81Bc9AcNAfN517s9/+/YClYCpaCpWApWAqWgqVgKVgKloKlYClYCpaC5dyH+/XpO13nnuxgF/Z+3jvZlf12Xbvxns6z7M1+u64G9mQv9uF+fZpOV+JKXIkrcSWuxJW4ElfiSlyJK3ElrsSVuBLXz/7+/KsYK8aKsWKsGCvGirFirBgrxoqxYqwYK8aKsWKsGCvGehrdr0/H6T33Yk92sAt7P++d7Mp+v1678Z7Os+zNfnuvBvZkL/Zx72/vtV+fv315G96Gt+FteBvehrfhbXgb3oa34W14G96Gt+FteBvehrdxnjvnuXOeO+e5c54757lznjvnuXOeO+e5c54757lznjvnuXOeO+e5c54757lznjvnGWNiTIyJMTEmxsSYGBNjYkyMiTExJsbEmBgTY2JMXBvXxrVxbVwb18a1cW1cG9fGtXFtXBvXxrVxbVwb18b1fv669wf3/uDeH9z7g3t/cO8P7v3BvT+49wf3/uDeH9z7g3t/cO8P7v3BvT+497EElsASWAJLYAksgSWwBJbAElgCS2AJLIHF5knzpHnSPGmeNE+aJ82T5knzpHnSPGmeNNu2aFu0LdoWbYu2RduibdG2aFu0LdpsOGg4aDhoOGg4aDhoOGg4aDho4Hd+fw5e3+8G3+8G3+++93+n9SBS",
        "encoding": "base64",
        "path": [
         "positions",
         "compressed_buffer"
        ]
       }
      ],
      "model_module": "k3d",
      "model_module_version": "2.7.0",
      "model_name": "ObjectModel",
      "state": {
       "_view_count": null,
       "_view_module": null,
       "_view_module_version": "",
       "_view_name": null,
       "color": 10075135,
       "colors": {
        "compressed_buffer": {},
        "dtype": "uint32",
        "shape": [
         0
        ]
       },
       "compression_level": 0,
       "id": 140035889954000,
       "mesh_detail": 2,
       "model_matrix": {
        "compressed_buffer": {},
        "dtype": "float32",
        "shape": [
         4,
         4
        ]
       },
       "name": null,
       "opacity": 1,
       "point_size": 0.1,
       "positions": {
        "compressed_buffer": {},
        "dtype": "float32",
        "shape": [
         300,
         3
        ]
       },
       "shader": "3dSpecular",
       "type": "Points",
       "visible": true
      }
     },
     "f881a5667751470980482bf91a27afd0": {
      "model_module": "@jupyter-widgets/output",
      "model_module_version": "1.0.0",
      "model_name": "OutputModel",
      "state": {
       "layout": "IPY_MODEL_2bfc5644ec7642fcad61bd6841fa71fc",
       "outputs": [
        {
         "data": {
          "application/vnd.jupyter.widget-view+json": {
           "model_id": "a62e71ea60b54b9ab31599a67e2449dc",
           "version_major": 2,
           "version_minor": 0
          },
          "text/plain": "Plot(antialias=3, axes=['x', 'y', 'z'], axes_helper=1.0, background_color=16777215, camera=[4.5, 4.5, 4.5, 0.0…"
         },
         "metadata": {},
         "output_type": "display_data"
        }
       ]
      }
     },
     "fa92491df3944c6c814d4a5ae2655a17": {
      "model_module": "@jupyter-widgets/base",
      "model_module_version": "1.2.0",
      "model_name": "LayoutModel",
      "state": {}
     },
     "fac8554a7cdb4477986b67515cdb9edd": {
      "model_module": "k3d",
      "model_module_version": "2.7.0",
      "model_name": "PlotModel",
      "state": {
       "_backend_version": "2.7.0",
       "_dom_classes": [],
       "_view_count": null,
       "antialias": 3,
       "axes": [
        "x",
        "y",
        "z"
       ],
       "axes_helper": 1,
       "background_color": 16777215,
       "camera": [
        178.37844914807036,
        -268.17251318435166,
        12.562038533530174,
        -0.2419357848984518,
        -0.2419357848984518,
        -5.299999959766865,
        0,
        0,
        1
       ],
       "camera_auto_fit": true,
       "camera_fov": 60,
       "camera_no_pan": false,
       "camera_no_rotate": false,
       "camera_no_zoom": false,
       "clipping_planes": [],
       "colorbar_object_id": -1,
       "fps_meter": false,
       "grid": [
        -1,
        -1,
        -1,
        1,
        1,
        1
       ],
       "grid_auto_fit": true,
       "grid_visible": true,
       "height": 512,
       "layout": "IPY_MODEL_7befcbb8dc0146a09501b4d8fd35a8b7",
       "lighting": 1.5,
       "menu_visibility": true,
       "name": null,
       "object_ids": [
        140693222760592
       ],
       "rendering_steps": 1,
       "screenshot": "",
       "screenshot_scale": 2,
       "time": 0,
       "voxel_paint_color": 0
      }
     },
     "fcb78b443901451ab11477b9c651569e": {
      "model_module": "@jupyter-widgets/base",
      "model_module_version": "1.2.0",
      "model_name": "LayoutModel",
      "state": {}
     }
    },
    "version_major": 2,
    "version_minor": 0
   }
  }
 },
 "nbformat": 4,
 "nbformat_minor": 2
}
